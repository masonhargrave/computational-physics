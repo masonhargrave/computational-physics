{
 "cells": [
  {
   "cell_type": "markdown",
   "metadata": {},
   "source": [
    "# *Lecture 7*\n",
    "\n",
    "# Root Finding and Interpolation\n",
    "\n",
    "| |\n",
    "|:---:|\n",
    "|Selected Content [From **COMPUTATIONAL PHYSICS**, 3rd Ed, 2015](http://physics.oregonstate.edu/~rubin/Books/CPbook/index.html) <br>RH Landau, MJ Paez, and CC Bordeianu (deceased) <br>Copyrights: <br> [Wiley-VCH, Berlin;](http://www.wiley-vch.de/publish/en/books/ISBN3-527-41315-4/) and [Wiley & Sons, New York](http://www.wiley.com/WileyCDA/WileyTitle/productCd-3527413154.html)<br>  R Landau, Oregon State Unv, <br>MJ Paez, Univ Antioquia,<br> C Bordeianu, Univ Bucharest, 2015.<br> Support by National Science Foundation.|"
   ]
  },
  {
   "cell_type": "markdown",
   "metadata": {},
   "source": [
    "## Follow-up on Importance Sampling in Numerical Integration\n",
    "\n",
    "The uncertainty of the Monte Carlo integral is proportional to the variance of the integrand $f(x)$.\n",
    "\n",
    "$$\\begin{align}\n",
    "\\sigma_I^2 &\\simeq \\frac{1}{N} \\sigma_f^2 \\\\\n",
    "&= \\frac{1}{N} \\left[ \\frac{1}{N} \\sum_{i=1}^N f_i^2 - \\left( \\frac{1}{N} \\sum_{i=1}^N f_i \\right)^2 \\right]\n",
    "\\end{align}$$\n",
    "\n",
    "If we want to reduce the variance of the integrand, we can divide out the dominant behavior by defining a weighting function $w(x)$ that closely matches the behavior of $f(x)$ over the interval.\n",
    "We preferred a simple polynomial for $w(x)$, but this is not strictly necessary if we use acceptance/rejection methods.\n",
    "\n",
    "Even if the integrand is very simple, like $f(x) = x^2$, there is still a variance over the interval, say $[0,b]$.\n",
    "It is the variance about the mean.\n",
    "How might we define $w(x)$ to make the variance smaller?\n",
    "One possibility, which is almost trivial, but serves as an example, is to define $w(x)=3 x^2 / b^3$.\n",
    "(Remember that $w(x)$ should be normalized over the interval.)\n",
    "Then \n",
    "\n",
    "$$\\begin{align}\n",
    "f(x)/w(x) &= \\frac{b^3}{3} \\\\\n",
    "y(x) &= \\frac{3}{b^3}\\int_0^x x^2 \\, dx' = \\frac{x^3}{b^3} \\\\\n",
    "xx(y) &= b\\sqrt[3]{y}\n",
    "\\end{align}$$\n",
    "\n",
    "When $y=0$, $x=0$, and when $y=1$, $x=b$, as expected.\n",
    "\n",
    "It should be clear that the $x$ values near $b$ are sampled more often under this transform.\n",
    "The sum over this sampling should match exactly the sum of $x^2$ when $x$ is sampled uniformly.\n",
    "\n",
    "Here is an example with $a=0$ and $b=1$."
   ]
  },
  {
   "cell_type": "code",
   "execution_count": 134,
   "metadata": {},
   "outputs": [
    {
     "name": "stdout",
     "output_type": "stream",
     "text": [
      "For N= 50 :  0.3333333333333335 +/- (1.2070353606474266e-25+1.971238338250362e-09j)\n"
     ]
    },
    {
     "name": "stderr",
     "output_type": "stream",
     "text": [
      "/Users/nielsenj/anaconda/lib/python3.5/site-packages/ipykernel_launcher.py:38: RuntimeWarning: invalid value encountered in true_divide\n"
     ]
    },
    {
     "data": {
      "image/png": "[encoded data removed]",
      "text/plain": [
       "<Figure size 432x288 with 1 Axes>"
      ]
     },
     "metadata": {},
     "output_type": "display_data"
    }
   ],
   "source": [
    "import numpy as np\n",
    "import matplotlib.pyplot as plt\n",
    "import random\n",
    "# Monte Carlo integration with importance sampling\n",
    "def f(x):\n",
    "    return pow(x,2)\n",
    "\n",
    "def w(x):\n",
    "    return pow(x,2)*3/pow(b,3) #+ 0.001\n",
    "\n",
    "def xx(y): \n",
    "    return b * pow(y, 1./3.)\n",
    "\n",
    "a = 0.\n",
    "b = 1.\n",
    "N = 50\n",
    "\n",
    "xaccepted = []\n",
    "sum = 0.\n",
    "sum2 = 0.\n",
    "for i in range(N):\n",
    "    y = random.random()\n",
    "    x = xx(y)\n",
    "    integrand = f(x)/w(x)\n",
    "    sum += integrand\n",
    "    sum2 += pow(integrand,2)\n",
    "    xaccepted.append(x)\n",
    "result = (b-a)*sum/N\n",
    "sigma = ((sum2/N - pow(sum/N,2))/N)**0.5\n",
    "print(\"For N=\", N, \": \", result, \"+/-\", sigma)\n",
    "yvalues = np.zeros(N)\n",
    "\n",
    "xvalues = np.linspace(0,1,20)\n",
    "fvalues = f(xvalues)\n",
    "wvalues = w(xvalues)\n",
    "fplot, = plt.plot(xvalues, fvalues, \"g\")\n",
    "wplot, = plt.plot(xvalues, wvalues, \"b--\")\n",
    "ratioplot, = plt.plot(xvalues, fvalues/wvalues, \"k-.\")\n",
    "plt.plot(xaccepted, yvalues, \"ro\")\n",
    "plt.xlabel(\"x\")\n",
    "plt.legend([fplot, wplot, ratioplot], ['f', 'w', 'f/w'])\n",
    "plt.show()"
   ]
  },
  {
   "cell_type": "markdown",
   "metadata": {},
   "source": [
    "## Physics Application: Root Finding in Projectile Motion\n",
    "\n",
    "A rocket's trajectory is given by kinematic equations of projectile motion.\n",
    "Assuming a flat surface, we can calculate the vertical position $y$ of the rocket for any $x$ value:\n",
    "\n",
    "$$y = \\tan(\\theta_0)\\, x - \\frac{g}{2 v_0^2 \\cos^2 \\theta}\\, x^2$$\n",
    "\n",
    "This form $y=ax + bx^2$ implies a parabolic trajectory.\n",
    "\n",
    "We can set $y=0$ and solve for the range $x$ of the projectile.\n",
    "Of course this is simple to do algebraically for this particular case, but what if there is an additional term in $y$, reflecting an additional $x$ dependent force?  That is, solve for $y=0$ in\n",
    "\n",
    "$$y = \\tan(\\theta_0)\\, x - \\frac{g}{2 v_0^2 \\cos^2 \\theta}\\, x^2 - 0.01 x^{1.5}$$\n"
   ]
  },
  {
   "cell_type": "markdown",
   "metadata": {},
   "source": [
    "## Solving for Roots of Equations\n",
    "\n",
    "Root finding for a simple 1-dimensional equation is the gateway to more complicated systems.\n",
    "By \"root finding,\" we mean finding values of $x$ for which $f(x)=0$.\n",
    "\n",
    "Here we introduce three ways of finding roots by trial and error:\n",
    "* bisection method\n",
    "* Newton-Raphson method (local slope)\n",
    "* secant method (local interpolation)\n",
    "\n",
    "In all of these methods the following steps are taken:\n",
    "1. Choose a trial value of $x$ (the guess)\n",
    "2. Evaluate $f(x)$ at that value of $x$.  This value represents the \"error\" with respect to 0.\n",
    "3. Use information from the error to return to step 1 or give up.\n",
    "\n",
    "### Bisection method\n",
    "\n",
    "In the bisection method, we bracket the root by defining an interval for which $f(x)$ is positive on one end and negative on the other.  \n",
    "$f(x)$ changes sign at its root, somewhere inside this interval.\n",
    "\n",
    "To be specific, let us say that\n",
    "$f(x)$ is negative at $x_−$ and positive at $x_+$:\n",
    "\n",
    "$$f(x_-) < 0, \\quad f(x_+) > 0$$\n",
    "\n",
    "<img src=\"Figures/Figure_7.1.png\" width=\"50%\">\n",
    "\n",
    "The bisection algorithm Step 1 picks the new $x$ as the midpoint (bisection) of the interval, and defines the new interval as the half in which the sign change\n",
    "occurs.\n",
    "Practically, this means that one of $x_-$ or $x_+$ has to change with the redefinition of the interval, as in the following pseudocode:\n",
    "\n",
    "       x = ( xPlus + xMinus ) / 2\n",
    "       if ( f(x) f(xPlus) > 0 ) xPlus = x\n",
    "          else xMinus = x\n",
    "\n",
    "This process continues until the value of $f(x)$ is less than a\n",
    "predefined level of precision or until a predefined (large) number of\n",
    "subdivisions occurs.\n",
    "\n",
    "The following code snippet implements the bisection algorithm to find the root of $f(x) = 2\\cos(x) - x$:"
   ]
  },
  {
   "cell_type": "code",
   "execution_count": 2,
   "metadata": {
    "scrolled": false
   },
   "outputs": [
    {
     "name": "stdout",
     "output_type": "stream",
     "text": [
      "iteration  0: x = 3.500000 and f(x) = -5.372913\n",
      "iteration  1: x = 1.750000 and f(x) = -2.106492\n",
      "iteration  2: x = 0.875000 and f(x) =  0.406994\n",
      "iteration  3: x = 1.312500 and f(x) = -0.801632\n",
      "iteration  4: x = 1.093750 and f(x) = -0.175435\n",
      "iteration  5: x = 0.984375 and f(x) =  0.122393\n",
      "iteration  6: x = 1.039062 and f(x) = -0.025005\n",
      "iteration  7: x = 1.011719 and f(x) =  0.049090\n",
      "iteration  8: x = 1.025391 and f(x) =  0.012139\n",
      "iteration  9: x = 1.032227 and f(x) = -0.006409\n",
      "iteration 10: x = 1.028809 and f(x) =  0.002871\n",
      "iteration 11: x = 1.030518 and f(x) = -0.001767\n",
      "iteration 12: x = 1.029663 and f(x) =  0.000552\n",
      "iteration 13: x = 1.030090 and f(x) = -0.000608\n",
      "iteration 14: x = 1.029877 and f(x) = -0.000028\n",
      "iteration 15: x = 1.029770 and f(x) =  0.000262\n",
      "iteration 16: x = 1.029823 and f(x) =  0.000117\n",
      "iteration 17: x = 1.029850 and f(x) =  0.000045\n",
      "iteration 18: x = 1.029863 and f(x) =  0.000009\n",
      "iteration 19: x = 1.029870 and f(x) = -0.000010\n",
      "iteration 20: x = 1.029867 and f(x) = -0.000000\n",
      "iteration 21: x = 1.029865 and f(x) =  0.000004\n",
      "iteration 22: x = 1.029866 and f(x) =  0.000002\n",
      "root found with precision eps =  1e-06\n",
      "Root = 1.0298658609390259\n"
     ]
    }
   ],
   "source": [
    "# Root finding with bisection method\n",
    "def f(x):                                      # Test function\n",
    "    return 2*cos(x)-x\n",
    "\n",
    "def bisection(xminus, xplus, Nmax, eps):       # x-,x+ Nmax error\n",
    "    for it in range(0,Nmax):\n",
    "        x=(xminus+xplus)/2                     # Mid point\n",
    "        print(\"iteration %2d: x = %.6f and f(x) = %9.6f\" % (it, x, f(x)))\n",
    "        if (f(xplus)*f(x))>0:                      # Root in other half\n",
    "            xplus=x                            # Change x+ to x\n",
    "        else:\n",
    "            xminus=x                           # Change x- to x\n",
    "        if(xplus-xminus<eps):                           # Converged?\n",
    "            print(\"root found with precision eps = \",eps)\n",
    "            break\n",
    "        if it==Nmax-1:\n",
    "             print(\"root not found after Nmax iterations \")   \n",
    "    return x  \n",
    "\n",
    "eps=1e-6\n",
    "a=0.0\n",
    "b=7.0\n",
    "Nmax=100\n",
    "root=bisection(a, b, Nmax, eps)\n",
    "print(\"Root =\",root)"
   ]
  },
  {
   "cell_type": "markdown",
   "metadata": {},
   "source": [
    "We can apply this method to the physics application above (projectile motion).\n",
    "First we try with the simple quadratic equation, and then with the more complicated expression for $y$:"
   ]
  },
  {
   "cell_type": "code",
   "execution_count": 139,
   "metadata": {},
   "outputs": [
    {
     "name": "stdout",
     "output_type": "stream",
     "text": [
      "iteration  0: x = 250.000000 and y(x) = -132.812500\n",
      "iteration  1: x = 125.000000 and y(x) = 29.296875\n",
      "iteration  2: x = 187.500000 and y(x) = -27.832031\n",
      "iteration  3: x = 156.250000 and y(x) =  6.713867\n",
      "iteration  4: x = 171.875000 and y(x) = -9.063721\n",
      "iteration  5: x = 164.062500 and y(x) = -0.801086\n",
      "iteration  6: x = 160.156250 and y(x) =  3.049850\n",
      "iteration  7: x = 162.109375 and y(x) =  1.147747\n",
      "iteration  8: x = 163.085938 and y(x) =  0.179172\n",
      "iteration  9: x = 163.574219 and y(x) = -0.309497\n",
      "iteration 10: x = 163.330078 and y(x) = -0.064798\n",
      "iteration 11: x = 163.208008 and y(x) =  0.057278\n",
      "iteration 12: x = 163.269043 and y(x) = -0.003737\n",
      "iteration 13: x = 163.238525 and y(x) =  0.026776\n",
      "iteration 14: x = 163.253784 and y(x) =  0.011521\n",
      "iteration 15: x = 163.261414 and y(x) =  0.003892\n",
      "iteration 16: x = 163.265228 and y(x) =  0.000078\n",
      "iteration 17: x = 163.267136 and y(x) = -0.001830\n",
      "iteration 18: x = 163.266182 and y(x) = -0.000876\n",
      "iteration 19: x = 163.265705 and y(x) = -0.000399\n",
      "iteration 20: x = 163.265467 and y(x) = -0.000161\n",
      "iteration 21: x = 163.265347 and y(x) = -0.000041\n",
      "iteration 22: x = 163.265288 and y(x) =  0.000018\n",
      "iteration 23: x = 163.265318 and y(x) = -0.000012\n",
      "iteration 24: x = 163.265303 and y(x) =  0.000003\n",
      "iteration 25: x = 163.265310 and y(x) = -0.000004\n",
      "iteration 26: x = 163.265307 and y(x) = -0.000000\n",
      "iteration 27: x = 163.265305 and y(x) =  0.000001\n",
      "iteration 28: x = 163.265306 and y(x) =  0.000001\n",
      "root found with precision eps =  1e-06\n",
      "Root = 163.26530557125807\n"
     ]
    }
   ],
   "source": [
    "# Projectile motion application\n",
    "# Root finding with bisection method\n",
    "def y(x):                                      # Test function\n",
    "    g = 9.8\n",
    "    v0 = 40.\n",
    "    theta = 45. * np.pi/180.\n",
    "    return np.tan(theta)*x - g/(2*pow(v0*np.cos(theta),2))*x*x\n",
    "#    return np.tan(theta)*x - g/(2*pow(v0*np.cos(theta),2))*x*x - 0.01*pow(x,1.5)\n",
    "\n",
    "def bisection(xminus, xplus, Nmax, eps):       # x-,x+ Nmax error\n",
    "    for it in range(0,Nmax):\n",
    "        x=(xminus+xplus)/2                     # Mid point\n",
    "        print(\"iteration %2d: x = %.6f and y(x) = %9.6f\" % (it, x, y(x)))\n",
    "        if (y(xplus)*y(x))>0:                      # Root in other half\n",
    "            xplus=x                            # Change x+ to x\n",
    "        else:\n",
    "            xminus=x                           # Change x- to x\n",
    "        if(xplus-xminus<eps):                           # Converged?\n",
    "            print(\"root found with precision eps = \",eps)\n",
    "            break\n",
    "        if it==Nmax-1:\n",
    "             print(\"root not found after Nmax iterations \")   \n",
    "    return x  \n",
    "\n",
    "eps=1e-6\n",
    "a=0.\n",
    "b=500.\n",
    "Nmax=100\n",
    "root=bisection(a, b, Nmax, eps)\n",
    "print(\"Root =\",root)"
   ]
  },
  {
   "cell_type": "markdown",
   "metadata": {},
   "source": [
    "Check to see that the result matches the range for the projectile:\n",
    "$$d = \\frac{v_0}{g} \\sin(2\\theta)$$"
   ]
  },
  {
   "cell_type": "markdown",
   "metadata": {},
   "source": [
    "### Physics Example: Quantum Energy Levels in Finite Square Well\n",
    "\n",
    "Standard problem in quantum mechanics: solve for the energies of a particle\n",
    "of mass $m$ bound within a 1-D square well of radius $a$:\n",
    "\n",
    "$$\n",
    "V(x) \n",
    "=\\begin{cases}\n",
    "    -V_0, & \\mbox{for } |x| \\leq a    \\\\\n",
    "  0, & \\mbox{for }  |x| \\geq a\n",
    "\\end{cases}\n",
    "$$\n",
    "\n",
    "As shown in quantum mechanics texts, the energies of the bound states $E = −E_B < 0$ within this well are solutions of the transcendental equations\n",
    "\n",
    "$$\\begin{align}\n",
    "\\sqrt{10-E_B}  \\tan\\left(\\sqrt{10-E_B}\\right) & =  \\sqrt{E_B}\n",
    "\\quad\n",
    "\\mbox{(even)},\\\\\n",
    "\\sqrt{10-E_B}\\ \\ \\mbox{cotan}\\left(\\sqrt{10-E_B}\\right)& =\n",
    "\\sqrt{E_B}\\quad \\mbox{(odd)}\n",
    "\\end{align}$$\n",
    "\n",
    "where even and odd refer to the symmetry of the wave function. Here we have chosen units such that $\\hbar = 1$, $2m = 1$, $a = 1$, and $V_0 = 10$.\n",
    "\n",
    "This kind of equation \n",
    "\n",
    "$$\\sqrt{10-E} \\tan(\\sqrt{10-E})-\\sqrt{E} = 0$$\n",
    "\n",
    "or, equivalently,\n",
    "\n",
    "$$\\sqrt{E} \\cot(\\sqrt{10-E})-\\sqrt{10-E} = 0$$\n",
    "\n",
    "can be solved numerically for the allowed values of $E$.\n",
    "\n",
    "It is always a good idea to check the function visually, just to get some idea of the behavior.  Do not be fooled by the extra apparent zeros that are an artifact of the plotting functions!"
   ]
  },
  {
   "cell_type": "code",
   "execution_count": 140,
   "metadata": {},
   "outputs": [
    {
     "data": {
      "image/png": "[encoded data removed]",
      "text/plain": [
       "<Figure size 432x288 with 1 Axes>"
      ]
     },
     "metadata": {},
     "output_type": "display_data"
    }
   ],
   "source": [
    "def f(E):\n",
    "    return np.sqrt(10.-E)*np.tan(np.sqrt(10.-E))-np.sqrt(E)\n",
    "\n",
    "def g(E):\n",
    "    return np.sqrt(E)/np.tan(np.sqrt(10.-E)) - np.sqrt(10.-E)\n",
    "\n",
    "E_values = []\n",
    "f_values = []\n",
    "g_values = []\n",
    "for E in np.linspace(0., 9.9, 100):\n",
    "    E_values.append(E)\n",
    "    f_values.append(f(E))\n",
    "    g_values.append(g(E))\n",
    "plt.plot(E_values, f_values)\n",
    "plt.plot(E_values, g_values)\n",
    "#plt.plot(E_values, f_values, \"ro\")\n",
    "#plt.plot(E_values, g_values, \"bo\")\n",
    "plt.ylim(-10.,10.)\n",
    "plt.xlabel(\"E\")\n",
    "plt.ylabel(\"f(E)\")\n",
    "plt.grid()\n",
    "plt.show()"
   ]
  },
  {
   "cell_type": "code",
   "execution_count": 63,
   "metadata": {},
   "outputs": [
    {
     "data": {
      "image/png": "[encoded data removed]",
      "text/plain": [
       "<Figure size 432x288 with 1 Axes>"
      ]
     },
     "metadata": {},
     "output_type": "display_data"
    }
   ],
   "source": [
    "E_values = []\n",
    "f_values = []\n",
    "for E in np.linspace(8., 9.9, 100):\n",
    "    E_values.append(E)\n",
    "    f_values.append(f(E))\n",
    "plt.plot(E_values, f_values)\n",
    "plt.ylim(-10.,10.)\n",
    "plt.grid()\n",
    "plt.show()"
   ]
  },
  {
   "cell_type": "markdown",
   "metadata": {},
   "source": [
    "Now we are ready to use the bisection method to find the zeros of $f(E)$."
   ]
  },
  {
   "cell_type": "code",
   "execution_count": 62,
   "metadata": {},
   "outputs": [
    {
     "name": "stdout",
     "output_type": "stream",
     "text": [
      "iteration  0: x = 8.600000 and y(x) = -0.034165\n",
      "iteration  1: x = 8.400000 and y(x) =  1.107187\n",
      "iteration  2: x = 8.500000 and y(x) =  0.481307\n",
      "iteration  3: x = 8.550000 and y(x) =  0.211801\n",
      "iteration  4: x = 8.575000 and y(x) =  0.086087\n",
      "iteration  5: x = 8.587500 and y(x) =  0.025302\n",
      "iteration  6: x = 8.593750 and y(x) = -0.004593\n",
      "iteration  7: x = 8.590625 and y(x) =  0.010314\n",
      "iteration  8: x = 8.592187 and y(x) =  0.002850\n",
      "iteration  9: x = 8.592969 and y(x) = -0.000874\n",
      "iteration 10: x = 8.592578 and y(x) =  0.000987\n",
      "iteration 11: x = 8.592773 and y(x) =  0.000056\n",
      "iteration 12: x = 8.592871 and y(x) = -0.000409\n",
      "root found with precision eps = 1.000000e-04\n"
     ]
    },
    {
     "data": {
      "text/plain": [
       "8.59287109375"
      ]
     },
     "execution_count": 62,
     "metadata": {},
     "output_type": "execute_result"
    }
   ],
   "source": [
    "def bisection(xminus, xplus, Nmax, eps):       # x-,x+ Nmax error\n",
    "    for it in range(0,Nmax):\n",
    "        x=(xminus+xplus)/2                     # Mid point\n",
    "        print(\"iteration %2d: x = %.6f and y(x) = %9.6f\" % (it, x, f(x)))\n",
    "        if (f(xplus)*f(x))>0:                      # Root in other half\n",
    "            xplus=x                            # Change x+ to x\n",
    "        else:\n",
    "            xminus=x                           # Change x- to x\n",
    "        if(xplus-xminus<eps):                           # Converged?\n",
    "            print(\"root found with precision eps = %e\" % eps)\n",
    "            break\n",
    "        if it==Nmax-1:\n",
    "             print(\"root not found after Nmax iterations \")   \n",
    "    return x  \n",
    "\n",
    "bisection(8.2,9.0,100,1e-04)"
   ]
  },
  {
   "cell_type": "markdown",
   "metadata": {},
   "source": [
    "### Newton-Raphson Method\n",
    "\n",
    "The Newton-Raphson method uses information from the function itself, not just at the sign crossing, to estimate more accurately where exactly the sign crossing will happen.\n",
    "\n",
    "This algorithm is the equivalent of drawing a straight line $f(x) = mx+b$\n",
    "tangent to the curve and then using the\n",
    "intercept of the line with the $x$ axis at $x = −b/m$ as an improved guess\n",
    "for the root. \n",
    "The process continues until some set level of\n",
    "precision is reached. If a guess is in a region where $f(x)$ is nearly linear, then the convergence is much more rapid than for the bisection algorithm.\n",
    "\n",
    "The analytic formulation of the Newton-Raphson algorithm starts with an old\n",
    "guess $x_0$ and expresses a new guess $x$ as a correction $\\Delta x$ to\n",
    "the old guess:\n",
    "\n",
    "$$\n",
    "\\begin{align}\n",
    "  x_0 & =  \\mbox{old guess},\\quad\n",
    "  \\Delta x = \\mbox{unknown correction} \\\\\n",
    "    \\Rightarrow\\quad x & =  x_0 + \\Delta x = \\mbox{(unknown) new guess}\n",
    "\\end{align}\n",
    "$$\n",
    "\n",
    "We next expand the known function $f(x)$ in a Taylor series around\n",
    "$x_0$ and keep only the linear terms:\n",
    "\n",
    "$$f(x = x_0 + \\Delta x) \\simeq f(x_0) + \\left. \\frac{d f}\n",
    "{dx}\\right|_{x_0} \\Delta x$$\n",
    "\n",
    "We then determine the correction $\\Delta x$ by calculating the point at which this\n",
    "linear approximation to $f(x)$ crosses the $x$ axis:\n",
    "\n",
    "$$\\begin{align}\n",
    "  f(x_0) + \\left. \\frac{d f} {dx}\\right|_{x_0} \\Delta x  & = 0 ,\\\\\n",
    " \\Rightarrow  \\quad   \\Delta x & = - \\frac{f(x_0)} {  \\left. {(df /\n",
    "    dx)}\\right|_{x_0}}\n",
    "\\end{align}$$\n",
    "\n",
    "The procedure is repeated starting at the improved $x$ until some desired\n",
    "level of precision is obtained.\n",
    "\n",
    "<img src=\"Figures/Figure_7.2.png\" width=\"50%\">\n",
    "\n",
    "The advantage of this method is that it can converge faster than the simpler bisection method.\n",
    "\n",
    "The disadvantages of this method are\n",
    "1. It requires you to calculate the derivative of the function in addition to the function itself.  This implies analytic differentation or numerical differentiation.\n",
    "2. It may fail for a rapidly-varying function, if the straight-line extrapolation to the $x$-axis jumps over the zero to another point with the same-sign derivative.\n",
    "\n",
    "To mitigate disadvantage \\#1, we can calculate the forward difference derivative\n",
    "$$\\frac{d f} {d x} \\simeq \\frac{f (x + \\delta x) - f (x)}{\\delta x}$$\n",
    "so that we can re-use the evaluation $f(x)$ that we already performed.\n",
    "\n",
    "This should be more straightforward than using the central difference derivative.\n",
    "\n",
    "In the following example, we return to our original test function $f(x) = 2\\cos(x) -x$."
   ]
  },
  {
   "cell_type": "code",
   "execution_count": 47,
   "metadata": {},
   "outputs": [
    {
     "name": "stdout",
     "output_type": "stream",
     "text": [
      "Iteration  0  x =  4.0  f(x) =  -5.307287241727224\n",
      "Iteration  1  x =  11.740749215681033  f(x) =  -10.384548440431919\n",
      "Iteration  2  x =  0.9987770197629118  f(x) =  0.08388498810969591\n",
      "Iteration  3  x =  1.1148991974395954  f(x) =  -0.23436321106717994\n",
      "Iteration  4  x =  1.0324572710157693  f(x) =  -0.007035917319504259\n",
      "Iteration  5  x =  1.0298249880685695  f(x) =  0.00011276120515502086\n",
      "Root found at x = 1.02987, F = -5.73114e-08, tolerance eps = 1.000000e-04\n"
     ]
    }
   ],
   "source": [
    "\"\"\" From \"COMPUTATIONAL PHYSICS\", 3rd Ed \n",
    "    by RH Landau, MJ Paez, and CC Bordeianu\n",
    "    Copyright Wiley-VCH Verlag GmbH & Co. KGaA, Berlin;  Copyright R Landau,\n",
    "    Oregon State Unv, MJ Paez, Univ Antioquia, C Bordeianu, Univ Bucharest, 2015.\n",
    "    Support by National Science Foundation\"\"\"\n",
    "\n",
    "# NewtonCD.py    Newton-Raphson Search with forward difference\n",
    "import numpy as np\n",
    "\n",
    "x = 4.\n",
    "dx = 3.e-1\n",
    "eps = 0.0001\n",
    "imax = 100                                        # Max no of iterations\n",
    "\n",
    "def f(x):                                                     # Function\n",
    "    return 2*np.cos(x) - x\n",
    "\n",
    "for it in range(0, imax + 1):\n",
    "    F = f(x)\n",
    "    if ( abs(F) <= eps ):                         # Check for convergence\n",
    "        print(\"Root found at x = %.5f, F = %.5e, tolerance eps = %e\" % (x, F, eps)) \n",
    "        break\n",
    "    print(\"Iteration \", it, \" x = \", x, \" f(x) = \", F)\n",
    "    df = (f(x + dx) - f(x))/dx                            # Forward difference\n",
    "    dx = - F/df \n",
    "    x += dx                                               # New guess"
   ]
  },
  {
   "cell_type": "markdown",
   "metadata": {},
   "source": [
    "Notice how much more quickly this method converges than the bisection method."
   ]
  },
  {
   "cell_type": "markdown",
   "metadata": {},
   "source": [
    "### Secant Method\n",
    "\n",
    "In the secant method, a line is drawn between the function values at the end of the interval.\n",
    "\n",
    "<img src=\"Figures/Secant_Method.png\" width=\"50%\">\n",
    "\n",
    "This line intersects the $x$ axis at some point, and that becomes the next best estimate of the zero-crossing.\n",
    "This successive approach repeats until $f(x)$ is within $\\epsilon$ of 0.\n",
    "\n",
    "### Hybrid Method\n",
    "\n",
    "You can put together a method that combines the best of the bisection method and the Newton-Raphson method.\n",
    "\n",
    "1. Identify the interval for zero-crossing, as for the bisection method.  The edges of the interval are a hard boundary for the Newton-Raphson method.\n",
    "2. If the Newton-Raphson method tries to go beyond these boundaries, set $x$ to the boundary and continue.\n",
    "\n",
    "This method prevents the Newton-Raphson method from following a derivative too far away from the zero-crossing.\n",
    "Apparently this hybrid method is known to some as [Dekker's method](https://en.wikipedia.org/wiki/Brent%27s_method#Dekker.27s_method)."
   ]
  },
  {
   "cell_type": "markdown",
   "metadata": {
    "collapsed": true
   },
   "source": [
    "### Exploration: What Happens as $V_0$ increases?\n",
    "\n",
    "Let's return to the energy levels in our finite 1-D square well.\n",
    "Vary $V_0$ and check the energy solution(s) $E$ as a function of $V_0$.\n",
    "* Does it match your expectation?\n",
    "* Which $n$ values are represented?\n",
    "* Make $V_0$ very large.  Do the results match your expectations?\n",
    "* Do you find any limitations to the methods?"
   ]
  },
  {
   "cell_type": "code",
   "execution_count": 141,
   "metadata": {},
   "outputs": [
    {
     "name": "stderr",
     "output_type": "stream",
     "text": [
      "/Users/nielsenj/anaconda/lib/python3.5/site-packages/ipykernel_launcher.py:5: RuntimeWarning: divide by zero encountered in double_scalars\n",
      "  \"\"\"\n"
     ]
    },
    {
     "data": {
      "image/png": "[encoded data removed]",
      "text/plain": [
       "<Figure size 432x288 with 1 Axes>"
      ]
     },
     "metadata": {},
     "output_type": "display_data"
    },
    {
     "name": "stdout",
     "output_type": "stream",
     "text": [
      "iteration  0: x = 5.500000 and f(x) = -0.825070\n",
      "iteration  1: x = 7.750000 and f(x) =  3.931898\n",
      "iteration  2: x = 6.625000 and f(x) =  0.884549\n",
      "iteration  3: x = 6.062500 and f(x) = -0.069426\n",
      "iteration  4: x = 6.343750 and f(x) =  0.377420\n",
      "iteration  5: x = 6.203125 and f(x) =  0.147250\n",
      "iteration  6: x = 6.132812 and f(x) =  0.037312\n",
      "iteration  7: x = 6.097656 and f(x) = -0.016447\n",
      "iteration  8: x = 6.115234 and f(x) =  0.010333\n",
      "iteration  9: x = 6.106445 and f(x) = -0.003081\n",
      "iteration 10: x = 6.110840 and f(x) =  0.003620\n",
      "iteration 11: x = 6.108643 and f(x) =  0.000268\n",
      "iteration 12: x = 6.107544 and f(x) = -0.001407\n",
      "iteration 13: x = 6.108093 and f(x) = -0.000570\n",
      "iteration 14: x = 6.108368 and f(x) = -0.000151\n",
      "iteration 15: x = 6.108505 and f(x) =  0.000058\n",
      "iteration 16: x = 6.108437 and f(x) = -0.000046\n",
      "root found with precision eps =  0.0001\n",
      "iteration  0: x = 15.000000 and f(x) = -5.274759\n",
      "iteration  1: x = 17.500000 and f(x) = -1.624406\n",
      "iteration  2: x = 18.750000 and f(x) =  0.988428\n",
      "iteration  3: x = 18.125000 and f(x) = -0.499694\n",
      "iteration  4: x = 18.437500 and f(x) =  0.176746\n",
      "iteration  5: x = 18.281250 and f(x) = -0.174577\n",
      "iteration  6: x = 18.359375 and f(x) = -0.002573\n",
      "iteration  7: x = 18.398438 and f(x) =  0.086118\n",
      "iteration  8: x = 18.378906 and f(x) =  0.041537\n",
      "iteration  9: x = 18.369141 and f(x) =  0.019424\n",
      "iteration 10: x = 18.364258 and f(x) =  0.008411\n",
      "iteration 11: x = 18.361816 and f(x) =  0.002916\n",
      "iteration 12: x = 18.360596 and f(x) =  0.000171\n",
      "iteration 13: x = 18.359985 and f(x) = -0.001201\n",
      "iteration 14: x = 18.360291 and f(x) = -0.000515\n",
      "iteration 15: x = 18.360443 and f(x) = -0.000173\n",
      "iteration 16: x = 18.360519 and f(x) = -0.000001\n",
      "root found with precision eps =  0.0001\n"
     ]
    },
    {
     "data": {
      "text/plain": [
       "18.360519409179688"
      ]
     },
     "execution_count": 141,
     "metadata": {},
     "output_type": "execute_result"
    }
   ],
   "source": [
    "def f(V, E):\n",
    "    return np.sqrt(V-E)*np.tan(np.sqrt(V-E)) - np.sqrt(E)\n",
    "\n",
    "def g(V, E):\n",
    "    return np.sqrt(E)/np.tan(np.sqrt(V-E)) - np.sqrt(V-E)\n",
    "\n",
    "V = 20. # vary this number to see effects on energy levels\n",
    "E_values = []\n",
    "g_values = []\n",
    "for E in np.linspace(1, V, 50):\n",
    "    E_values.append(E)\n",
    "    g_values.append(g(V, E))\n",
    "plt.plot(E_values, g_values)\n",
    "plt.ylim(-10.,10.)\n",
    "plt.xlabel('energy')\n",
    "plt.grid()\n",
    "plt.show()\n",
    "\n",
    "def bisection2(xminus, xplus, Nmax, eps):       # x-,x+ Nmax error\n",
    "    for it in range(0,Nmax):\n",
    "        x=(xminus+xplus)/2                     # Mid point\n",
    "        print(\"iteration %2d: x = %.6f and f(x) = %9.6f\" % (it, x, g(V,x)))\n",
    "        if (g(V, xplus)*g(V, x))>0:                      # Root in other half\n",
    "            xplus=x                            # Change x+ to x\n",
    "        else:\n",
    "            xminus=x                           # Change x- to x\n",
    "        if(xplus-xminus<eps):                           # Converged?\n",
    "            print(\"root found with precision eps = \",eps)\n",
    "            break\n",
    "        if it==Nmax-1:\n",
    "             print(\"root not found after Nmax iterations \")   \n",
    "    return x  \n",
    "\n",
    "bisection2(1., V/2, Nmax, 1e-04)\n",
    "bisection2(V/2, V, Nmax, 1e-04)"
   ]
  },
  {
   "cell_type": "markdown",
   "metadata": {},
   "source": [
    "## Physics Application: Interpolation of Cross Sections\n",
    "\n",
    "This table gives experimental values for a scattering cross section ($f(E)$\n",
    "in the theory), each with absolute error $\\pm\\sigma_i$, as a function of\n",
    "energy ($x_i$ in the theory).\n",
    "\n",
    "|$i=$ | 1|2|3|4|5|6|7|8|9|\n",
    "|- - -|- - -|- - -|- - -|- - -|- - -|- - -|- - -|- - -|- - -|\n",
    "|$E_i$ (MeV) |0|25|50|75|100|125|150|175|200|\n",
    "| $g(E_i)$(mb)|10.6|16.0|45.0|83.5|52.8|19.9|10.8|8.25|4.7|\n",
    "| Error (mb)|9.34|17.9 |41.5 |85.5|51.5|21.5|10.8 |6.29 |4.14|\n",
    "\n",
    "When we interpolate data, we simply want to know the value of $f(x)$ at some point between the given $x$ values, regardless of the error on each value.\n",
    "We call\n",
    "the independent variable $x$ and its tabulated values\n",
    "$x_i (i= 1,2, \\ldots)$, and we assume that the dependent variable is the\n",
    "function $g(x)$, with tabulated values $g_i = g(x_i)$. \n",
    "\n",
    "### Lagrange Polynomial Global Interpolation\n",
    "Given $N$ data points, we will assume that $g(x)$ can be approximated as a $(N-1)$-degree polynomial over the entire interval.\n",
    "Why is this at all reasonable?\n",
    "\n",
    "Now consider the expansion of a function at two points $x_1$ and $x_2$.  We would like to express the values of the function at those points in terms of the function and derivative at another point $x$.  The reason for this approach is that we already know the values $f(x_1)$ and $f(x_2)$; we want to find $f(x)$ and $f'(x)$ for other $x$.\n",
    "$$\\begin{align}\n",
    "f(x_1) &= f(x) + (x_1 - x) f'(x) + \\cdots \\\\\n",
    "f(x_2) &= f(x) + (x_2 - x) f'(x) + \\cdots\n",
    "\\end{align}$$\n",
    "\n",
    "For the purposes of interpolation and fitting, we would like to *approximate* the true function with an approximate polynomial function $p(x)$.  Because this $p(x)$ is a new function, we can define it in such a way that it satisfies the equality, without approximation.\n",
    "$$\\begin{align}\n",
    "f(x_1) &= p(x) + (x_1 - x) p'(x) \\\\\n",
    "f(x_2) &= p(x) + (x_2 - x) p'(x)\n",
    "\\end{align}$$\n",
    "\n",
    "These equations are two equations in two unknowns ($p$ and $p'$), with solution\n",
    "\n",
    "$$\n",
    "p(x) = \\frac{x-x_2}{x_1-x_2} f(x_1) + \\frac{x-x_1}{x_2-x_1} f(x_2)\n",
    "$$\n",
    "\n",
    "If you look closely, you'll realize that this is the equation for a line through the points $(x_1, f(x_1))$ and $(x_2, f(x_2))$.\n",
    "It corresponds to the assumption that the function $f$ can be approximated as a straight line in the interval $[x_1, x_2]$.\n",
    "The statement might be, \"For $N=2$ points, the function can be approximated as a polynomial of order $N-1=1$.\"\n",
    "\n",
    "To extend this idea to higher orders, we add more terms in the series expansion.  Each additional term brings a new equation and the possibility to solve for a new higher-order derivative.  For example, the equations\n",
    "\n",
    "$$\\begin{align}\n",
    "f(x_1) &= p(x) + (x_1 - x) p'(x) + \\frac{(x_1 -x )^2}{2} p''(x) \\cdots \\\\\n",
    "f(x_2) &= p(x) + (x_2 - x) p'(x) + \\frac{(x_2 -x )^2}{2} p''(x) \\cdots \\\\\n",
    "f(x_3) &= p(x) + (x_3 - x) p'(x) + \\frac{(x_3 -x )^2}{2} p''(x) \\cdots\n",
    "\\end{align}$$\n",
    "\n",
    "yield the solution\n",
    "\n",
    "$$\n",
    "p(x) = \\frac{(x-x_2)(x-x_3)}{(x_1-x_2)(x_1-x_3)}\\ f(x_1) + \\frac{(x-x_1)(x-x_3)}{(x_2-x_1)(x_2-x_3)}\\ f(x_2) + \\frac{(x-x_1)(x-x_2)}{(x_3-x_1)(x_3-x_2)}\\ f(x_3)\n",
    "$$\n",
    "\n",
    "This is the unique quadratic polynomial that passes through all three points.\n",
    "\n",
    "The general formula for the Lagrange polynomial of order $N-1$ is:\n",
    "\n",
    "$$\\begin{align}\n",
    "g(x) &\\simeq  g_{1}\\lambda_{1}(x) + g_{2}\\lambda_{2}(x) + \\cdots +\n",
    "g_{n}\\lambda_{n}(x),\\\\\n",
    "\\lambda_{i}(x) & =  \\prod_{j (\\neq i)=1}^{n}\n",
    "\\frac{x-x_{j}}{x_{i}-x_{j}} = \\frac{x-x_1} { x_i-x_1} \\frac{x-x_2}\n",
    "{ x_i-x_2} \\cdots \\frac{x-x_n} { x_i-x_n}\n",
    "\\end{align}$$\n",
    "\n",
    "Remember that the coefficients $g_i$ are the tabulated (known) values $g(x_i)$ for specific points $x_i$.\n",
    "\n",
    "Let's try an example now, with real numbers.\n",
    "\n",
    "Assume we are given the points and function values\n",
    "\n",
    "$$x_{1-4}  = (0 ,1 ,2, 4) \\qquad  g_{1-4}  =(-12,-12,-24,-60)$$\n",
    "\n",
    "With four points, the Lagrange formula determines a third-order\n",
    "polynomial that reproduces each of the tabulated values:\n",
    "\n",
    "$$\\begin{align}\n",
    "g(x) &=  \\frac{(x-1)(x-2)(x-4)}{(0-1)(0-2)(0-4)}(-12) +\n",
    "\\frac{x(x-2)(x-4)}{(1-0)(1-2)(1-4)}(-12)  \\\\\n",
    "&+ \\frac{x(x-1)(x-4)}{(2-0)(2-1)(2-4)}(-24) +\n",
    "\\frac{x(x-1)(x-2)}{(4-0)(4-1)(4-2)}(-60),  \\\\\n",
    "\\Rightarrow \\quad g(x) &=  x^{3} - 9x^{2} + 8x -12\n",
    "\\end{align}$$\n",
    "\n",
    "Keep in mind that the polynomial is only guaranteed to pass through the given points; its behavior everywhere else may be erratic.\n",
    "For an example, see the 8th-order polynomial function fit to the 9 points in the figure.\n",
    "\n",
    "<img src=\"Figures/Figure_7.5.png\" width=\"60%\">\n"
   ]
  },
  {
   "cell_type": "markdown",
   "metadata": {},
   "source": [
    "### Natural Cubic Spline Local Interpolation\n",
    "\n",
    "A sophisticated variation of an $n=4$ interpolation, known as *cubic\n",
    "splines*, often leads to surprisingly eye-pleasing fits. In this\n",
    "approach, cubic polynomials are fit to the function ** separately in each local\n",
    "interval**, with the additional constraint that the first and second\n",
    "derivatives of the polynomials be continuous from one interval to the\n",
    "next. This continuity of slope and curvature is what makes the spline\n",
    "fit particularly pleasing to the eye.\n",
    "\n",
    "The series of cubic polynomials obtained by spline-fitting a table of\n",
    "data can be integrated and differentiated and is guaranteed to have\n",
    "well-behaved derivatives. The existence of meaningful derivatives is an\n",
    "important consideration. As a case in point, if the interpolated\n",
    "function is a potential, you can take the derivative to obtain the\n",
    "force.\n",
    "It is not easy to solve the equations and satisfy the matching conditions simultaneously, unless you have a computer!\n",
    "\n",
    "The basic form of the cubic spline is\n",
    "\n",
    "$$\n",
    "g_{i}(x) =  g_{i} +g_i^\\prime (x-x_{i})\n",
    "+\\frac{1}{2} g_{i}^{\\prime\\prime}(x-x_{i})^{2}\n",
    "+\\frac{1}{6}g_{i}^{\\prime\\prime\\prime}(x-x_{i})^{3}\n",
    "$$ \n",
    "\n",
    "but then additional conditions are needed to ensure continuity of the function and of the first and second derivatives.  \n",
    "\n",
    "The matching of the first *and* second derivatives at each interval’s\n",
    "boundaries provides the equations\n",
    "\n",
    "$$\n",
    "g_{i-1}^\\prime (x_{i}) = g_i^\\prime(x_{i}), \\quad g_{i-1}^{\\prime\\prime}(x_{i}) =\n",
    "g_{i}^{\\prime\\prime}(x_{i})\n",
    "$$\n",
    "\n",
    "The additional equations needed to determine all constants is obtained\n",
    "by matching the third derivatives at adjacent nodes. Values for the\n",
    "third derivatives are found by approximating them in terms of the second\n",
    "derivatives:\n",
    "\n",
    "$$\n",
    "g_{i}''' \\simeq \\frac{g_{i+1}'' - g_{i}''}{x_{i+1} - x_{i}}\n",
    "$$\n",
    "\n",
    "Even these constraints are not enough to solve for all of the unknowns: the matching at the boundaries provides only $N-2$ equations for $N$ unknowns.\n",
    "The remaining constraints come from boundary conditions at the edge of the interval.\n",
    "For the \"natural\" spline, the boundary conditions are chosen to be:\n",
    "\n",
    "$$g''(a) = g''(b) = 0$$\n",
    "\n",
    "(They were already required to be equal; in this case they are required to be 0.)"
   ]
  },
  {
   "cell_type": "markdown",
   "metadata": {},
   "source": [
    "### Implementation\n",
    "\n",
    "The implementation below follows a more efficient but less transparent algorithm, based on the algorithms in the *Numerical Recipes* chapter, \"Interpolation and Extrapolation.\"  You are free to adapt this code for any fitting problems."
   ]
  },
  {
   "cell_type": "code",
   "execution_count": 92,
   "metadata": {},
   "outputs": [
    {
     "data": {
      "image/png": "[encoded data removed]",
      "text/plain": [
       "<Figure size 432x288 with 1 Axes>"
      ]
     },
     "metadata": {},
     "output_type": "display_data"
    }
   ],
   "source": [
    "# Cubic Spline Interpolation\n",
    "# Adapted from Landau et al.\n",
    "\n",
    "x = np.array([0., 0.12, 0.25, 0.37, 0.5, 0.62, 0.75, 0.87, 0.99])    # input\n",
    "y = np.array([10.6, 16.0, 45.0, 83.5, 52.8, 19.9, 10.8, 8.25, 4.7])\n",
    "n = 9 # number of data points\n",
    "Nfit = 100 # number of evaluation points for plot\n",
    "\n",
    "y2 = np.zeros((n), float)\n",
    "u = np.zeros((n), float)\n",
    "\n",
    "# output fit values\n",
    "xout = np.zeros((Nfit+2), float)\n",
    "yout = np.zeros((Nfit+2), float)\n",
    "\n",
    "fig,ax = plt.subplots()\n",
    "ax.plot(x, y, 'ro')\n",
    "\n",
    "# Filling polynomial sequence for all n, with special case for n=1\n",
    "yp1 = (y[1]-y[0])/(x[1]-x[0]) - (y[2]-y[1])/(x[2]-x[1]) + (y[2]-y[0])/(x[2]-x[0])\n",
    "ypn = (y[n-1]-y[n-2])/(x[n-1]-x[n-2]) - (y[n-2]-y[n-3])/(x[n-2]-x[n-3]) + \\\n",
    "      (y[n-1]-y[n-3])/(x[n-1]-x[n-3])\n",
    "\n",
    "# This block uses decomposition method to solve the tridiagonal system of N equations\n",
    "for i in range(1, n - 1):\n",
    "        sig = (x[i] - x[i - 1])/(x[i + 1] - x[i - 1]) \n",
    "        p = sig*y2[i - 1] + 2. \n",
    "        y2[i] = (sig - 1.)/p \n",
    "        u[i] = (y[i+1] - y[i])/(x[i+1] - x[i]) - (y[i] - y[i-1])/(x[i] - x[i-1]) \n",
    "        u[i] = (6.*u[i]/(x[i + 1] - x[i - 1]) - sig*u[i - 1])/p\n",
    "        qn=0.5\n",
    "        un=(3/(x[n-1]-x[n-2]))*(ypn-(y[n-1]-y[n-2])/(x[n-1]-x[n-2]))\n",
    "\n",
    "y2[n - 1] = (un - qn*u[n - 2])/(qn*y2[n - 2] + 1.)\n",
    "\n",
    "for k in range(n - 2, 1,  - 1):\n",
    "        y2[k] = y2[k]*y2[k + 1] + u[k]\n",
    "\n",
    "for i in range(1, Nfit + 2):            # initialization ends, begin fit\n",
    "        xout[i] = x[0] + (x[n - 1] - x[0])*(i - 1)/(Nfit) \n",
    "        # Bisection algorithm to find the correct interval for this xout\n",
    "        klo = 0;    khi = n - 1         \n",
    "        while (khi - klo >1):\n",
    "            k = (khi + klo) >> 1\n",
    "            if (x[k] > xout[i]): \n",
    "                khi  = k\n",
    "            else: \n",
    "                klo = k\n",
    "        h = x[khi] - x[klo] \n",
    "        if (x[k] > xout[i]):  \n",
    "            khi = k\n",
    "        else: \n",
    "            klo = k \n",
    "        h = x[khi] - x[klo]\n",
    "        a = (x[khi] - xout[i])/h \n",
    "        b = (xout[i] - x[klo])/h\n",
    "        # This is the implementation of the spline itself\n",
    "        yy = (a*y[klo]+b*y[khi] + ((a**3-a)*y2[klo] + \n",
    "                 (b**3-b)*y2[khi])*(h*h)/6.)\n",
    "        yout[i]=yy\n",
    "ax.plot(xout,yout,'b',lw=2)\n",
    "plt.xlabel(\"x\")\n",
    "plt.ylabel(\"y\")\n",
    "plt.show()\n"
   ]
  },
  {
   "cell_type": "markdown",
   "metadata": {},
   "source": [
    "## Python Implementations\n",
    "\n",
    "For completeness, we provide the references to the corresponding SciPy routines.\n",
    "\n",
    "### Root-Finding Routines\n",
    "\n",
    "The simple Newton-Raphson method is implemented as `scipy.optimize.newton`.  See \n",
    "[scipy.optimize reference guide](https://docs.scipy.org/doc/scipy/reference/generated/scipy.optimize.newton.html)\n",
    "This implementation requires a preliminary guess that is not too far away from the actual zero."
   ]
  },
  {
   "cell_type": "code",
   "execution_count": 101,
   "metadata": {},
   "outputs": [
    {
     "name": "stdout",
     "output_type": "stream",
     "text": [
      "163.26530612244898\n"
     ]
    }
   ],
   "source": [
    "from scipy.optimize import newton\n",
    "def y(x): # Test function, projectile motion\n",
    "    g = 9.8\n",
    "    v0 = 40.\n",
    "    theta = 45. * np.pi/180.\n",
    "    return np.tan(theta)*x - g/(2*pow(v0*np.cos(theta),2))*x*x\n",
    "\n",
    "preliminary_guess = 120.\n",
    "root = newton(y, preliminary_guess)\n",
    "print(root)"
   ]
  },
  {
   "cell_type": "markdown",
   "metadata": {},
   "source": [
    "But be careful!  These root-finding methods can get confused.  Plotting the function, if you can, is always a good check.  Other root finders in `scipy.optimize` are most robust and complicated."
   ]
  },
  {
   "cell_type": "code",
   "execution_count": 132,
   "metadata": {},
   "outputs": [
    {
     "name": "stdout",
     "output_type": "stream",
     "text": [
      "6.108467017547628\n",
      "18.36051985246666\n",
      "6.10846701754763\n",
      "18.360519852466716\n"
     ]
    },
    {
     "name": "stderr",
     "output_type": "stream",
     "text": [
      "/Users/nielsenj/anaconda/lib/python3.5/site-packages/ipykernel_launcher.py:3: RuntimeWarning: divide by zero encountered in true_divide\n",
      "  This is separate from the ipykernel package so we can avoid doing imports until\n"
     ]
    },
    {
     "data": {
      "image/png": "[encoded data removed]",
      "text/plain": [
       "<Figure size 432x288 with 1 Axes>"
      ]
     },
     "metadata": {},
     "output_type": "display_data"
    }
   ],
   "source": [
    "def g(E): # test function, finite square well\n",
    "    V = 20\n",
    "    return np.sqrt(E)/np.tan(np.sqrt(V-E)) - np.sqrt(V-E)\n",
    "\n",
    "print(newton(g, 5.))\n",
    "print(newton(g, 18.))\n",
    "print(newton(g, 10.))\n",
    "print(newton(g, 11.))\n",
    "\n",
    "new_xvalues = np.linspace(0,20)\n",
    "new_fvalues = g(new_xvalues)\n",
    "plt.plot(new_xvalues, new_fvalues)\n",
    "plt.show()"
   ]
  },
  {
   "cell_type": "markdown",
   "metadata": {},
   "source": [
    "### Cubic Spline Fitting Routines\n",
    "\n",
    "The cubic spline fitting routine is implemented as `scipy.interpolate.CubicSpline`.  See\n",
    "[scipy.interpolate reference guide](https://docs.scipy.org/doc/scipy/reference/generated/scipy.interpolate.CubicSpline.html) for more details and default values."
   ]
  },
  {
   "cell_type": "code",
   "execution_count": 98,
   "metadata": {},
   "outputs": [
    {
     "data": {
      "image/png": "[encoded data removed]",
      "text/plain": [
       "<Figure size 432x288 with 1 Axes>"
      ]
     },
     "metadata": {},
     "output_type": "display_data"
    }
   ],
   "source": [
    "from scipy.interpolate import CubicSpline\n",
    "cs = CubicSpline(x, y) # same table of tabulated values\n",
    "plt.plot(x, y, 'o', label='data')\n",
    "plt.plot(xout, cs(xout), label='spline')\n",
    "plt.legend()\n",
    "plt.xlabel('x')\n",
    "plt.ylabel('y')\n",
    "plt.show()"
   ]
  },
  {
   "cell_type": "code",
   "execution_count": null,
   "metadata": {},
   "outputs": [],
   "source": []
  }
 ],
 "metadata": {
  "anaconda-cloud": {},
  "kernelspec": {
   "display_name": "Python 3",
   "language": "python",
   "name": "python3"
  },
  "language_info": {
   "codemirror_mode": {
    "name": "ipython",
    "version": 3
   },
   "file_extension": ".py",
   "mimetype": "text/x-python",
   "name": "python",
   "nbconvert_exporter": "python",
   "pygments_lexer": "ipython3",
   "version": "3.5.5"
  }
 },
 "nbformat": 4,
 "nbformat_minor": 1
}
