{
 "cells": [
  {
   "cell_type": "markdown",
   "metadata": {},
   "source": [
    "# *Lecture 2*\n",
    "# Errors & Uncertainties in Computations\n",
    "\n",
    "| |\n",
    "|:---:|\n",
    "|Selected content [From **COMPUTATIONAL PHYSICS**, 3rd Ed, 2015](http://physics.oregonstate.edu/~rubin/Books/CPbook/index.html) <br>RH Landau, MJ Paez, and CC Bordeianu (deceased) <br>Copyrights: <br> [Wiley-VCH, Berlin;](http://www.wiley-vch.de/publish/en/books/ISBN3-527-41315-4/) and [Wiley & Sons, New York](http://www.wiley.com/WileyCDA/WileyTitle/productCd-3527413154.html)<br>  R Landau, Oregon State Unv, <br>MJ Paez, Univ Antioquia,<br> C Bordeianu, Univ Bucharest, 2015.<br> Support by National Science Foundation.|\n"
   ]
  },
  {
   "cell_type": "markdown",
   "metadata": {},
   "source": [
    "## Follow-up on fixed point and floating-point representation\n",
    "\n",
    "### Machine Precision\n",
    "\n",
    "The limited precision of the representation can have a significant impact on numerical calculations.\n",
    "In floating-point addition, the bits of the two mantissas are shifted so that the numbers have the same exponents in the floating-point representation."
   ]
  },
  {
   "cell_type": "code",
   "execution_count": 1,
   "metadata": {},
   "outputs": [
    {
     "data": {
      "text/plain": [
       "1.000000000000001"
      ]
     },
     "execution_count": 1,
     "metadata": {},
     "output_type": "execute_result"
    }
   ],
   "source": [
    "1 + 1.0E-15"
   ]
  },
  {
   "cell_type": "code",
   "execution_count": 2,
   "metadata": {},
   "outputs": [
    {
     "data": {
      "text/plain": [
       "1.0"
      ]
     },
     "execution_count": 2,
     "metadata": {},
     "output_type": "execute_result"
    }
   ],
   "source": [
    "1 + 1.0E-16"
   ]
  },
  {
   "cell_type": "code",
   "execution_count": 14,
   "metadata": {},
   "outputs": [
    {
     "data": {
      "text/plain": [
       "100000001.0"
      ]
     },
     "execution_count": 14,
     "metadata": {},
     "output_type": "execute_result"
    }
   ],
   "source": [
    "100000000 + 1 + 1.0E-15"
   ]
  },
  {
   "cell_type": "markdown",
   "metadata": {},
   "source": [
    "This is a lot less of a problem with the 64-bit representation (Python `float` or C++ `double`), but still something to keep in mind.\n",
    "\n",
    "Our textbook definition of *machine precision* is \"the maximum positive number that, on the computer, can be added to the number stored as 1 without changing that stored 1.\"\n",
    "\n",
    "In other words, the machine precision $\\epsilon_\\text{m}$ is the largest $\\epsilon$ so that $1_\\text{c}+\\epsilon_\\text{m}=1_\\text{c}$."
   ]
  },
  {
   "cell_type": "markdown",
   "metadata": {},
   "source": [
    "### Printing high-precision numbers\n",
    "\n",
    "There are some interesting effects in Python that seem to contradict our expectations for the precision of `float`."
   ]
  },
  {
   "cell_type": "code",
   "execution_count": 3,
   "metadata": {},
   "outputs": [
    {
     "name": "stdout",
     "output_type": "stream",
     "text": [
      "9223372036854775807\n"
     ]
    }
   ],
   "source": [
    "maxint = pow(2,63)-1\n",
    "print(maxint)"
   ]
  },
  {
   "cell_type": "code",
   "execution_count": 4,
   "metadata": {},
   "outputs": [
    {
     "name": "stdout",
     "output_type": "stream",
     "text": [
      "9.223372e+18\n",
      "9223372036854775808.0\n",
      "9.2233720368547758080e+18\n"
     ]
    }
   ],
   "source": [
    "from numpy import float32\n",
    "maxint_as_float32 = float32(maxint)\n",
    "print(maxint_as_float32)\n",
    "print(\"%20.1f\" % maxint_as_float32)\n",
    "print(\"%20.19e\" % maxint_as_float32)"
   ]
  },
  {
   "cell_type": "markdown",
   "metadata": {},
   "source": [
    "This is strange because we expected the `float32` to have 23 bits of mantissa (6-7 bits of decimal precision).  This number has 17 bits of precision, similar to a `float64`!\n",
    "\n",
    "Did we misunderstand something about how Python handles floating-point numbers in the `print()` method?"
   ]
  },
  {
   "cell_type": "code",
   "execution_count": 5,
   "metadata": {},
   "outputs": [
    {
     "name": "stdout",
     "output_type": "stream",
     "text": [
      "9223372036854675808\n",
      "9.2233720368547758080e+18\n"
     ]
    }
   ],
   "source": [
    "almost_maxint = pow(2,63)-100000\n",
    "print(almost_maxint)\n",
    "almost_maxint_as_float32 = float32(almost_maxint)\n",
    "print(\"%20.19e\" % almost_maxint_as_float32)"
   ]
  },
  {
   "cell_type": "markdown",
   "metadata": {},
   "source": [
    "Compare the 32-bit floating point representations of these two integers that differ by 100000."
   ]
  },
  {
   "cell_type": "markdown",
   "metadata": {},
   "source": [
    "### Practicing floating-point representation\n",
    "\n",
    "It is good practice to go through the conversion from decimal to floating-point, and *vice versa*.\n",
    "\n",
    "**For the first example**, we'll write the maximum number possible in 32-bit floating-point representation.\n",
    "\n",
    "$$\n",
    " x_{\\textrm float} = (-1)^{s} \\times 1.f \\times 2^{e-{\\rm bias}}\n",
    "    ,$$\n",
    "\n",
    "Remember that we have the following 32-bit representation:\n",
    "\n",
    "| | *s* | *e* | *f* |\n",
    "|- - -|- - -|:- - -:|:- - -:|\n",
    "| Bit position| 31| 30 - 23| 22 -  0|\n",
    "\n",
    "The sign bit *s* is in bit position 31, the biased exponent *e* is in\n",
    "bits 30-23, and the fractional part of the mantissa *f* is in bits 22-0.\n",
    "\n",
    "The maximum possible number would have \n",
    "* positive sign (s=0)\n",
    "* e = 1111 1110 (254 in base 10) (255 is reserved for [\"subnormal numbers\"](http://mathworld.wolfram.com/SubnormalNumber.html))\n",
    "* p (adjusted exponent) = 254 - bias = 254 - 127 = 127\n",
    "* f = (1).1111 1111 1111 1111 1111 111\n",
    "\n",
    "Is there a good way to convert this f-value to decimal form X.XXXXX?\n",
    "I do not have a good Python function, but we can write a little code snippet to do it."
   ]
  },
  {
   "cell_type": "markdown",
   "metadata": {},
   "source": [
    "In this case, it's a long series of negative powers of 2: $1+\\frac{1}{2} + \\frac{1}{4} + \\cdots$.\n",
    "The f-value is approximately 2.\n",
    "\n",
    "And don't forget that the exponent is on 2, not 10.\n",
    "\n",
    "With all of the pieces put together, we have\n",
    "\n",
    "$$(-1)^s \\times 1.f\\times 2^{p=e-127}        \\simeq +2 \\times 2^{127} \\simeq 3.4 \\times 10^{38}.\\tag*{2.13}\n",
    "$$\n",
    "\n",
    "This matches our table from last time:\n",
    "\n",
    "|*Name*| *Type* | *Bits* | *Bytes*| *Range*| \n",
    "|- - -|- - -|- - -|- - -|- - -|\n",
    "|`int` |Integer | 32 | 4|-2,147,483,648 $\\leftrightarrow$ +2,147,483,647| \n",
    "|`float` |Floating | 32 | 4 |$\\pm 1.401298\\times 10^{-45} \\leftrightarrow \\pm 3.402923\\times 10^{+38}$| \n",
    "|`double`|Floating | 64 | 8 | $\\pm 4.94065645841246544\\times 10^{-324} \\leftrightarrow \\pm 1.7976931348623157\\times 10^{+308}$| "
   ]
  },
  {
   "cell_type": "markdown",
   "metadata": {},
   "source": [
    "**For the second example**, we'll convert two decimal numbers to the floating-point representation.\n",
    "\n",
    "An easy example is the number 2.125.  This can be written in powers of 2 as \n",
    "\n",
    "$$1 \\times 2^1 + 0 \\times 2^0 + 0 \\times 2^{-1} + 0 \\times 2^{-2} + 1 \\times 2^{-3}$$\n",
    "\n",
    "The binary representation is 10.001.\n",
    "\n",
    "This is not acceptable for the IEEE representation, which requires a 1 to the immediate left of the binary point.  (This 1 is the *phantom bit*.)\n",
    "\n",
    "$$10.001 = 1.0001 \\times 2^1$$\n",
    "\n",
    "The fields (32-bit definition) are then\n",
    "* s = 0\n",
    "* p = e - bias = 1\n",
    "* e = 128<sub>10</sub> = 0100 0000\n",
    "* f = (1).0001 = 0001 0000 0000 0000 0000 000\n",
    "\n",
    "Therefore\n",
    "2.125 = 0010 0000 0000 1000 0000 0000 0000 000\n",
    "\n",
    "**A more challenging example** is 1000.10.  (This is decimal, not binary!)\n",
    "\n",
    "Take some time to work through this now and write the IEEE 32-bit representation of this number."
   ]
  },
  {
   "cell_type": "code",
   "execution_count": null,
   "metadata": {
    "collapsed": true
   },
   "outputs": [],
   "source": []
  },
  {
   "cell_type": "markdown",
   "metadata": {},
   "source": [
    "Now we move to the material in Chapter 3.\n",
    "\n",
    "## Types of Errors\n",
    "\n",
    "Four general types of errors (the first two are trivial; the second two are important):\n",
    "\n",
    "**1. Blunders or bad theory:** typographical errors entered with your\n",
    "program or data, running the wrong program or having a fault in your\n",
    "reasoning (theory).\n",
    "\n",
    "**2. Random errors:** imprecision caused by events such as fluctuations\n",
    "in electronics, cosmic rays, or someone pulling a plug.\n",
    "\n",
    "**3. Approximation errors:** imprecision arising from simplifying the\n",
    "mathematics so that a problem can be solved on the computer. For example, \n",
    "\n",
    "$$\\begin{align}\n",
    "\\sin(x)  & =     \\sum_{n=1}^{\\infty}\n",
    "\\frac{(-1)^{n-1}x^{2n-1}}{(2n-1)!}\n",
    "\\quad\\mbox{(exact)}  \\\\\n",
    "   & \\simeq   \\sum_{n=1}^{N} \\frac{(-1)^{n-1}x^{2n-1}}{(2n-1)!} + {\\cal E}(x,N) \\quad \\mbox{(algorithm),}  \\tag*{3.2}\n",
    "   \\end{align}$$\n",
    "   \n",
    "For every reasonable approximation, the\n",
    "approximation error should decrease as $N$ increases and should vanish in the\n",
    "limit $N \\rightarrow \\infty$. In this case, obtaining a small approximation error requires large $N\\gg x$. So if $x$ and $N$\n",
    "are close in value, the approximation error will be large.\n",
    "\n",
    "**4. Round-off errors:** imprecision arising from the finite number of\n",
    "digits used to store floating-point numbers. The overall round-off\n",
    "error accumulates as the computer handles more numbers.\n",
    "\n",
    "For example, if your computer kept four decimal places, then it would store $\\frac\n",
    "{1}{3}$ as 0.3333 and $\\frac{2}{3}$ as 0.6667, where the computer has\n",
    "“rounded off” the last digit in $\\frac{2}{3}$.\n",
    "\n",
    "In practice, Python does the correct thing in this case."
   ]
  },
  {
   "cell_type": "code",
   "execution_count": 6,
   "metadata": {},
   "outputs": [
    {
     "data": {
      "text/plain": [
       "0.0"
      ]
     },
     "execution_count": 6,
     "metadata": {},
     "output_type": "execute_result"
    }
   ],
   "source": [
    "2*(1/3) - (2/3)"
   ]
  },
  {
   "cell_type": "code",
   "execution_count": 18,
   "metadata": {},
   "outputs": [
    {
     "name": "stdout",
     "output_type": "stream",
     "text": [
      "0.33333334 0.6666667 0.0\n"
     ]
    }
   ],
   "source": [
    "import numpy as np\n",
    "x = np.float32(1/3)\n",
    "y = np.float32(2/3)\n",
    "diff = np.float32(2*x - y)\n",
    "print(x, y, diff)"
   ]
  },
  {
   "cell_type": "markdown",
   "metadata": {},
   "source": [
    "The **roundoff error** depends completely on the representation of the number in the computer.  We absolutely expect that *there will be rounding at the least significant bits in the mantissa of a floating-point number*.\n",
    "\n",
    "(This is in contrast to **approximation error**, which depends more on the size of terms that are left off in the approximation, for example, of an infinite series.  You have control over the approximation error, but not over the roundoff error.)\n",
    "\n",
    "We will look at two cases of round-off error\n",
    "* effect of round-off error on subtraction\n",
    "* effect of round-off error on division\n"
   ]
  },
  {
   "cell_type": "markdown",
   "metadata": {},
   "source": [
    "\n",
    "### Effect of Roundoff Error on Subtractive Cancellation\n",
    "\n",
    "The computer representation\n",
    "$x_c$ of an exact number $x$ can be defined as\n",
    "\n",
    "$$x_c  \\simeq  x (1 +\\epsilon_{x}),$$\n",
    "  \n",
    "where $\\epsilon_x$ is the relative error in *$x_c$.\n",
    "(Our guess is that $\\epsilon_x$ is basically the machine precision.)\n",
    "Note that the $(1 +\\epsilon_{x})$ factor defines $\\epsilon_x$ as the *relative* error, as opposed to the *absolute* error.\n",
    "\n",
    "If we attempt to perform a simple subtraction\n",
    "$$a = b − c$$\n",
    "the computer will actually use the representations of $a, b, c$:\n",
    "\n",
    "$$\\begin{align}\n",
    "    a_{c}  & \\simeq  b_c - c_c \\\\\n",
    "    & \\simeq b(1 + \\epsilon_{b}) - c(1 +\n",
    "    \\epsilon_c)   \\\\\n",
    "    \\frac{a_c}{a} &   \\simeq  1 +\n",
    "    \\epsilon_{b} \\frac{b}{a} - \\frac{c}{a} \\epsilon_c\n",
    " \\end{align}$$\n",
    "The resulting error in $a$ is essentially a weighted average of the relative errors in $b$ and $c$.\n",
    "\n",
    "(This is not quite the same thing we would see if we were subtracting two numbers with experimental uncertainties.  In that case, error propagation theory tells us that the uncertainties add in quadrature, not as a weighted average.)\n",
    "\n",
    "For round-off error, the total uncertainty is 0 if the last two terms cancel, and this happens most easily if $b = c$ and $\\epsilon_b = \\epsilon_c$.  The problem is that we don't have any idea whether $\\epsilon_b = \\epsilon_c$ or not.  That all depends on the numbers themselves and their representation.\n",
    "\n",
    "**Exercise**: Think about the representations of 2.1250000 and 2.1249999.  Are the two representations likely to have similar round-off errors?\n",
    "\n",
    "Of special importance here is the observation that the\n",
    "error in the answer $a_c$ increases when we subtract two nearly\n",
    "equal numbers ($b \\simeq c$) because then we are subtracting off the most\n",
    "significant parts of both numbers and leaving the error-prone least-significant\n",
    "parts: \n",
    "\n",
    "$$\\begin{align}\n",
    "\\frac{a_c}{a} & =         1 + \\epsilon_{a} \\\\\n",
    "& \\simeq  1 + \\epsilon_{b} \\frac{b}{a} - \\frac{c}{a} \\epsilon_c \\\\\n",
    "& \\simeq 1+\n",
    "\\frac{b}{a}(\\epsilon_{b} - \\epsilon_{c})\\\\\n",
    "\\end{align}$$\n",
    "\n",
    " This shows that even if the relative errors in $b$ and $c$ cancel\n",
    "somewhat, they are multiplied by the large number $b/a$, which can\n",
    "significantly magnify the error. Because we cannot assume any sign for\n",
    "the errors, we must assume the worst \\[the “max” error\\].\n"
   ]
  },
  {
   "cell_type": "code",
   "execution_count": 19,
   "metadata": {
    "scrolled": true
   },
   "outputs": [
    {
     "data": {
      "text/plain": [
       "9.999999983634211e-08"
      ]
     },
     "execution_count": 19,
     "metadata": {},
     "output_type": "execute_result"
    }
   ],
   "source": [
    "2.1250000 - 2.1249999"
   ]
  },
  {
   "cell_type": "code",
   "execution_count": 22,
   "metadata": {},
   "outputs": [
    {
     "data": {
      "text/plain": [
       "0.375"
      ]
     },
     "execution_count": 22,
     "metadata": {},
     "output_type": "execute_result"
    }
   ],
   "source": [
    "2.500000000 - 2.1250000000"
   ]
  },
  {
   "cell_type": "code",
   "execution_count": 27,
   "metadata": {},
   "outputs": [
    {
     "data": {
      "text/plain": [
       "0.00010000000000021103"
      ]
     },
     "execution_count": 27,
     "metadata": {},
     "output_type": "execute_result"
    }
   ],
   "source": [
    "2.1250000 - 2.1249"
   ]
  },
  {
   "cell_type": "code",
   "execution_count": 31,
   "metadata": {},
   "outputs": [
    {
     "data": {
      "text/plain": [
       "9.999999983634211e-08"
      ]
     },
     "execution_count": 31,
     "metadata": {},
     "output_type": "execute_result"
    }
   ],
   "source": [
    "2.1250000 - 2.1249999"
   ]
  },
  {
   "cell_type": "code",
   "execution_count": 30,
   "metadata": {},
   "outputs": [
    {
     "data": {
      "text/plain": [
       "9.992007221626409e-14"
      ]
     },
     "execution_count": 30,
     "metadata": {},
     "output_type": "execute_result"
    }
   ],
   "source": [
    "2.1250000 - 2.1249999999999"
   ]
  },
  {
   "cell_type": "code",
   "execution_count": 1,
   "metadata": {},
   "outputs": [
    {
     "data": {
      "text/plain": [
       "-9.992007221626409e-14"
      ]
     },
     "execution_count": 1,
     "metadata": {},
     "output_type": "execute_result"
    }
   ],
   "source": [
    "2.1250000 - 2.1250000000001"
   ]
  },
  {
   "cell_type": "markdown",
   "metadata": {},
   "source": [
    "**Exercise**: Investigate the subtractive cancellation in the infinite series\n",
    "$$e^{-x} = 1 − x + x^2/2!−x^3/3!+ \\cdots$$"
   ]
  },
  {
   "cell_type": "markdown",
   "metadata": {},
   "source": [
    "### Effect of Round-off Error on Division\n",
    "\n",
    "The investigation of division is exactly parallel to the derivation for subtraction:\n",
    "\n",
    "$$\\begin{align}\n",
    "   a_{c} & = \\frac{b_{c}} {c_{c}} \\\\\n",
    "         & = \\frac{b(1+\\epsilon_{b})}{c(1 + \\epsilon_{c})}\\\\\n",
    "\\frac{a_{c}}{a}  & = \\frac{1+\\epsilon_{b}}{1 + \\epsilon_{c}} \\\\\n",
    " &\\simeq    (1 + \\epsilon_{b})(1 - \\epsilon_{c})\\\\\n",
    " &\\simeq 1+ \\epsilon_b -\\epsilon_c \\\\\n",
    " &\\simeq 1+ |\\epsilon_b| + |\\epsilon_c|\n",
    " \\end{align}$$\n",
    " \n",
    "The end result is that the round-off errors contribute linearly to the relative error on the product.  This makes sense because any digit in one factor is multipled by all of the other digits in the other factor.\n",
    "\n",
    "By carefully estimating the round-off error, we can see if the *round-off error* or the *approximation error* dominates in a calculation.\n",
    "\n",
    "For the most common infinite series (uniform convergent power series), one can add more terms to make the approximation error arbitrarily small.  But the *round-off error* will obviously come into play as the terms become smaller and smaller."
   ]
  },
  {
   "cell_type": "markdown",
   "metadata": {},
   "source": [
    "### Round-off Error Accumulation\n",
    "\n",
    "There is a useful model for approximating how round-off error\n",
    "accumulates in a calculation involving a large number of steps. \n",
    "Each step of a\n",
    "calculation can be viewed as a literal “step” in a *random walk* around the true value.\n",
    "This is because the numbers in the calculation can each have a large representation error or a small error.\n",
    "\n",
    "The\n",
    "total displacement $R$ after $N$ steps of length $r$, is, on the\n",
    "average,\n",
    "\n",
    "$$R \\simeq \\sqrt{N}  r$$\n",
    "\n",
    "By analogy, the total relative error $\\epsilon_\\textrm{ro}$ arising after $N$\n",
    "calculational steps, each with machine precision error $\\epsilon_m$, is on\n",
    "the average, \n",
    "$$\\epsilon_\\textrm{ro} \\simeq \\sqrt{N}      \\epsilon_{m} .$$"
   ]
  },
  {
   "cell_type": "code",
   "execution_count": 11,
   "metadata": {},
   "outputs": [
    {
     "data": {
      "image/png": "[encoded data removed]",
      "text/plain": [
       "<Figure size 432x288 with 1 Axes>"
      ]
     },
     "metadata": {},
     "output_type": "display_data"
    },
    {
     "name": "stdout",
     "output_type": "stream",
     "text": [
      "Displacement from origin is 27.79\n"
     ]
    }
   ],
   "source": [
    "% matplotlib inline\n",
    "# A 2D Random Walk\n",
    "import matplotlib.pyplot as plt\n",
    "import random\n",
    "import numpy as np\n",
    "\n",
    "this_N = 10000\n",
    "\n",
    "xvalues = []\n",
    "yvalues = []\n",
    "sum_of_R = 0\n",
    "\n",
    "x=0\n",
    "y=0 \n",
    "for i in range(0, this_N):\n",
    "    theta = random.uniform(0, 2*np.pi)\n",
    "    x += np.cos(theta)\n",
    "    y += np.sin(theta)\n",
    "    xvalues.append(x)\n",
    "    yvalues.append(y)\n",
    "    R=np.sqrt(x*x+y*y)\n",
    "\n",
    "plt.plot(xvalues, yvalues,'-', lw=2)\n",
    "plt.show()\n",
    "print(\"Displacement from origin is %.2f\" % R)\n"
   ]
  },
  {
   "cell_type": "markdown",
   "metadata": {},
   "source": [
    "**Exercise**: Now take this program and see what happens as `this_N` is increased.  This is $N$ from our equations.  Do you see $R$ increase as expected?  (Each $R$ is random, so you may have to run several trials for each `this_N` and take the average value of $R$.)"
   ]
  },
  {
   "cell_type": "markdown",
   "metadata": {},
   "source": [
    "### Analyzing Algorithms for Approximation and Round-Off Errors\n",
    "\n",
    "Let us assume that an algorithm takes *N* steps to find a good answer.\n",
    "This \"algorithm\" may be an iterative solver or simply a series approximation to a function.\n",
    "\n",
    "As a rule of thumb, the approximation error decreases\n",
    "rapidly, often as some inverse power of the number of terms used. \n",
    "\n",
    "$$\\epsilon_\\textrm{app} \\simeq   \\frac{\\alpha}{N^{\\beta}}.$$\n",
    "\n",
    "Here $\\alpha$ and $\\beta$ are some empirical constants that change for different\n",
    "algorithms.  You can think of this form in the context of a uniform convergent power series, like the exponential function:\n",
    "\n",
    "$$e^{-x} = 1 − x + \\frac{x^2}{2!}−\\frac{x^3}{3!} + \\cdots$$\n",
    "\n",
    "In contrast to algorithmic error, round-off error grows slowly and somewhat\n",
    "randomly with $N$ (the random walk!)\n",
    "\n",
    "$$\\epsilon_\\textrm{ro} \\simeq \\sqrt{N} \\epsilon_{m}$$\n",
    "\n",
    "The total error in a computation is the sum of the two types of errors:\n",
    "    \n",
    "$$\\begin{align}\n",
    "  \\epsilon_\\textrm{tot}   &=     \\epsilon_\\textrm{app}\n",
    "   + \\epsilon_\\textrm{ro}   \\\\\n",
    "  &   \\simeq  \\frac{\\alpha}{N^{\\beta}} + \\sqrt{N} \\epsilon_{m}\n",
    "\\end{align}$$\n",
    "\n",
    "For small $N$ we expect the approximation error to be the larger of the two.\n",
    "It should drop according to the power law above.\n",
    "But as $N$ grows, the approximation error will be overcome by the growing round-off error.\n",
    "\n",
    "Obviously we do not want to waste computer time calculating 1000 terms in a series if the round-off error becomes larger than the approximation error the extra terms are trying to fix.\n",
    "\n",
    "The basic approach is to\n",
    "* find out where the cross-over happens, and \n",
    "* cut off the approximation when the approximation error becomes negligible\n",
    "* check to see whether another algorithm would allow for faster cut-off\n",
    "\n",
    "Specifically, at some point you\n",
    "should see that the mantissa of the answer changes only in the less\n",
    "significant digits, with that place moving further to the right of the\n",
    "decimal point as the calculation executes more steps. Eventually,\n",
    "however, as the number of steps becomes even larger, round-off error\n",
    "leads to a fluctuation in the less significant digits, with a gradual\n",
    "move back toward the decimal point. It is best to quit the calculation before\n",
    "this occurs.\n",
    "\n",
    "<img src=\"Figures/Error_vs_N.png\" width=\"80%\">"
   ]
  },
  {
   "cell_type": "markdown",
   "metadata": {
    "collapsed": true
   },
   "source": [
    "It is also possible to adjust the algorithm itself to improve the convergence and avoid running into the \"round-off regime.\"\n",
    "\n",
    "In the next code snippet, we check the relative error of the exponential series for a large number of terms.\n",
    "The thing to remember is that this series is the expansion about $x=0$, so it behaves very well for $x<1$.  (Even though its radius of convergence is all real numbers, that assumes we have a perfect calculator with no round-off error.)"
   ]
  },
  {
   "cell_type": "code",
   "execution_count": 13,
   "metadata": {},
   "outputs": [
    {
     "name": "stdout",
     "output_type": "stream",
     "text": [
      "Exact answer is 0.000045\n",
      "N = 1\n",
      "1.0\n",
      "N = 2\n",
      "-9.0\n",
      "N = 3\n",
      "41.0\n",
      "N = 4\n",
      "-125.66666666666669\n",
      "N = 5\n",
      "291.00000000000006\n",
      "N = 6\n",
      "-542.3333333333335\n",
      "N = 7\n",
      "846.5555555555557\n",
      "N = 8\n",
      "-1137.571428571429\n",
      "N = 9\n",
      "1342.5873015873017\n",
      "N = 10\n",
      "-1413.144620811288\n",
      "N = 11\n",
      "1342.5873015873017\n",
      "N = 12\n",
      "-1162.6235369568708\n",
      "N = 13\n",
      "925.0521618299399\n",
      "N = 14\n",
      "-680.8522218522223\n",
      "N = 15\n",
      "466.22233792075076\n",
      "N = 16\n",
      "-298.49403526123126\n",
      "N = 17\n",
      "179.4536979775075\n",
      "N = 18\n",
      "-101.69202745704473\n",
      "N = 19\n",
      "54.50004222881762\n",
      "N = 20\n",
      "-27.70631023742571\n",
      "N = 21\n",
      "13.396865995695954\n",
      "N = 22\n",
      "-6.176075067695315\n",
      "N = 23\n",
      "2.720716324755262\n",
      "N = 24\n",
      "-1.1474538458754235\n",
      "N = 25\n",
      "0.4642837252206955\n",
      "N = 26\n",
      "-0.18041130321775212\n",
      "N = 27\n",
      "0.06754832310472775\n",
      "N = 28\n",
      "-0.024288575533227746\n",
      "N = 29\n",
      "0.008510316837470645\n",
      "N = 30\n",
      "-0.002799646048977077\n",
      "N = 31\n",
      "0.0009703415798388302\n",
      "N = 32\n",
      "-0.00024578346171468825\n",
      "N = 33\n",
      "0.00013425561377078626\n",
      "N = 34\n",
      "1.9092257563066713e-05\n",
      "N = 35\n",
      "5.296383291827835e-05\n",
      "N = 36\n",
      "4.328623995964645e-05\n",
      "N = 37\n",
      "4.597446022593309e-05\n",
      "N = 38\n",
      "4.524791420801778e-05\n",
      "N = 39\n",
      "4.543911052852181e-05\n",
      "N = 40\n",
      "4.539008583095667e-05\n",
      "N = 41\n",
      "4.5402342005347955e-05\n",
      "N = 42\n",
      "4.539935269452081e-05\n",
      "N = 43\n",
      "4.540006443519394e-05\n",
      "N = 44\n",
      "4.539989891410717e-05\n",
      "N = 45\n",
      "4.539993653253598e-05\n",
      "N = 46\n",
      "4.539992817288513e-05\n",
      "N = 47\n",
      "4.5399929990200534e-05\n",
      "N = 48\n",
      "4.5399929603537685e-05\n",
      "N = 49\n",
      "4.539992968409244e-05\n",
      "N = 50\n",
      "4.53999296676527e-05\n",
      "N = 51\n",
      "4.539992967094065e-05\n",
      "N = 52\n",
      "4.5399929670295957e-05\n",
      "N = 53\n",
      "4.5399929670419935e-05\n",
      "N = 54\n",
      "4.5399929670396543e-05\n",
      "N = 55\n",
      "4.5399929670400873e-05\n",
      "N = 56\n",
      "4.539992967040009e-05\n",
      "N = 57\n",
      "4.539992967040023e-05\n",
      "N = 58\n",
      "4.53999296704002e-05\n",
      "N = 59\n",
      "4.539992967040021e-05\n",
      "N = 60\n",
      "4.539992967040021e-05\n",
      "N = 61\n",
      "4.539992967040021e-05\n",
      "N = 62\n",
      "4.539992967040021e-05\n",
      "N = 63\n",
      "4.539992967040021e-05\n",
      "N = 64\n",
      "4.539992967040021e-05\n",
      "N = 65\n",
      "4.539992967040021e-05\n",
      "N = 66\n",
      "4.539992967040021e-05\n",
      "N = 67\n",
      "4.539992967040021e-05\n",
      "N = 68\n",
      "4.539992967040021e-05\n",
      "N = 69\n",
      "4.539992967040021e-05\n",
      "N = 70\n",
      "4.539992967040021e-05\n",
      "N = 71\n",
      "4.539992967040021e-05\n",
      "N = 72\n",
      "4.539992967040021e-05\n",
      "N = 73\n",
      "4.539992967040021e-05\n",
      "N = 74\n",
      "4.539992967040021e-05\n",
      "N = 75\n",
      "4.539992967040021e-05\n",
      "N = 76\n",
      "4.539992967040021e-05\n",
      "N = 77\n",
      "4.539992967040021e-05\n",
      "N = 78\n",
      "4.539992967040021e-05\n",
      "N = 79\n",
      "4.539992967040021e-05\n"
     ]
    },
    {
     "data": {
      "image/png": "[encoded data removed]",
      "text/plain": [
       "<Figure size 432x288 with 1 Axes>"
      ]
     },
     "metadata": {},
     "output_type": "display_data"
    }
   ],
   "source": [
    "# exponential_good.py\n",
    "# Calculate exp(-2)\n",
    "\n",
    "import matplotlib.pyplot as plt\n",
    "x=10.\n",
    "relative_errors = []\n",
    "N_values = []\n",
    "\n",
    "exact_answer = np.exp(-x)\n",
    "print(\"Exact answer is %f\" % exact_answer)\n",
    "\n",
    "for N in range (1, 80):\n",
    "    print(\"N = %d\" % N)\n",
    "    sum = 1.\n",
    "    term = 1.\n",
    "    for n in range (1, N):\n",
    "        term *= -x/n\n",
    "        sum += term\n",
    "    print(sum)\n",
    "    N_values.append(N)\n",
    "    relative_errors.append(abs((sum-exact_answer)/exact_answer))\n",
    "\n",
    "plt.plot(N_values, relative_errors)\n",
    "plt.xlabel('N')\n",
    "plt.ylabel('Relative Error')\n",
    "plt.yscale('log')\n",
    "plt.xscale('log')\n",
    "plt.show()"
   ]
  },
  {
   "cell_type": "markdown",
   "metadata": {},
   "source": [
    "**Exercise**: Repeat this exercise with $x=10$ instead of $x=0.5$.\n",
    "* Does the series converge to the right value?  How do you know?\n",
    "* If it does converge, is the rate of convergence the same as for $x=0.5$?\n",
    "* If it does not converge, explain why not."
   ]
  },
  {
   "cell_type": "markdown",
   "metadata": {},
   "source": [
    "**Exercise**: Repeat this exercise with `numpy.float32` instead of the Python 64-bit float.  \n",
    "* What do you expect to see?  \n",
    "* Check the plot\n",
    "* Where should you cut off your approximation?\n",
    "* Does the answer change if we use $x=10$ instead of $x=0.5$?  Try it!"
   ]
  },
  {
   "cell_type": "code",
   "execution_count": null,
   "metadata": {
    "collapsed": true
   },
   "outputs": [],
   "source": []
  }
 ],
 "metadata": {
  "anaconda-cloud": {},
  "kernelspec": {
   "display_name": "Python 3",
   "language": "python",
   "name": "python3"
  },
  "language_info": {
   "codemirror_mode": {
    "name": "ipython",
    "version": 3
   },
   "file_extension": ".py",
   "mimetype": "text/x-python",
   "name": "python",
   "nbconvert_exporter": "python",
   "pygments_lexer": "ipython3",
   "version": "3.5.5"
  }
 },
 "nbformat": 4,
 "nbformat_minor": 1
}
