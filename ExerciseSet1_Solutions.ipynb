{
 "cells": [
  {
   "cell_type": "markdown",
   "metadata": {},
   "source": [
    "# Problem #1\n",
    "\n",
    "## (a) Hello World\n",
    "\n",
    "The \"Hello World\" program is simple in Python 3:"
   ]
  },
  {
   "cell_type": "code",
   "execution_count": 1,
   "metadata": {},
   "outputs": [
    {
     "name": "stdout",
     "output_type": "stream",
     "text": [
      "Hello, World\n"
     ]
    }
   ],
   "source": [
    "print('Hello, World')"
   ]
  },
  {
   "cell_type": "markdown",
   "metadata": {},
   "source": [
    "## (b) Printing practice"
   ]
  },
  {
   "cell_type": "code",
   "execution_count": 2,
   "metadata": {},
   "outputs": [
    {
     "name": "stdout",
     "output_type": "stream",
     "text": [
      "1.9e+10\n",
      "\n"
     ]
    }
   ],
   "source": [
    "print('%.1e\\n' % 19000000000)"
   ]
  },
  {
   "cell_type": "code",
   "execution_count": 2,
   "metadata": {},
   "outputs": [
    {
     "name": "stdout",
     "output_type": "stream",
     "text": [
      "The value of the golden mean is 0.61803399\n"
     ]
    }
   ],
   "source": [
    "import numpy as np\n",
    "print ('The value of the golden mean is %.8f' % ((np.sqrt(5)-1)/2))"
   ]
  },
  {
   "cell_type": "markdown",
   "metadata": {},
   "source": [
    "Comments:     \n",
    "`%e` inserts a \"Floating point exponential format (lowercase)\" value  \n",
    "`%.1e` tells python to keep only one decimal place  \n",
    "`\\n` is the newline character, and inserts a blank line after the print statement. This would make the output neater if we were printing multiple lines. "
   ]
  },
  {
   "cell_type": "markdown",
   "metadata": {},
   "source": [
    "# Problem 2\n",
    "\n",
    "For this problem, we use `float64` for \"double precision\" and `float32` for \"single precision.\"\n",
    "\n",
    "## (a) Calculation in double precision\n",
    "\n",
    "We pick N=1000 rather arbitrarily.  Be careful with the ranges here, making sure to get n=1 and n=1000 in both sums."
   ]
  },
  {
   "cell_type": "code",
   "execution_count": 3,
   "metadata": {},
   "outputs": [
    {
     "name": "stdout",
     "output_type": "stream",
     "text": [
      "64-bit S^{up} =   7.4854708605503433\n",
      "64-bit S^{down} = 7.4854708605503406\n"
     ]
    }
   ],
   "source": [
    "N = 1000\n",
    "sum_up64 = np.float64(0.)\n",
    "sum_down64 = np.float64(0.)\n",
    "\n",
    "# We need to include term N, so extend the range by 1\n",
    "for n in range (1,N+1,1):\n",
    "    sum_up64 += np.float64(1./n)\n",
    "\n",
    "for n in range (N,0,-1):\n",
    "    sum_down64 += np.float64(1./n)\n",
    "\n",
    "print(\"64-bit S^{up} =   %.16f\" % sum_up64)\n",
    "print(\"64-bit S^{down} = %.16f\" % sum_down64)"
   ]
  },
  {
   "cell_type": "markdown",
   "metadata": {},
   "source": [
    "These seem to be the same, up to the machine precision (or close to it).\n",
    "\n",
    "## (b) Comparison of up and down"
   ]
  },
  {
   "cell_type": "code",
   "execution_count": 4,
   "metadata": {},
   "outputs": [
    {
     "name": "stdout",
     "output_type": "stream",
     "text": [
      "64-bit difference [up-down] is 2.664535e-15\n"
     ]
    }
   ],
   "source": [
    "print(\"64-bit difference [up-down] is %e\" % (sum_up64 - sum_down64))"
   ]
  },
  {
   "cell_type": "markdown",
   "metadata": {},
   "source": [
    "This is a more formal test than the quick check by eye in part (a).  The 64-bit result should count as \"high accuracy,\" because it is near the limit of 64-bit floating-point precision.\n",
    "\n",
    "## (c) Calculation with single precision\n",
    "\n",
    "Now we calculate the sums for different values of N."
   ]
  },
  {
   "cell_type": "code",
   "execution_count": 5,
   "metadata": {
    "scrolled": true
   },
   "outputs": [
    {
     "name": "stdout",
     "output_type": "stream",
     "text": [
      "For N = 100\n",
      "32-bit S^{up} =   5.1873779296875000\n",
      "32-bit S^{down} = 5.1873769760131836\n",
      "For N = 1000\n",
      "32-bit S^{up} =   7.4854784011840820\n",
      "32-bit S^{down} = 7.4854717254638672\n",
      "For N = 10000\n",
      "32-bit S^{up} =   9.7876129150390625\n",
      "32-bit S^{down} = 9.7876043319702148\n",
      "For N = 100000\n",
      "32-bit S^{up} =   12.0908508300781250\n",
      "32-bit S^{down} = 12.0901527404785156\n",
      "For N = 1000000\n",
      "32-bit S^{up} =   14.3573579788208008\n",
      "32-bit S^{down} = 14.3926515579223633\n",
      "For N = 10000000\n",
      "32-bit S^{up} =   15.4036827087402344\n",
      "32-bit S^{down} = 16.6860313415527344\n"
     ]
    }
   ],
   "source": [
    "for p in (2,3,4,5,6,7):\n",
    "    N = pow(10,p)\n",
    "    \n",
    "    sum_up32 = np.float32(0.)\n",
    "    sum_down32 = np.float32(0.)\n",
    "\n",
    "    for n in range (1,N+1,1):\n",
    "        sum_up32 += np.float32(1./n)\n",
    "\n",
    "    for n in range (N,0,-1):\n",
    "        sum_down32 += np.float32(1./n)\n",
    "\n",
    "    print(\"For N = %i\" % N)\n",
    "    print(\"32-bit S^{up} =   %.16f\" % sum_up32)\n",
    "    print(\"32-bit S^{down} = %.16f\" % sum_down32)   "
   ]
  },
  {
   "cell_type": "markdown",
   "metadata": {},
   "source": [
    "## (d) Error scaling\n",
    "\n",
    "Repeat part (c), but this time including the `double` (`float64`) precision and comparing to the `single` precision."
   ]
  },
  {
   "cell_type": "code",
   "execution_count": 6,
   "metadata": {},
   "outputs": [
    {
     "name": "stdout",
     "output_type": "stream",
     "text": [
      "For N = 100\n",
      "64-bit S^{up} - 32-bit S^{up} =     -0.0000004120478794\n",
      "64-bit S^{down} - 32-bit S^{down} =  0.0000005416264379\n",
      "\n",
      "For N = 1000\n",
      "64-bit S^{up} - 32-bit S^{up} =     -0.0000075406337388\n",
      "64-bit S^{down} - 32-bit S^{down} = -0.0000008649135266\n",
      "\n",
      "For N = 10000\n",
      "64-bit S^{up} - 32-bit S^{up} =     -0.0000068789947143\n",
      "64-bit S^{down} - 32-bit S^{down} =  0.0000017040741707\n",
      "\n",
      "For N = 100000\n",
      "64-bit S^{up} - 32-bit S^{up} =     -0.0007047002147900\n",
      "64-bit S^{down} - 32-bit S^{down} = -0.0000066106151078\n",
      "\n",
      "For N = 1000000\n",
      "64-bit S^{up} - 32-bit S^{up} =      0.0353687440441881\n",
      "64-bit S^{down} - 32-bit S^{down} =  0.0000751649434090\n",
      "\n",
      "For N = 10000000\n",
      "64-bit S^{up} - 32-bit S^{up} =      1.2916286571170374\n",
      "64-bit S^{down} - 32-bit S^{down} =  0.0092800243072304\n",
      "\n"
     ]
    }
   ],
   "source": [
    "for p in (2,3,4,5,6,7):\n",
    "    N = pow(10,p)\n",
    "    \n",
    "    sum_up32 = np.float32(0.)\n",
    "    sum_down32 = np.float32(0.)\n",
    "    sum_up64 = np.float64(0.)\n",
    "    sum_down64 = np.float64(0.)\n",
    "\n",
    "    for n in range (1,N+1,1):\n",
    "        sum_up32 += np.float32(1./n)\n",
    "        sum_up64 += np.float64(1./n)\n",
    "\n",
    "    for n in range (N,0,-1):\n",
    "        sum_down32 += np.float32(1./n)\n",
    "        sum_down64 += np.float64(1./n)\n",
    "\n",
    "    print(\"For N = %i\" % N)\n",
    "    print(\"64-bit S^{up} - 32-bit S^{up} =     %19.16f\" % (sum_up64-sum_up32))\n",
    "    print(\"64-bit S^{down} - 32-bit S^{down} = %19.16f\" % (sum_down64-sum_down32))   \n",
    "    print()\n",
    "\n",
    "    "
   ]
  },
  {
   "cell_type": "markdown",
   "metadata": {},
   "source": [
    "We can see that the error on $S^\\text{(up)}$ is always greater than the error on $S^\\text{(down)}$, except for N=100.  \n",
    "\n",
    "We also see that the errors on both $S^\\text{(up)}$ and $S^\\text{(down)}$ increase with N, but the error on $S^\\text{(up)}$ (and therefore the difference) increases faster.\n",
    "\n",
    "## (e) Explanation of error scaling\n",
    "\n",
    "The reason for this effect is the limited precision of the floating-point representation.\n",
    "\n",
    "When we add relatively large numbers (1, 0.5, 0.25), followed by small numbers, we reach a point where the small numbers are never contributing anything because their values are less than the machine precision.\n"
   ]
  },
  {
   "cell_type": "code",
   "execution_count": 7,
   "metadata": {},
   "outputs": [
    {
     "data": {
      "text/plain": [
       "1.0"
      ]
     },
     "execution_count": 7,
     "metadata": {},
     "output_type": "execute_result"
    }
   ],
   "source": [
    "1.000000000000000 + 0.0000000000000001"
   ]
  },
  {
   "cell_type": "markdown",
   "metadata": {},
   "source": [
    "If instead we add all of the small numbers together first (large N), then we get an accurate sum that is not small and can be added accurately to the big numbers.\n",
    "\n",
    "The moral of this exercise is: *don’t add a lot of small numbers to a big one.*"
   ]
  },
  {
   "cell_type": "markdown",
   "metadata": {},
   "source": [
    "# Problem 3\n",
    "\n",
    "## (a) nth power of $\\phi$\n",
    "\n",
    "The successive multiplication just means $\\phi^4 = \\phi \\cdot \\phi^3$ and so on.\n",
    "\n",
    "We'll do the first 50 powers, to match part (c)."
   ]
  },
  {
   "cell_type": "code",
   "execution_count": 8,
   "metadata": {},
   "outputs": [
    {
     "name": "stdout",
     "output_type": "stream",
     "text": [
      "1 0.6180339887498949\n",
      "2 0.3819660112501052\n",
      "3 0.23606797749978975\n",
      "4 0.14589803375031551\n",
      "5 0.09016994374947429\n",
      "6 0.05572809000084125\n",
      "7 0.03444185374863305\n",
      "8 0.021286236252208206\n",
      "9 0.01315561749642485\n",
      "10 0.008130618755783357\n",
      "11 0.005024998740641495\n",
      "12 0.003105620015141862\n",
      "13 0.0019193787254996341\n",
      "14 0.0011862412896422286\n",
      "15 0.000733137435857406\n",
      "16 0.00045310385378482284\n",
      "17 0.00028003358207258323\n",
      "18 0.00017307027171223967\n",
      "19 0.00010696331036034358\n",
      "20 6.61069613518961e-05\n",
      "21 4.085634900844749e-05\n",
      "22 2.5250612343448615e-05\n",
      "23 1.560573666499888e-05\n",
      "24 9.64487567844974e-06\n",
      "25 5.960860986549141e-06\n",
      "26 3.6840146919005996e-06\n",
      "27 2.2768462946485426e-06\n",
      "28 1.4071683972520572e-06\n",
      "29 8.696778973964855e-07\n",
      "30 5.374904998555718e-07\n",
      "31 3.321873975409138e-07\n",
      "32 2.05303102314658e-07\n",
      "33 1.2688429522625587e-07\n",
      "34 7.841880708840217e-08\n",
      "35 4.846548813785372e-08\n",
      "36 2.995331895054845e-08\n",
      "37 1.8512169187305277e-08\n",
      "38 1.144114976324318e-08\n",
      "39 7.071019424062098e-09\n",
      "40 4.370130339181083e-09\n",
      "41 2.7008890848810156e-09\n",
      "42 1.6692412543000675e-09\n",
      "43 1.0316478305809483e-09\n",
      "44 6.375934237191192e-10\n",
      "45 3.940544068618291e-10\n",
      "46 2.435390168572902e-10\n",
      "47 1.5051539000453897e-10\n",
      "48 9.302362685275129e-11\n",
      "49 5.749176315178771e-11\n",
      "50 3.553186370096359e-11\n"
     ]
    }
   ],
   "source": [
    "phi = (np.sqrt(5)-1)/2\n",
    "powers_of_phi = []\n",
    "powers_of_phi.append(1)\n",
    "for n in range (1,51):\n",
    "    powers_of_phi.append(phi * powers_of_phi[n-1])\n",
    "    print(n, powers_of_phi[n])"
   ]
  },
  {
   "cell_type": "markdown",
   "metadata": {},
   "source": [
    "## (b) Recursion relation derivation\n",
    "\n",
    "The easiest way to show the recursion relation holds for $\\phi$ is to multiply the given relation by $\\phi^{-(n-1)}$:\n",
    "\n",
    "$$\n",
    "\\begin{align}\n",
    "\\phi^{n+1} &= \\phi^{n-1} - \\phi^n \\\\\n",
    "\\phi^2 &= \\phi^0 - \\phi^1 \\\\\n",
    "\\phi^2 + \\phi -1 &= 0 \n",
    "\\end{align}\n",
    "$$\n",
    "\n",
    "This is a quadratic equation, whose roots are \n",
    "$$\\phi = (-1 \\pm \\sqrt{5})/2$$\n",
    "\n",
    "The positive solution gives the golden mean $\\phi = (\\sqrt{5}-1)/2 \\simeq 0.618\\dots$.\n",
    "\n",
    "This proves the relation.\n",
    "\n",
    "## (c) Implementation of subtractive recursion\n",
    "\n"
   ]
  },
  {
   "cell_type": "code",
   "execution_count": 9,
   "metadata": {},
   "outputs": [
    {
     "name": "stdout",
     "output_type": "stream",
     "text": [
      "n \t  exact \t  single \t  double\n",
      "2 \t  3.819660e-01 \t  3.819660e-01 \t  3.819660e-01\n",
      "3 \t  2.360680e-01 \t  2.360680e-01 \t  2.360680e-01\n",
      "4 \t  1.458980e-01 \t  1.458980e-01 \t  1.458980e-01\n",
      "5 \t  9.016994e-02 \t  9.017003e-02 \t  9.016994e-02\n",
      "6 \t  5.572809e-02 \t  5.572796e-02 \t  5.572809e-02\n",
      "7 \t  3.444185e-02 \t  3.444207e-02 \t  3.444185e-02\n",
      "8 \t  2.128624e-02 \t  2.128589e-02 \t  2.128624e-02\n",
      "9 \t  1.315562e-02 \t  1.315618e-02 \t  1.315562e-02\n",
      "10 \t  8.130619e-03 \t  8.129716e-03 \t  8.130619e-03\n",
      "11 \t  5.024999e-03 \t  5.026460e-03 \t  5.024999e-03\n",
      "12 \t  3.105620e-03 \t  3.103256e-03 \t  3.105620e-03\n",
      "13 \t  1.919379e-03 \t  1.923203e-03 \t  1.919379e-03\n",
      "14 \t  1.186241e-03 \t  1.180053e-03 \t  1.186241e-03\n",
      "15 \t  7.331374e-04 \t  7.431507e-04 \t  7.331374e-04\n",
      "16 \t  4.531039e-04 \t  4.369020e-04 \t  4.531039e-04\n",
      "17 \t  2.800336e-04 \t  3.062487e-04 \t  2.800336e-04\n",
      "18 \t  1.730703e-04 \t  1.306534e-04 \t  1.730703e-04\n",
      "19 \t  1.069633e-04 \t  1.755953e-04 \t  1.069633e-04\n",
      "20 \t  6.610696e-05 \t -4.494190e-05 \t  6.610696e-05\n",
      "21 \t  4.085635e-05 \t  2.205372e-04 \t  4.085635e-05\n",
      "22 \t  2.525061e-05 \t -2.654791e-04 \t  2.525061e-05\n",
      "23 \t  1.560574e-05 \t  4.860163e-04 \t  1.560574e-05\n",
      "24 \t  9.644876e-06 \t -7.514954e-04 \t  9.644873e-06\n",
      "25 \t  5.960861e-06 \t  1.237512e-03 \t  5.960865e-06\n",
      "26 \t  3.684015e-06 \t -1.989007e-03 \t  3.684008e-06\n",
      "27 \t  2.276846e-06 \t  3.226519e-03 \t  2.276857e-06\n",
      "28 \t  1.407168e-06 \t -5.215526e-03 \t  1.407151e-06\n",
      "29 \t  8.696779e-07 \t  8.442044e-03 \t  8.697058e-07\n",
      "30 \t  5.374905e-07 \t -1.365757e-02 \t  5.374453e-07\n",
      "31 \t  3.321874e-07 \t  2.209961e-02 \t  3.322605e-07\n",
      "32 \t  2.053031e-07 \t -3.575718e-02 \t  2.051848e-07\n",
      "33 \t  1.268843e-07 \t  5.785680e-02 \t  1.270758e-07\n",
      "34 \t  7.841881e-08 \t -9.361398e-02 \t  7.810902e-08\n",
      "35 \t  4.846549e-08 \t  1.514708e-01 \t  4.896673e-08\n",
      "36 \t  2.995332e-08 \t -2.450848e-01 \t  2.914229e-08\n",
      "37 \t  1.851217e-08 \t  3.965555e-01 \t  1.982445e-08\n",
      "38 \t  1.144115e-08 \t -6.416403e-01 \t  9.317835e-09\n",
      "39 \t  7.071019e-09 \t  1.038196e+00 \t  1.050661e-08\n",
      "40 \t  4.370130e-09 \t -1.679836e+00 \t -1.188779e-09\n",
      "41 \t  2.700889e-09 \t  2.718032e+00 \t  1.169539e-08\n",
      "42 \t  1.669241e-09 \t -4.397868e+00 \t -1.288417e-08\n",
      "43 \t  1.031648e-09 \t  7.115900e+00 \t  2.457957e-08\n",
      "44 \t  6.375934e-10 \t -1.151377e+01 \t -3.746374e-08\n",
      "45 \t  3.940544e-10 \t  1.862967e+01 \t  6.204330e-08\n",
      "46 \t  2.435390e-10 \t -3.014344e+01 \t -9.950704e-08\n",
      "47 \t  1.505154e-10 \t  4.877311e+01 \t  1.615503e-07\n",
      "48 \t  9.302363e-11 \t -7.891654e+01 \t -2.610574e-07\n",
      "49 \t  5.749176e-11 \t  1.276897e+02 \t  4.226077e-07\n",
      "50 \t  3.553186e-11 \t -2.066062e+02 \t -6.836651e-07\n"
     ]
    }
   ],
   "source": [
    "phi = (np.sqrt(5)-1)/2\n",
    "recursive_powers_of_phi32 = []\n",
    "recursive_powers_of_phi32.append(np.float32(1))\n",
    "recursive_powers_of_phi32.append(np.float32(phi))\n",
    "recursive_powers_of_phi64 = []\n",
    "recursive_powers_of_phi64.append(np.float64(1))\n",
    "recursive_powers_of_phi64.append(np.float64(phi))\n",
    "print(\"n \\t  exact \\t  single \\t  double\")\n",
    "for n in range (1,50):\n",
    "    # We are actually appending the (n+1)th power of phi\n",
    "    recursive_powers_of_phi32.append(recursive_powers_of_phi32[n-1] \n",
    "                                   - recursive_powers_of_phi32[n])\n",
    "    recursive_powers_of_phi64.append(recursive_powers_of_phi64[n-1] \n",
    "                                   - recursive_powers_of_phi64[n])\n",
    "    print(\"%d \\t %13.6e \\t %13.6e \\t %13.6e\" % (n+1, \n",
    "                                    powers_of_phi[n+1], \n",
    "                                    recursive_powers_of_phi32[n+1], \n",
    "                                    recursive_powers_of_phi64[n+1]))\n"
   ]
  },
  {
   "cell_type": "markdown",
   "metadata": {},
   "source": [
    "The recursion relation is not stable for large $n$.\n",
    "\n",
    "We see that the single precision recursion matches the exact value well until $n\\simeq 14$, after which it starts to diverge.\n",
    "\n",
    "The double precision recursion matches the exact value until $n\\simeq 33$."
   ]
  },
  {
   "cell_type": "markdown",
   "metadata": {},
   "source": [
    "## (d) General solution for recursion relation\n",
    "\n",
    "Recall that there were actually two roots to the quadratic form of the recursion relation.  The first root was the golden mean $\\phi = (-1 + \\sqrt{5})/2 \\simeq 0.618 \\dots$, and the second root was $\\tilde{\\phi} = (-1 - \\sqrt{5})/2 \\simeq -1.618 \\dots$.\n",
    "\n",
    "Since both of these satisfy the quadratic relation, the general solution to the recursion relation is \n",
    "$$\\Phi[n] = A\\phi[n] + B\\tilde{\\phi}[n],$$\n",
    "where $A$ and $B$ are arbitrary constants.\n",
    "\n",
    "In principle, we can specify the use of one or the other solution by setting, for example, $A=1$ and $B=0$.  This is actually the boundary condition we set in parts (b) and (c).\n",
    "\n",
    "The problem is that $A=1$ is not exact in machine representation, and a little bit of $\\tilde{\\phi}$ starts to sneak into our solution, and we end up with a function\n",
    "\n",
    "$$\\Phi[n] = \\phi[n] + \\epsilon \\tilde{\\phi},$$\n",
    "where $\\epsilon$ is the machine precision.\n",
    "\n",
    "As we exponentiate $\\Phi$, we pick up more and more of $\\tilde{\\phi}$, simply because $|\\tilde{\\phi}| > |\\phi|$.  Eventually the algorithm becomes unstable."
   ]
  },
  {
   "cell_type": "markdown",
   "metadata": {},
   "source": [
    "# Problem 4\n",
    "\n",
    "## (a) Analytic derivation of midpoint expression and error\n",
    "\n",
    "We can derive this expression by using the Taylor expansion of the function at some specific point $x$.\n",
    "\n",
    "$$f(x+h) = f(x) + h \\frac{df}{dx} + \\frac{h^2}{2!}\\frac{d^2 f}{dx^2} + \\frac{h^3}{3!} \\frac{d^3 y}{dx^3} + \\frac{h^4}{4!}\\frac{d^4 f}{dx^4} + \\cdots$$\n",
    "\n",
    "Therefore,\n",
    "$$\n",
    "\\begin{align}\n",
    "\\frac{f(x+h)-f(x-h)-2f(x)}{h^2} &= \\frac{\\left[ f(x) + h \\frac{df}{dx} + \\frac{h^2}{2!}\\frac{d^2 f}{dx^2} + \\frac{h^3}{3!} \\frac{d^3 y}{dx^3} + \\frac{h^4}{4!}\\frac{d^4 f}{dx^4} + \\cdots \\right] + \\left[ f(x) - h \\frac{df}{dx} + \\frac{h^2}{2!}\\frac{d^2 f}{dx^2} - \\frac{h^3}{3!} \\frac{d^3 y}{dx^3} + \\frac{h^4}{4!}\\frac{d^4 f}{dx^4} + \\cdots \\right] - 2f(x)}{h^2}\\\\\n",
    "&= \\frac{h^2 \\frac{d^2 f}{dx^2} + \\frac{h^4}{12}\\frac{d^4 f}{dx^4} + \\cdots}{h^2} \\\\\n",
    "&= f^{\\prime \\prime}(x) + \\frac{h^2}{12} f^{(4)}(x) \\\\\n",
    "\\end{align}\n",
    "$$\n",
    "\n",
    "Therefore,\n",
    "$$f^{\\prime \\prime}(x) = \\frac{f(x+h)-f(x-h)-2f(x)}{h^2} - \\frac{h^2}{12} f^{(4)}(x),$$\n",
    "where the second term on the right-hand side can be considered as the error.\n",
    "\n",
    "## (b) Numerical testing\n",
    "\n",
    "We will use the function $f(x) = \\sin(x)$ and evaluate its derivative $f^{\\prime\\prime}(x)$ at $x=\\pi/4$.  This numerical derivative is compared to the exact value of $-\\sin(x)$."
   ]
  },
  {
   "cell_type": "code",
   "execution_count": 10,
   "metadata": {
    "scrolled": false
   },
   "outputs": [
    {
     "name": "stdout",
     "output_type": "stream",
     "text": [
      "h \t \t f''_midpoint \t d2f/dx2 \t error\n",
      "1.000000e+00 \t -0.650111 \t -0.707107 \t -0.056996067554\n",
      "1.000000e-01 \t -0.706518 \t -0.707107 \t -0.000589059268\n",
      "1.000000e-02 \t -0.707101 \t -0.707107 \t -0.000005892538\n",
      "1.000000e-03 \t -0.707107 \t -0.707107 \t -0.000000058900\n",
      "1.000000e-04 \t -0.707107 \t -0.707107 \t -0.000000008052\n",
      "1.000000e-05 \t -0.707105 \t -0.707107 \t -0.000001295911\n",
      "1.000000e-06 \t -0.706990 \t -0.707107 \t -0.000116759105\n"
     ]
    }
   ],
   "source": [
    "x = np.pi/4\n",
    "print(\"h \\t \\t f''_midpoint \\t d2f/dx2 \\t error\")\n",
    "for p in range(7):\n",
    "    h = pow(10,-p)\n",
    "    f2_midpoint = (np.sin(x+h) + np.sin(x-h) - 2*np.sin(x))/(h*h)\n",
    "    print(\"%e \\t %f \\t %f \\t %.12f\" %(h, f2_midpoint, -np.sin(x), \n",
    "                             -np.sin(x)-f2_midpoint))"
   ]
  },
  {
   "cell_type": "markdown",
   "metadata": {},
   "source": [
    "We notice that the error decreases with $h^2$, as expected, until $h<10^{-4}$, when round-off errors start to creep in."
   ]
  },
  {
   "cell_type": "markdown",
   "metadata": {
    "collapsed": true
   },
   "source": [
    "# Problem 5\n",
    "\n",
    "We will compute the spherical Bessel functions by using the downward recurrence relation\n",
    "\n",
    "$$j_{l-1}(x) = \\frac{2l+1}{x} j_l(x) - j_{l+1}(x)$$\n",
    "\n",
    "This is not enough.  We need to scale the values so that $j_0(x)$ matches the exact value $$j_0(x) = \\sin(x)/x$$\n",
    "\n",
    "The results are given for the first 25 $l$ values at $x=0.1, 1.0, 10.$"
   ]
  },
  {
   "cell_type": "code",
   "execution_count": 11,
   "metadata": {},
   "outputs": [
    {
     "name": "stdout",
     "output_type": "stream",
     "text": [
      "Working at x = 0.1\n",
      "l = 0 , j[l] = 0.9983341664682815\n",
      "l = 1 , j[l] = 0.03330001190255757\n",
      "l = 2 , j[l] = 0.0006661906084455687\n",
      "l = 3 , j[l] = 9.518519720865566e-06\n",
      "l = 4 , j[l] = 1.057720150209873e-07\n",
      "l = 5 , j[l] = 9.616310232916444e-10\n",
      "l = 6 , j[l] = 7.397541093587706e-12\n",
      "l = 7 , j[l] = 4.9318874757319734e-14\n",
      "l = 8 , j[l] = 2.9012001025301897e-16\n",
      "l = 9 , j[l] = 1.5269856934948196e-18\n",
      "l = 10 , j[l] = 7.271510996713672e-21\n",
      "l = 11 , j[l] = 3.1615815051510697e-23\n",
      "l = 12 , j[l] = 1.264651337875089e-25\n",
      "l = 13 , j[l] = 4.6839536652559885e-28\n",
      "l = 14 , j[l] = 1.6151744028156545e-30\n",
      "l = 15 , j[l] = 5.210290941008979e-33\n",
      "l = 16 , j[l] = 1.5788897128763593e-35\n",
      "l = 17 , j[l] = 4.5111483007244514e-38\n",
      "l = 18 , j[l] = 1.2192377198447579e-40\n",
      "l = 19 , j[l] = 3.126270115223257e-43\n",
      "l = 20 , j[l] = 7.625092312409071e-46\n",
      "l = 21 , j[l] = 1.7732864462699687e-48\n",
      "l = 22 , j[l] = 3.9406551792868825e-51\n",
      "l = 23 , j[l] = 8.384409128498707e-54\n",
      "l = 24 , j[l] = 1.711110750982455e-56\n",
      "Working at x = 1.0\n",
      "l = 0 , j[l] = 0.8414709848078964\n",
      "l = 1 , j[l] = 0.30116867893975674\n",
      "l = 2 , j[l] = 0.062035052011373853\n",
      "l = 3 , j[l] = 0.009006581117112515\n",
      "l = 4 , j[l] = 0.0010110158084137527\n",
      "l = 5 , j[l] = 9.256115861125817e-05\n",
      "l = 6 , j[l] = 7.156936310087086e-06\n",
      "l = 7 , j[l] = 4.790134198739489e-07\n",
      "l = 8 , j[l] = 2.8264988022147296e-08\n",
      "l = 9 , j[l] = 1.491376502555146e-09\n",
      "l = 10 , j[l] = 7.116552640047315e-11\n",
      "l = 11 , j[l] = 3.099551854790081e-12\n",
      "l = 12 , j[l] = 1.241662596987106e-13\n",
      "l = 13 , j[l] = 4.604637677683788e-15\n",
      "l = 14 , j[l] = 1.5895759875169767e-16\n",
      "l = 15 , j[l] = 5.132686115443763e-18\n",
      "l = 16 , j[l] = 1.5567082705901728e-19\n",
      "l = 17 , j[l] = 4.451177503806803e-21\n",
      "l = 18 , j[l] = 1.2038557422082005e-22\n",
      "l = 19 , j[l] = 3.0887423635395497e-24\n",
      "l = 20 , j[l] = 7.537795722236876e-26\n",
      "l = 21 , j[l] = 1.7538825775690205e-27\n",
      "l = 22 , j[l] = 3.8993613099122846e-29\n",
      "l = 23 , j[l] = 8.300118915076698e-31\n",
      "l = 24 , j[l] = 1.694580173763896e-32\n",
      "Working at x = 10.0\n",
      "l = 0 , j[l] = -0.054402111088936986\n",
      "l = 1 , j[l] = 0.0784669417987516\n",
      "l = 2 , j[l] = 0.07794219362856246\n",
      "l = 3 , j[l] = -0.03949584498447038\n",
      "l = 4 , j[l] = -0.10558928511769174\n",
      "l = 5 , j[l] = -0.05553451162145218\n",
      "l = 6 , j[l] = 0.04450132233409431\n",
      "l = 7 , j[l] = 0.11338623065577479\n",
      "l = 8 , j[l] = 0.12557802364956788\n",
      "l = 9 , j[l] = 0.10009640954849063\n",
      "l = 10 , j[l] = 0.06460515449256429\n",
      "l = 11 , j[l] = 0.035574414885894405\n",
      "l = 12 , j[l] = 0.01721599974499282\n",
      "l = 13 , j[l] = 0.007465584476587643\n",
      "l = 14 , j[l] = 0.0029410783417938157\n",
      "l = 15 , j[l] = 0.0010635427146144223\n",
      "l = 16 , j[l] = 0.0003559040735108934\n",
      "l = 17 , j[l] = 0.00011094072797152574\n",
      "l = 18 , j[l] = 3.238847438944675e-05\n",
      "l = 19 , j[l] = 8.896627269427236e-06\n",
      "l = 20 , j[l] = 2.308371961319471e-06\n",
      "l = 21 , j[l] = 5.676977719825941e-07\n",
      "l = 22 , j[l] = 1.327284582056832e-07\n",
      "l = 23 , j[l] = 2.9580289942980357e-08\n",
      "l = 24 , j[l] = 6.298904526324475e-09\n"
     ]
    }
   ],
   "source": [
    "from numpy import *\n",
    "for x in (0.1, 1., 10.):\n",
    "    print(\"Working at x =\", x)\n",
    "    j = zeros(52)\n",
    "    j[51] = 1.0\n",
    "    j[50] = 1.0\n",
    "    for l in range(50, 0, -1):\n",
    "    #     print(\"l =\", l, \", j[l] =\", j[l])\n",
    "        j[l-1] = (2*l+1)/x * j[l] - j[l+1]\n",
    "    scale_factor = j[0] * x / sin(x)\n",
    "    for l in range(25):\n",
    "        print(\"l =\", l, \", j[l] =\", j[l]/scale_factor)"
   ]
  },
  {
   "cell_type": "markdown",
   "metadata": {},
   "source": [
    "Now we will try the upward recursion:\n",
    "\n",
    "$$j_{l+1}(x) = \\frac{2l+1}{x} j_l(x) - j_{l-1}(x)$$\n",
    "\n",
    "We start with known values of $j[0]$ and $j[1]$."
   ]
  },
  {
   "cell_type": "code",
   "execution_count": 12,
   "metadata": {},
   "outputs": [
    {
     "name": "stdout",
     "output_type": "stream",
     "text": [
      "Working at x = 0.1\n",
      "l = 0 , j[l] = 0.9983341664682815\n",
      "l = 1 , j[l] = 0.0333000119025581\n",
      "l = 2 , j[l] = 0.0\n",
      "l = 3 , j[l] = -0.0333000119025581\n",
      "l = 4 , j[l] = -2.331000833179067\n",
      "l = 5 , j[l] = -209.75677497421347\n",
      "l = 6 , j[l] = -23070.914246330303\n",
      "l = 7 , j[l] = -2999009.0952479653\n",
      "l = 8 , j[l] = -449828293.37294847\n",
      "l = 9 , j[l] = -76467810864.306\n",
      "l = 10 , j[l] = -14528434235924.768\n",
      "l = 11 , j[l] = -3050894721733336.5\n",
      "l = 12 , j[l] = -7.016912575644315e+17\n",
      "l = 13 , j[l] = -1.7541976349638613e+20\n",
      "l = 14 , j[l] = -4.73626344527667e+22\n",
      "l = 15 , j[l] = -1.3734988571538846e+25\n",
      "l = 16 , j[l] = -4.257799094542589e+27\n",
      "l = 17 , j[l] = -1.4050599662104828e+30\n",
      "l = 18 , j[l] = -4.917667303745745e+32\n",
      "l = 19 , j[l] = -1.8195228517862633e+35\n",
      "l = 20 , j[l] = -7.096089945293389e+37\n",
      "l = 21 , j[l] = -2.909378682341772e+40\n",
      "l = 22 , j[l] = -1.2510257373170167e+43\n",
      "l = 23 , j[l] = -5.629586724139752e+45\n",
      "l = 24 , j[l] = -2.64589325008831e+48\n",
      "Working at x = 1.0\n",
      "l = 0 , j[l] = 0.8414709848078965\n",
      "l = 1 , j[l] = 0.30116867893975674\n",
      "l = 2 , j[l] = 0.0\n",
      "l = 3 , j[l] = -0.30116867893975674\n",
      "l = 4 , j[l] = -2.1081807525782974\n",
      "l = 5 , j[l] = -18.672458094264922\n",
      "l = 6 , j[l] = -203.28885828433584\n",
      "l = 7 , j[l] = -2624.082699602101\n",
      "l = 8 , j[l] = -39157.95163574718\n",
      "l = 9 , j[l] = -663061.0951081\n",
      "l = 10 , j[l] = -12559002.855418153\n",
      "l = 11 , j[l] = -263075998.86867312\n",
      "l = 12 , j[l] = -6038188971.1240635\n",
      "l = 13 , j[l] = -150691648279.2329\n",
      "l = 14 , j[l] = -4062636314568.1646\n",
      "l = 15 , j[l] = -117665761474197.53\n",
      "l = 16 , j[l] = -3643575969385555.5\n",
      "l = 17 , j[l] = -1.2012034122824914e+17\n",
      "l = 18 , j[l] = -4.200568367019334e+18\n",
      "l = 19 , j[l] = -1.5530090923848712e+20\n",
      "l = 20 , j[l] = -6.052534891933978e+21\n",
      "l = 21 , j[l] = -2.479986296600546e+23\n",
      "l = 22 , j[l] = -1.0657888540490413e+25\n",
      "l = 23 , j[l] = -4.7935698569240854e+26\n",
      "l = 24 , j[l] = -2.251912043900271e+28\n",
      "Working at x = 10.0\n",
      "l = 0 , j[l] = -0.054402111088936986\n",
      "l = 1 , j[l] = 0.07846694179875155\n",
      "l = 2 , j[l] = 0.0\n",
      "l = 3 , j[l] = -0.07846694179875155\n",
      "l = 4 , j[l] = -0.05492685925912608\n",
      "l = 5 , j[l] = 0.029032768465538074\n",
      "l = 6 , j[l] = 0.08686290457121797\n",
      "l = 7 , j[l] = 0.08388900747704528\n",
      "l = 8 , j[l] = 0.03897060664434994\n",
      "l = 9 , j[l] = -0.01763897618165039\n",
      "l = 10 , j[l] = -0.07248466138948567\n",
      "l = 11 , j[l] = -0.13457881273626954\n",
      "l = 12 , j[l] = -0.23704660790393423\n",
      "l = 13 , j[l] = -0.458037707023566\n",
      "l = 14 , j[l] = -0.9996552010596942\n",
      "l = 15 , j[l] = -2.440962376049547\n",
      "l = 16 , j[l] = -6.567328164693902\n",
      "l = 17 , j[l] = -19.231220567440328\n",
      "l = 18 , j[l] = -60.74194382134725\n",
      "l = 19 , j[l] = -205.51397157154452\n",
      "l = 20 , j[l] = -740.7625453076763\n",
      "l = 21 , j[l] = -2831.6124641899282\n",
      "l = 22 , j[l] = -11435.171050709014\n",
      "l = 23 , j[l] = -48626.657264000634\n",
      "l = 24 , j[l] = -217110.11809009398\n"
     ]
    }
   ],
   "source": [
    "from numpy import *\n",
    "for x in (0.1, 1., 10.):\n",
    "    print(\"Working at x =\", x)\n",
    "    j = zeros(52)\n",
    "    j[0] = sin(x)/x\n",
    "    j[1] = (sin(x)-x*cos(x))/x/x\n",
    "    for l in range(2,50):\n",
    "        j[l+1] = (2*l+1)/x * j[l] - j[l-1]\n",
    "    for l in range(25):\n",
    "        print(\"l =\", l, \", j[l] =\", j[l])"
   ]
  },
  {
   "cell_type": "markdown",
   "metadata": {},
   "source": [
    "We conclude that the upward recursion relation is unstable and cannot give reliable results for large values of $l$."
   ]
  }
 ],
 "metadata": {
  "anaconda-cloud": {},
  "kernelspec": {
   "display_name": "Python 3",
   "language": "python",
   "name": "python3"
  },
  "language_info": {
   "codemirror_mode": {
    "name": "ipython",
    "version": 3
   },
   "file_extension": ".py",
   "mimetype": "text/x-python",
   "name": "python",
   "nbconvert_exporter": "python",
   "pygments_lexer": "ipython3",
   "version": "3.5.5"
  }
 },
 "nbformat": 4,
 "nbformat_minor": 1
}
