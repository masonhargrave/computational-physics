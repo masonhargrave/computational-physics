{
 "cells": [
  {
   "cell_type": "markdown",
   "metadata": {},
   "source": [
    "# Final Exam\n",
    "\n",
    "## Solid Body Calculations\n",
    "\n",
    "A sphere of radius $R$ and uniform density $\\rho$ has a cylindrical hold of radius $r$ drilled through its exact center. For the purposes of this problem, we can assume $\\rho = 1 \\; \\mathrm{kg/m^3}$, $R = 0.5 \\; \\mathrm{m}$, and $r - 0.3 \\mathrm{m}$.\n",
    "\n",
    "### Part a:\n",
    "\n",
    "Calculate the total mass of the object"
   ]
  },
  {
   "cell_type": "code",
   "execution_count": 5,
   "metadata": {},
   "outputs": [
    {
     "name": "stdout",
     "output_type": "stream",
     "text": [
      "The solid body has a MASS of  0.010574161398788645 kg\n"
     ]
    }
   ],
   "source": [
    "\"\"\" Program to determine the VOLUME, MASS, and MOMENT OF INERTIA\n",
    "of a cored ball \"\"\"\n",
    "\n",
    "import random\n",
    "import numpy as np\n",
    "\n",
    "NACCEPTED = 0\n",
    "COUNT = 0\n",
    "N = 10000000\n",
    "DENSITY = 1\n",
    "\n",
    "Y = np.zeros(N)\n",
    "X = np.zeros(N)\n",
    "Z = np.zeros(N)\n",
    "\n",
    "while NACCEPTED < N:\n",
    "\n",
    "    XVALUE = random.random() * 0.5\n",
    "    YVALUE = random.random() * 0.5\n",
    "    ZVALUE = random.random() * 0.5\n",
    "\n",
    "    MAGNITUDE = XVALUE**2 + YVALUE**2 + ZVALUE**2\n",
    "    CYLINDER = XVALUE**2 + YVALUE**2\n",
    "\n",
    "    if MAGNITUDE <= 0.5 and CYLINDER >= 0.3:\n",
    "        X[NACCEPTED] = XVALUE\n",
    "        Y[NACCEPTED] = YVALUE\n",
    "        Z[NACCEPTED] = ZVALUE\n",
    "        NACCEPTED += 1\n",
    "        COUNT += 1\n",
    "    else:\n",
    "        COUNT += 1\n",
    "\n",
    "VOLUME = (NACCEPTED/COUNT) * 0.5**3\n",
    "MASS = DENSITY * VOLUME\n",
    "\n",
    "print(\"The solid body has a MASS of \", MASS, \"kg\")"
   ]
  },
  {
   "cell_type": "markdown",
   "metadata": {},
   "source": [
    "### Part b:\n",
    "\n",
    "Calculate the moment of inertia about the shared axis of symmetry (call it $\\hat{z}$).\n",
    "\n",
    "$$L_z = \\sum m_\\alpha (x_{\\alpha}^2 + y_{\\alpha}^2)\\omega$$"
   ]
  },
  {
   "cell_type": "code",
   "execution_count": 6,
   "metadata": {},
   "outputs": [
    {
     "ename": "NameError",
     "evalue": "name 'mass' is not defined",
     "output_type": "error",
     "traceback": [
      "\u001b[0;31m---------------------------------------------------------------------------\u001b[0m",
      "\u001b[0;31mNameError\u001b[0m                                 Traceback (most recent call last)",
      "\u001b[0;32m<ipython-input-6-fbee00d670a9>\u001b[0m in \u001b[0;36m<module>\u001b[0;34m()\u001b[0m\n\u001b[0;32m----> 1\u001b[0;31m \u001b[0mpoint_mass\u001b[0m \u001b[0;34m=\u001b[0m \u001b[0mmass\u001b[0m \u001b[0;34m/\u001b[0m \u001b[0mN\u001b[0m\u001b[0;34m\u001b[0m\u001b[0m\n\u001b[0m\u001b[1;32m      2\u001b[0m \u001b[0;34m\u001b[0m\u001b[0m\n\u001b[1;32m      3\u001b[0m \u001b[0mSummand\u001b[0m \u001b[0;34m=\u001b[0m \u001b[0;34m(\u001b[0m\u001b[0mX\u001b[0m\u001b[0;34m**\u001b[0m\u001b[0;36m2\u001b[0m \u001b[0;34m+\u001b[0m \u001b[0mY\u001b[0m\u001b[0;34m**\u001b[0m\u001b[0;36m2\u001b[0m\u001b[0;34m)\u001b[0m\u001b[0;34m*\u001b[0m\u001b[0mpoint_mass\u001b[0m\u001b[0;34m\u001b[0m\u001b[0m\n\u001b[1;32m      4\u001b[0m \u001b[0;34m\u001b[0m\u001b[0m\n\u001b[1;32m      5\u001b[0m \u001b[0mL_z\u001b[0m \u001b[0;34m=\u001b[0m \u001b[0mnp\u001b[0m\u001b[0;34m.\u001b[0m\u001b[0msum\u001b[0m\u001b[0;34m(\u001b[0m\u001b[0mSummand\u001b[0m\u001b[0;34m)\u001b[0m\u001b[0;34m\u001b[0m\u001b[0m\n",
      "\u001b[0;31mNameError\u001b[0m: name 'mass' is not defined"
     ]
    }
   ],
   "source": [
    "point_mass = mass / N\n",
    "\n",
    "Summand = (X**2 + Y**2)*point_mass\n",
    "\n",
    "L_z = np.sum(Summand)\n",
    "\n",
    "print (\"L_z =\", L_z)"
   ]
  },
  {
   "cell_type": "markdown",
   "metadata": {},
   "source": [
    "### Part c:\n",
    "\n",
    "Calculate the moment of inertia about the \"$\\hat{x}$ axis\" (any oaxis orthoganal to $\\hat{z}$).\n",
    "\n"
   ]
  },
  {
   "cell_type": "code",
   "execution_count": 91,
   "metadata": {},
   "outputs": [
    {
     "name": "stdout",
     "output_type": "stream",
     "text": [
      "L_x = 0.0023821886660914753\n"
     ]
    }
   ],
   "source": [
    "Summand = (Y**2 + Z**2)*point_mass\n",
    "\n",
    "L_x = np.sum(Summand)\n",
    "\n",
    "print (\"L_x =\", L_x)"
   ]
  },
  {
   "cell_type": "markdown",
   "metadata": {},
   "source": [
    "## RC Circuit Behavior\n",
    "\n",
    "The \"RC circuit\" is composed of a resistor $R$ and capacitor $C$ in a series circuit driven by a voltage or current source.\n",
    "\n",
    "The circuit behavior is given by the equation\n",
    "\n",
    "$$ R \\frac{dq}{dt} + \\frac{1}{C}q = U(t)$$\n",
    "\n",
    "where $q$ is teh capacitor charge, $dq/dt = I$ is the circuit current, and $U(t)$ is the applied voltage.\n",
    "\n",
    "We would like ot know how the system responds t oa suare imput pulse:\n",
    "\n",
    "$$ U(t) = 0 \\; \\; \\; \\mathrm{for} \\; t<t_1$$\n",
    "$$ U(t) = U_0 = 6V  \\; \\; \\; \\mathrm{for} \\; t_1<t<t_2$$\n",
    "$$ U(t) = 0 \\; \\; \\; \\mathrm{for} \\; t>t_2$$\n",
    "\n",
    "In this problem we will assume $R = 100 \\Omega$, $C=4.7 \\times 10^{-5} \\mathrm{AsV}-1$.\n"
   ]
  },
  {
   "cell_type": "markdown",
   "metadata": {},
   "source": [
    "### Part a:\n",
    "\n",
    "Assuming $q(0)=0$, solve the differential equation numerically and plot $q(t)$ and $I(t)$ over the interval $0<t<t_{final}$, with $t_1 = 0$, $t_2 = 2RC$, and $t_{final} = 4RC$.\n",
    "\n",
    "$$\\frac{dq}{dt} = \\frac{U(t)}{R} - \\frac{q}{RC}$$"
   ]
  },
  {
   "cell_type": "code",
   "execution_count": 3,
   "metadata": {},
   "outputs": [
    {
     "data": {
      "image/png": "[encoded data removed]",
      "text/plain": [
       "<Figure size 432x288 with 1 Axes>"
      ]
     },
     "metadata": {},
     "output_type": "display_data"
    }
   ],
   "source": [
    "\"\"\"Runge Kutta solution to the RC Circuit ODE\"\"\"\n",
    "# rk4.py, Notebook Version\n",
    "\n",
    "import matplotlib.pyplot as plt          #Load Matplotlib\n",
    "import numpy as np\n",
    "\n",
    "R = 100\n",
    "C = 4.7*10**(-5)\n",
    "\n",
    "#   Initialization\n",
    "A = 0\n",
    "B = 4\n",
    "N = 1000001\n",
    "TT = np.zeros(N+1)\n",
    "QQ = np.zeros(N+1)\n",
    "Q = 0\n",
    "T = A\n",
    "TT[0] = T\n",
    "QQ[0] = Q\n",
    "H = (B-A)/(N-1)\n",
    "\n",
    "def dq_dt(time, charge):\n",
    "    \"\"\"Returns the current in the RC circuit at a given time\"\"\"\n",
    "    if time < 2:\n",
    "        return (6/R) - charge/(R*C)\n",
    "    if time >= 2:\n",
    "        return -charge/(R*C)\n",
    "\n",
    "j = 0\n",
    "while T < B:                          # Time loop\n",
    "    if (T + H) > B:\n",
    "        H = B - T                       # Last step\n",
    "    K1 = H * dq_dt(T, Q)\n",
    "    K2 = H*dq_dt(T + H/2., Q + K1/2.)\n",
    "    K3 = H*dq_dt(T + H/2., Q + K2/2.)\n",
    "    K4 = H*dq_dt(T + H, Q + K3)\n",
    "    Q = Q + (K1 + 2.*(K2 + K3) + K4)/6.\n",
    "    j += 1\n",
    "    T += H\n",
    "    TT[j] = T\n",
    "    QQ[j] = Q\n",
    "\n",
    "I = []\n",
    "\n",
    "for j in range(0, len(QQ)-1):\n",
    "    I.append((QQ[j+1] - QQ[j])/H)\n",
    "\n",
    "plt.plot(TT[0:len(I)], I)\n",
    "plt.grid(True)\n",
    "plt.ylabel('Q')\n",
    "plt.xlabel('T')\n",
    "plt.show()\n"
   ]
  },
  {
   "cell_type": "markdown",
   "metadata": {},
   "source": [
    "Compare your ersult for the current to the analyric solution $$I(t) = \\frac{U_0}{R}(e^{-(t-t_1)/RC} \\Theta (t-t_1) - e^{-(t-t_2)/RC} \\Theta (t-t_2))$$\n",
    "\n",
    "where $\\Theta(x)$ is the Heviside step function."
   ]
  },
  {
   "cell_type": "code",
   "execution_count": 4,
   "metadata": {},
   "outputs": [
    {
     "data": {
      "image/png": "[encoded data removed]",
      "text/plain": [
       "<Figure size 432x288 with 1 Axes>"
      ]
     },
     "metadata": {},
     "output_type": "display_data"
    }
   ],
   "source": [
    "def rc_current(time):\n",
    "    \"\"\"Returns the analytic RC current\"\"\"\n",
    "    if time < 2:\n",
    "        return (6/R)*np.exp(-time/(R*C))\n",
    "    if time >= 2:\n",
    "        return -(6/R)*np.exp(-(time-2)/(R*C))\n",
    "\n",
    "TIME = np.linspace(0, 4, N)\n",
    "CURRENT = []\n",
    "\n",
    "for t in TIME:\n",
    "    CURRENT.append(rc_current(t))\n",
    "\n",
    "plt.plot(TIME, CURRENT)\n",
    "plt.grid(True)\n",
    "plt.show()"
   ]
  },
  {
   "cell_type": "markdown",
   "metadata": {},
   "source": [
    "The solutions look identical!"
   ]
  }
 ],
 "metadata": {
  "kernelspec": {
   "display_name": "Python 3",
   "language": "python",
   "name": "python3"
  },
  "language_info": {
   "codemirror_mode": {
    "name": "ipython",
    "version": 3
   },
   "file_extension": ".py",
   "mimetype": "text/x-python",
   "name": "python",
   "nbconvert_exporter": "python",
   "pygments_lexer": "ipython3",
   "version": "3.6.5"
  }
 },
 "nbformat": 4,
 "nbformat_minor": 2
}
