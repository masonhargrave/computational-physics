{
 "cells": [
  {
   "cell_type": "markdown",
   "metadata": {},
   "source": [
    "# Excercise Set 4\n",
    "\n",
    "## Excercise 1: Pulsar analysis with Point Spread Function\n",
    "\n",
    "The Large Area Telescope (LAT) is one of two instru-ments currently in orbit aboard the Fermi satellite.  Itis able to map the entire sky in the energy range fromless than 20 MeV to more than 300 GeV. However, itfunctions more like a particle detector than an opticaltelescope.  As such, while optical telescopes have anangular resolution, the LAT has a point spread func-tion (PSF). The PSF describes the region of sky overwhich  a  point  source  appears  to  “smear  out”  whenviewed by the LAT.\n",
    "\n",
    "In this problem, you will produce a rough simulation of PSR B1509-58, a soft gammaray pulsar, as seen by the Fermi LAT.\n",
    "\n",
    "### Part a:\n",
    "\n",
    "The spectrum of PSR B1509-58 can be described by a power law with exponential cutoff:\n",
    "\n",
    "$$ F(E) = k*E^{-\\alpha} \\exp{-\\frac{E}{E_c}}$$\n",
    "\n",
    "where $\\alpha = 1.87$ is the spectral index, $k = 1 \\times 10^{-4}s^{-1}cm^{-2}$ is a normalization factor, and $E_c = 81 \\mathrm{MeV}$ is the energy cutoff. Normalize this distrobution, and use it to generate 100,000 photon energies from $E = 20 \\mathrm{MeV}$ to $E=500 \\mathrm{MeV}$. Plot the distrobution in a log-log histogram.\n",
    "\n",
    "The integral of $F(E)$ from $20 \\mathrm{MeV}$ to $500 \\mathrm{MeV}$ is about $4.14575 \\times 10^{-6}$ so in order to normailze $F(E)$ we redifne $F(E)$ to be $F(E) = A* k*E^{-\\alpha} \\exp{-\\frac{E}{E_c}}$ where  $A = (4.14575 \\times 10^{-6})^{-1}$.\n",
    "\n",
    "Note that the maximum value of $F$ on the interval from $20 \\mathrm{MeV}$ to $500 \\mathrm{MeV}$ is $0.0695405$."
   ]
  },
  {
   "cell_type": "code",
   "execution_count": 49,
   "metadata": {},
   "outputs": [
    {
     "data": {
      "image/png": "[encoded data removed]",
      "text/plain": [
       "<matplotlib.figure.Figure at 0x7fdd70eb8eb8>"
      ]
     },
     "metadata": {},
     "output_type": "display_data"
    }
   ],
   "source": [
    "import random\n",
    "import numpy as np\n",
    "import matplotlib.pyplot as plt\n",
    "\n",
    "#set values for constants as described above\n",
    "alpha = 1.87\n",
    "k = 0.0001\n",
    "A = 1/(4.14575*10**(-6)) #normalization factor\n",
    "E_c = 81\n",
    "P = 100000\n",
    "\n",
    "#define function to describe the normalized spectrum othe PSR B1509-58\n",
    "def F(E):\n",
    "    return A*k*pow(E, -alpha)*np.exp(-E/E_c)\n",
    "\n",
    "#declare array to contain values of the energies of the accepted simulated particles\n",
    "E_array = []\n",
    "\n",
    "#declare variable to keep track of the number of particles accepted \n",
    "paccepted = 0\n",
    "\n",
    "\n",
    "while paccepted < P: #while the number of particles accepted is below the acceptable threshold\n",
    "    trial_E = random.uniform(20,500) #take a random energy value between 20keV and 500 keV\n",
    "    trial_F = random.uniform(0,0.0695405) #take values of F between 0 and its maximum value on the interval\n",
    "    if trial_F < F(trial_E): #if the randomly selected point is below the F curve\n",
    "        E_array.append(trial_E) #append the randomly selected point into the array\n",
    "        paccepted += 1 #and increment the number of particles accepted\n",
    "\n",
    "        \n",
    "#plot oa histogram of the energies of accepted particles\n",
    "plt.hist(E_array, log = True, bins = 1000)\n",
    "plt.xlabel('Log(E)')\n",
    "plt.ylabel('Log(Particles)')\n",
    "plt.semilogx()\n",
    "plt.show()\n",
    "\n",
    "E_array = []\n",
    "paccepted = 0"
   ]
  },
  {
   "cell_type": "markdown",
   "metadata": {},
   "source": [
    "### Part b:\n",
    "\n",
    "We wil appproximate the Fermi PSF as as 2-D normal distribution in x and y (the actual function is much more complex). The 1-D normal distrubtion is given by:\n",
    "\n",
    "$$ F(x | \\mu, \\sigma) = \\frac{1}{\\sqrt{2 \\pi \\sigma^2}}\\exp \\bigg(-\\frac{(x-\\mu)^2}{2 \\sigma^2} \\bigg)$$\n",
    "\n",
    "where $\\sigma$ is the standard deviation, and $\\mu$ is the center of the peak. For Fermi, the value of $\\sigma$ is energy dependent:\n",
    "\n",
    "$$ \\sigma = \\bigg( \\frac{E}{100\\mathrm{MeV}}\\bigg)^{-0.8} $$\n",
    "\n",
    "PSR B1509-58 is located at equatorial coordiantes (right ascension [RA], declination [DEC])= (48.04, -30.92). Draw 100,000 photons of energy $100 \\mathrm{MeV}$, and make a 2D histogram of their positions, with RA on the $x$ axis and DEC on the $y$ axis."
   ]
  },
  {
   "cell_type": "code",
   "execution_count": 2,
   "metadata": {},
   "outputs": [
    {
     "data": {
      "image/png": "[encoded data removed]",
      "text/plain": [
       "<matplotlib.figure.Figure at 0x7fdd71dfb240>"
      ]
     },
     "metadata": {},
     "output_type": "display_data"
    }
   ],
   "source": [
    "import random\n",
    "import numpy as np\n",
    "import matplotlib.pyplot as plt\n",
    "\n",
    "#set values of constants as defined above\n",
    "E = 100\n",
    "sigma = (E/100)**(-0.8)\n",
    "P = 100000 #number of particles would like to accept\n",
    "\n",
    "# define function to keep track of gaussian spread of position values at a given energy\n",
    "def F(x, mu, sigma):\n",
    "    return (1/np.sqrt(2*np.pi*sigma**2))*np.exp(-((x-mu)**2)/(2*sigma**2))\n",
    "\n",
    "#declare arrays to store values of accepted RA and DEC coordinates\n",
    "RA_values = []\n",
    "DEC_values = []\n",
    "\n",
    "#declare variables to keep track of the number of RA and DEC coordinates accepted\n",
    "RAaccepted = 0\n",
    "DECaccepted = 0\n",
    "\n",
    "#define the center positions of the gaussians\n",
    "mu_RA = 48.04\n",
    "mu_DEC = -30.92\n",
    "\n",
    "while RAaccepted < P: # while not enough RA coordinates have been accepted\n",
    "    trial_RA = random.uniform(mu_RA-4*sigma,mu_RA+4*sigma) #choose a RA value within 4 sigma of the mean\n",
    "    trial_F = random.uniform(0,1/np.sqrt(2*np.pi*sigma**2)) #and choose a random value of F between 0 and the max value of F\n",
    "    if trial_F < F(trial_RA, mu_RA, sigma):#if the randomly chosen poin is below the gaussian, accept the RA coordinate\n",
    "        RA_values.append(trial_RA) #append the new RA coordinate to the appropriate array\n",
    "        RAaccepted += 1 #increment the counter for the number of accepted RA values\n",
    "\n",
    "# same comments as the above while loop only this time we select the DEC coordinates\n",
    "while DECaccepted < P:\n",
    "    trial_DEC = random.uniform(mu_DEC-4*sigma,mu_DEC+4*sigma)\n",
    "    trial_F = random.uniform(0,1/np.sqrt(2*np.pi*sigma**2))\n",
    "    if trial_F < F(trial_DEC, mu_DEC, sigma):\n",
    "        DEC_values.append(trial_DEC)\n",
    "        DECaccepted += 1\n",
    "\n",
    "#note that since the RA and DEC coordinates are independent of one another, we can pair them arbitrarily in the histogram\n",
    "plt.figure(figsize=(10,8))\n",
    "plt.hist2d(RA_values, DEC_values, bins=20)\n",
    "plt.colorbar()\n",
    "plt.xlabel('RA')\n",
    "plt.ylabel('DEC')\n",
    "plt.show()"
   ]
  },
  {
   "cell_type": "markdown",
   "metadata": {},
   "source": [
    "### Part c:\n",
    "\n",
    "Simulate a set of 100,000 photons from PSR B1509-58 in a Monte Carlo simulation. Use the equation from Part (a) to assign each photon an energy. Then use the equations in Part (b) to assign each photon a (RA, DEC) position appropriate for that energy.\n",
    "\n",
    "Make a 2-D histogram of your data, with RA on the X axis and DEC on the Y axis."
   ]
  },
  {
   "cell_type": "code",
   "execution_count": 3,
   "metadata": {},
   "outputs": [
    {
     "data": {
      "image/png": "[encoded data removed]",
      "text/plain": [
       "<matplotlib.figure.Figure at 0x7fdd7c5f40f0>"
      ]
     },
     "metadata": {},
     "output_type": "display_data"
    }
   ],
   "source": [
    "import random\n",
    "import numpy as np\n",
    "import matplotlib.pyplot as plt\n",
    "\n",
    "# define constants as above\n",
    "alpha = 1.87\n",
    "k = 0.0001\n",
    "A = 1/(4.14575*10**(-6))\n",
    "E_c = 81\n",
    "P = 100000\n",
    "\n",
    "#define function to describe the normalized spectrum othe PSR B1509-58\n",
    "def F(E):\n",
    "    return A*k*pow(E, -alpha)*np.exp(-E/E_c)\n",
    "\n",
    "#declare array to contain values of the energies of the accepted simulated particles\n",
    "E_array = []\n",
    "\n",
    "#declare variable to keep track of the number of particles accepted\n",
    "paccepted = 0\n",
    "\n",
    "while paccepted < P: #while the number of particles accepted is below the acceptable threshold\n",
    "    trial_E = random.uniform(20,500) #take a random energy value between 20keV and 500 keV\n",
    "    trial_F = random.uniform(0,0.0695405) #take values of F between 0 and its maximum value on the interval\n",
    "    if trial_F < F(trial_E): #if the randomly selected point is below the F curve\n",
    "        E_array.append(trial_E) #append the randomly selected point into the array\n",
    "        paccepted += 1 #and increment the number of particles accepted\n",
    "\n",
    "# define function to keep track of gaussian spread of position values at a given energy\n",
    "def FF(x, mu, sigma):\n",
    "    return (1/np.sqrt(2*np.pi*sigma**2))*np.exp(-((x-mu)**2)/(2*sigma**2))\n",
    "\n",
    "#declare arrays to store values of accepted RA and DEC coordinates\n",
    "RA_values = []\n",
    "DEC_values = []\n",
    "\n",
    "#define the center positions of the gaussians\n",
    "mu_RA = 48.04\n",
    "mu_DEC = -30.92\n",
    "\n",
    "\n",
    "for i in range(0,len(E_array)): #for photons with energies distributed according to the spectrum\n",
    "    E = E_array[i]\n",
    "    sigma = (E/100)**(-0.8) #modify sigma for the energy value of the given itteration\n",
    "    RAaccepted = False\n",
    "    DECaccepted = False\n",
    "    while RAaccepted == False: #loop until a valid RA value is found\n",
    "        trial_RA = random.uniform(mu_RA-4*sigma,mu_RA+4*sigma)\n",
    "        trial_FF = random.uniform(0,1/np.sqrt(2*np.pi*sigma**2))\n",
    "        if trial_FF < FF(trial_RA, mu_RA, sigma):\n",
    "            RA_values.append(trial_RA)\n",
    "            RAaccepted = True\n",
    "    while DECaccepted == False: #loop until a valid DEC value is found\n",
    "        trial_DEC = random.uniform(mu_DEC-4*sigma,mu_DEC+4*sigma)\n",
    "        trial_FF = random.uniform(0,1/np.sqrt(2*np.pi*sigma**2))\n",
    "        if trial_FF < FF(trial_DEC, mu_DEC, sigma):\n",
    "            DEC_values.append(trial_DEC)\n",
    "            DECaccepted = True\n",
    "\n",
    "#create a 2-D histogram of the RA and DEC values\n",
    "#note that the RA and DEC value of the same index in their respective arrays were generated from the same E value\n",
    "plt.figure(figsize=(10,8))\n",
    "plt.hist2d(RA_values, DEC_values, bins = 100)\n",
    "plt.colorbar()\n",
    "plt.xlabel('RA')\n",
    "plt.ylabel('DEC')\n",
    "plt.show()"
   ]
  },
  {
   "cell_type": "markdown",
   "metadata": {},
   "source": [
    "### Part d:\n",
    "\n",
    "How might one experimentally determine the LAT’s PSF? Due to the uniquepulsating nature of pulsars, their position can be measured to extreme accuracyin other wavelengths.  “Photon gating” can be used to select photons highlylikely to originate from the pulsar.  Put together, this can be studied to arriveat the PSF. To increase statistics, LAT scientists “cut out” multiple pulsars, andanalyzed the data as a single generic source in a technique known as “stack-ing.” If you wanted to “cut out” PSR B1509-58 in such a way that you kept 95%of the data, what radius around the pulsar would you use?"
   ]
  },
  {
   "cell_type": "code",
   "execution_count": 4,
   "metadata": {},
   "outputs": [
    {
     "name": "stdout",
     "output_type": "stream",
     "text": [
      "1.5461561657811733\n"
     ]
    }
   ],
   "source": [
    "import numpy as np\n",
    "\n",
    "#convert lists to arrays\n",
    "RA_array = np.asarray (RA_values) \n",
    "DEC_array = np.asarray (DEC_values)\n",
    "\n",
    "#define new array that stores the distance each pair of RA and DEC coordinates are from the location of the pulsar\n",
    "Magnitude = np.sqrt((RA_array-mu_RA)**2 + (DEC_array-mu_DEC)**2)\n",
    "\n",
    "#sort the list from smallest distance to largest\n",
    "sorted(Magnitude)\n",
    "\n",
    "index = int(.95*len(Magnitude))\n",
    "\n",
    "#select the 95th percentile distance\n",
    "radius = Magnitude[index]\n",
    "\n",
    "#print the 9th percentile distance (this is the radius at which 95% of the photons from the pulsar would be kept)\n",
    "print (Magnitude[index])"
   ]
  },
  {
   "cell_type": "markdown",
   "metadata": {},
   "source": [
    "## Exercise 2: Compton Scattering\n",
    "\n",
    "Compton scattering is the inelastic scattering of a photon by a charged particle, usually an electron. The scattering angle of the electron ($\\phi$) depends on the initial energy of the photon $(E)$ and its scattered energy ($E'$).\n",
    "\n",
    "$$\\cos(\\phi) = \\frac{E^2 - E'^2 + K^2(1+2E_0/K)}{2EK\\sqrt{1+2E_0/K}}$$\n",
    "\n",
    "where $K=2.5 \\mathrm{keV}$ and $E_0 = 511 \\mathrm{keV}$ is the electron rest mass.\n",
    "\n",
    "Suppose that X-rays are incident on a rarget and undergo Compton scattering from the atomic electrons.\n",
    "\n",
    "### Part a:\n",
    "\n",
    "Calculate the scattered energy $E'$ if $E = 100 \\mathrm{keV}$ and $\\phi = 73^{\\circ}$. For each iteration step $i$, printout $E'_i$ and $\\Delta = |E'_i - E'_{i-1}|$.\n",
    "\n",
    "To do this, we convert the equation above to:\n",
    "\n",
    "$$ \\cos(\\phi) - \\frac{E^2 - E'^2 + K^2(1+2E_0/K)}{2EK\\sqrt{1+2E_0/K}} = 0 $$\n",
    "\n",
    "We will use the bisection method by making use of the fact that the function on the LHS of the above equation is less than zero when evaluated at $E'=80\\mathrm{keV}$ and is greater than zero when evaluated at $E'=120\\mathrm{keV}$."
   ]
  },
  {
   "cell_type": "code",
   "execution_count": 57,
   "metadata": {},
   "outputs": [
    {
     "name": "stdout",
     "output_type": "stream",
     "text": [
      "iteration  0: E' = 100.000000 keV and f(E) =  0.039328\n",
      "iteration  1: E' = 90.000000 keV and f(E) = -0.148387\n",
      "iteration  2: E' = 95.000000 keV and f(E) = -0.056999\n",
      "iteration  3: E' = 97.500000 keV and f(E) = -0.009453\n",
      "iteration  4: E' = 98.750000 keV and f(E) =  0.014783\n",
      "iteration  5: E' = 98.125000 keV and f(E) =  0.002626\n",
      "iteration  6: E' = 97.812500 keV and f(E) = -0.003423\n",
      "iteration  7: E' = 97.968750 keV and f(E) = -0.000401\n",
      "iteration  8: E' = 98.046875 keV and f(E) =  0.001112\n",
      "iteration  9: E' = 98.007812 keV and f(E) =  0.000355\n",
      "iteration 10: E' = 97.988281 keV and f(E) = -0.000023\n",
      "iteration 11: E' = 97.998047 keV and f(E) =  0.000166\n",
      "iteration 12: E' = 97.993164 keV and f(E) =  0.000072\n",
      "iteration 13: E' = 97.990723 keV and f(E) =  0.000024\n",
      "iteration 14: E' = 97.989502 keV and f(E) =  0.000001\n",
      "iteration 15: E' = 97.988892 keV and f(E) = -0.000011\n",
      "iteration 16: E' = 97.989197 keV and f(E) = -0.000005\n",
      "iteration 17: E' = 97.989349 keV and f(E) = -0.000002\n",
      "iteration 18: E' = 97.989426 keV and f(E) = -0.000001\n",
      "iteration 19: E' = 97.989464 keV and f(E) =  0.000000\n",
      "iteration 20: E' = 97.989445 keV and f(E) = -0.000000\n",
      "iteration 21: E' = 97.989454 keV and f(E) = -0.000000\n",
      "iteration 22: E' = 97.989459 keV and f(E) = -0.000000\n",
      "iteration 23: E' = 97.989461 keV and f(E) =  0.000000\n",
      "iteration 24: E' = 97.989460 keV and f(E) =  0.000000\n",
      "iteration 25: E' = 97.989460 keV and f(E) =  0.000000\n",
      "root found with precision eps =  1e-06\n",
      "E' = 97.98945963382721 keV\n"
     ]
    }
   ],
   "source": [
    "# MODIFIED FROM LECTURE\n",
    "\n",
    "import numpy as np\n",
    "\n",
    "#define variables as above\n",
    "K = 2.5\n",
    "E_0 = 511\n",
    "E = 100\n",
    "phi = np.deg2rad(73)\n",
    "\n",
    "# define function for which we want to find the roots\n",
    "def f(E_prime):\n",
    "    return np.cos(phi) - (E**2 - E_prime**2 + (K**2)*(1+2*E_0/K))/(2*E*K*np.sqrt(1+2*E_0/K))\n",
    "\n",
    "# define function that finds bisection \n",
    "#Eminus is the lower bound of the energy range\n",
    "#Eplus is the upper bound of the energy range\n",
    "#Nmax is maximum number of loops before the program terminates\n",
    "#eps is the desired distance of convergence to the true value\n",
    "def bisection (Eminus, Eplus, Nmax, eps):\n",
    "    for it in range(0, Nmax): #DO NOT loop more than Nmax times\n",
    "        E_prime = (Eminus + Eplus)/2 #store center point of the E range\n",
    "        print(\"iteration %2d: E' = %.6f keV and f(E) = %9.6f\" % (it, E_prime, f(E_prime))) #print the value of E' and f(E')\n",
    "        if (f(Eplus)*f(E_prime))>0: #if the root is in the left half of the E' range                    \n",
    "            Eplus=E_prime #set the upper bound of the E' range to the former midpoint of the E' range\n",
    "        else: #if the root is in the upper half of the E' range\n",
    "            Eminus=E_prime #set the lower bound of the E' range to the former midpoint of the E' range                   \n",
    "        if(Eplus-Eminus<eps): #When the lower and upper bounds of the E range are sufficiently close                        \n",
    "            print(\"root found with precision eps = \",eps) #print the final value of the root of E' (which is to eps precision)\n",
    "            break #leave the for loop\n",
    "        if it==Nmax-1: #print failure message if the program loops Nmax times\n",
    "             print(\"root not found after Nmax iterations \") \n",
    "    return E_prime  #return the value of E'\n",
    "\n",
    "eps=1e-6 #desired precision\n",
    "a=80 #lower bound of bisection (f(E') < 0)\n",
    "b=120 #upper bound of bisection (f(E') > 0)\n",
    "Nmax=100 #maximum number of itterations allowed\n",
    "root=bisection(a, b, Nmax, eps) #run the function defined above\n",
    "print(\"E' =\",root, 'keV') #print the rot value"
   ]
  },
  {
   "cell_type": "markdown",
   "metadata": {},
   "source": [
    "### Part b:\n",
    "\n",
    "Repeat the calculation for scattering from a nuclear proton in hydrogen, with $E_0 = 938 \\mathrm{MeV}$.\n",
    "\n",
    "We will use the bisection method by making use of the fact that, for the $E_0 = 938 \\mathrm{MeV}$, $f(E')$ is less than zero when evaluated at $E'=80\\mathrm{keV}$ and is greater than zero when evaluated at $E'=120\\mathrm{keV}$."
   ]
  },
  {
   "cell_type": "code",
   "execution_count": 56,
   "metadata": {},
   "outputs": [
    {
     "name": "stdout",
     "output_type": "stream",
     "text": [
      "iteration  0: E' = 500000.000000 keV and f(E') = 577185.427155\n",
      "iteration  1: E' = 250000.000000 keV and f(E') = 144288.437593\n",
      "iteration  2: E' = 125000.000000 keV and f(E') = 36064.190203\n",
      "iteration  3: E' = 62500.000000 keV and f(E') = 9008.128355\n",
      "iteration  4: E' = 31250.000000 keV and f(E') = 2244.112893\n",
      "iteration  5: E' = 15625.000000 keV and f(E') = 553.109028\n",
      "iteration  6: E' = 7812.500000 keV and f(E') = 130.358062\n",
      "iteration  7: E' = 3906.250000 keV and f(E') = 24.670320\n",
      "iteration  8: E' = 1953.125000 keV and f(E') = -1.751615\n",
      "iteration  9: E' = 2929.687500 keV and f(E') =  9.257524\n",
      "iteration 10: E' = 2441.406250 keV and f(E') =  3.202497\n",
      "iteration 11: E' = 2197.265625 keV and f(E') =  0.587827\n",
      "iteration 12: E' = 2075.195312 keV and f(E') = -0.616298\n",
      "iteration 13: E' = 2136.230469 keV and f(E') = -0.022836\n",
      "iteration 14: E' = 2166.748047 keV and f(E') =  0.280345\n",
      "iteration 15: E' = 2151.489258 keV and f(E') =  0.128217\n",
      "iteration 16: E' = 2143.859863 keV and f(E') =  0.052556\n",
      "iteration 17: E' = 2140.045166 keV and f(E') =  0.014826\n",
      "iteration 18: E' = 2138.137817 keV and f(E') = -0.004014\n",
      "iteration 19: E' = 2139.091492 keV and f(E') =  0.005404\n",
      "iteration 20: E' = 2138.614655 keV and f(E') =  0.000695\n",
      "iteration 21: E' = 2138.376236 keV and f(E') = -0.001660\n",
      "iteration 22: E' = 2138.495445 keV and f(E') = -0.000482\n",
      "iteration 23: E' = 2138.555050 keV and f(E') =  0.000106\n",
      "iteration 24: E' = 2138.525248 keV and f(E') = -0.000188\n",
      "iteration 25: E' = 2138.540149 keV and f(E') = -0.000041\n",
      "iteration 26: E' = 2138.547599 keV and f(E') =  0.000033\n",
      "iteration 27: E' = 2138.543874 keV and f(E') = -0.000004\n",
      "iteration 28: E' = 2138.545737 keV and f(E') =  0.000014\n",
      "iteration 29: E' = 2138.544805 keV and f(E') =  0.000005\n",
      "iteration 30: E' = 2138.544340 keV and f(E') =  0.000000\n",
      "iteration 31: E' = 2138.544107 keV and f(E') = -0.000002\n",
      "iteration 32: E' = 2138.544223 keV and f(E') = -0.000001\n",
      "iteration 33: E' = 2138.544281 keV and f(E') = -0.000000\n",
      "iteration 34: E' = 2138.544311 keV and f(E') =  0.000000\n",
      "iteration 35: E' = 2138.544296 keV and f(E') = -0.000000\n",
      "iteration 36: E' = 2138.544303 keV and f(E') = -0.000000\n",
      "iteration 37: E' = 2138.544307 keV and f(E') =  0.000000\n",
      "iteration 38: E' = 2138.544305 keV and f(E') = -0.000000\n",
      "iteration 39: E' = 2138.544306 keV and f(E') =  0.000000\n",
      "root found with precision eps =  1e-06\n",
      "E' = 2138.544306035328 keV\n"
     ]
    }
   ],
   "source": [
    "# MODIFIED FROM LECTURE (see comments above)\n",
    "\n",
    "import numpy as np\n",
    "\n",
    "K = 2.5\n",
    "E_0 = 938*10**3\n",
    "E = 100\n",
    "phi = np.deg2rad(73)\n",
    "\n",
    "def f(E_prime):\n",
    "    return np.cos(phi) - (E**2 - E_prime**2 + (K**2)*(1+2*E_0/K))/(2*E*K*np.sqrt(1+2*E_0/K))\n",
    "\n",
    "\n",
    "def bisection (Eminus, Eplus, Nmax, eps):\n",
    "    for it in range(0, Nmax):\n",
    "        E_prime = (Eminus + Eplus)/2\n",
    "        print(\"iteration %2d: E' = %.6f keV and f(E') = %9.6f\" % (it, E_prime, f(E_prime)))\n",
    "        if (f(Eplus)*f(E_prime))>0:                    \n",
    "            Eplus=E_prime\n",
    "        else:\n",
    "            Eminus=E_prime                    \n",
    "        if(Eplus-Eminus<eps):                        \n",
    "            print(\"root found with precision eps = \",eps)\n",
    "            break\n",
    "        if it==Nmax-1:\n",
    "             print(\"root not found after Nmax iterations \")   \n",
    "    return E_prime  \n",
    "\n",
    "eps=1e-6\n",
    "a=0\n",
    "b=10**6\n",
    "Nmax=100\n",
    "root=bisection(a, b, Nmax, eps)\n",
    "print(\"E' =\",root, 'keV')"
   ]
  },
  {
   "cell_type": "markdown",
   "metadata": {},
   "source": [
    "## Exercise 3: Quantum Monte Carlo\n",
    "\n",
    "The hydrogen atom (1-electron atom) is one of the simplest quantum mechanical\n",
    "systems, and the ground state energy of hydrogen can be estimated via the variational\n",
    "method, wherein we calculate the local energy of a trial state function and\n",
    "search for a minimum value:\n",
    "\n",
    "$$<E_L> = \\frac{1}{\\psi_T}H\\psi_T $$\n",
    "\n",
    "This minimum value apporimates the true energy given by $<H>$.\n",
    "\n",
    "The 3-dimensional version of Schrodinger's equation leads to the following Hamiltonian for this system:\n",
    "\n",
    "$$ H = -\\frac{1}{2} \\frac{\\partial^2}{\\partial \\rho^2} - \\frac{1}{\\rho} + \\frac{l(l+1)}{2 \\rho^2} $$\n",
    "\n",
    "A suitable trial function for the hydrogen atom ground state might be\n",
    "\n",
    "$$u_T(\\rho) = \\alpha \\rho e^{-\\alpha \\rho}$$\n",
    "\n",
    "### Part a:\n",
    "\n",
    "With this trial function, show that the local energy operator $E_L$ can be written as\n",
    "\n",
    "$$E_L\n",
    "(\\rho) = - \\frac{1}{\\rho}-\\frac{\\alpha}{2} \\bigg(\\alpha - \\frac{2}{\\rho} \\bigg)$$\n",
    "\n",
    "and that\n",
    "\n",
    "$$ <H> = \\int_0^\\infty P(\\rho)E_L(\\rho)d\\rho $$\n",
    "\n",
    "where $P(\\rho)$ is the probability density."
   ]
  },
  {
   "cell_type": "markdown",
   "metadata": {},
   "source": [
    "--------------------------------------------------------------------------------------------\n",
    "From $<E_L> = \\frac{1}{\\psi_T}H\\psi_T $, noting that $l=0$ for the ground state, and taking $\\psi_T = u_T(\\rho)$ we find:\n",
    "\n",
    "$$ E_L(\\rho) = \\frac{\\frac{1}{2} \\left(2 \\alpha ^2 e^{-\\alpha  \\rho }-\\alpha ^3 \\rho  e^{-\\alpha  \\rho }\\right) - \\alpha  e^{-\\alpha  \\rho }}{\\alpha  \\rho  e^{-\\alpha  \\rho }}$$\n",
    "\n",
    "which, with some simplification, becomes\n",
    "\n",
    "$$ \\frac{-\\alpha ^2 \\rho +2 \\alpha -2}{2 \\rho } $$\n",
    "\n",
    "\n",
    "which is equal to:\n",
    "\n",
    "$$- \\frac{1}{\\rho}-\\frac{\\alpha}{2} \\bigg(\\alpha - \\frac{2}{\\rho} \\bigg)$$\n",
    "\n",
    "QED"
   ]
  },
  {
   "cell_type": "markdown",
   "metadata": {},
   "source": [
    "-----------------------------------------------------------------------\n",
    "\n"
   ]
  },
  {
   "cell_type": "markdown",
   "metadata": {},
   "source": [
    "By the standard definition\n",
    "\n",
    "$$ <H> = \\int_0^\\infty \\psi_T(\\rho)^* H \\psi_T(\\rho) d\\rho$$\n",
    "\n",
    "From $<E_L> = \\frac{1}{\\psi_T}H\\psi_T $ we find that\n",
    "\n",
    "$$H\\psi_T = <E_L>\\psi_T$$\n",
    "\n",
    "so\n",
    "\n",
    "$$ <H> = \\int_0^\\infty \\psi_T(\\rho)^*\\psi_T(\\rho) E_L(\\rho) d\\rho$$\n",
    "\n",
    "which means that \n",
    "\n",
    "$$ <H> = \\int_0^\\infty P(\\rho) E_L(\\rho) d\\rho$$\n",
    "\n",
    "where $P(\\rho) = |\\psi_T^2|$\n",
    "\n",
    "Note that $P(\\rho)$ is normalized by $4 \\alpha$ so we re-define $P(\\rho)$ to be:\n",
    "\n",
    "$$P(\\rho) = 4 \\alpha ^3 \\rho ^2 e^{-2 \\alpha  \\rho }$$"
   ]
  },
  {
   "cell_type": "markdown",
   "metadata": {},
   "source": [
    "### Part b:\n",
    "\n",
    "Use Monte Carlo integration to evaluate <H> as a function of $\\alpha$, thereby finding the ground state energy."
   ]
  },
  {
   "cell_type": "code",
   "execution_count": 68,
   "metadata": {},
   "outputs": [
    {
     "name": "stdout",
     "output_type": "stream",
     "text": [
      "2.0 1.9892625912888733\n"
     ]
    }
   ],
   "source": [
    "# define normalized probability distrobution\n",
    "def P(rho, alpha):\n",
    "    return 4*alpha*(alpha * rho * np.exp(-alpha*rho))**2\n",
    "\n",
    "# define integrand\n",
    "def EL(rho, alpha):\n",
    "    return -(1/rho)-(alpha/2)*(alpha-(2/rho))\n",
    "\n",
    "\n",
    "########################TEST THAT VonNeuman WORKS HERE#################\n",
    "alpha = 2.0\n",
    "rho_values = []\n",
    "\n",
    "rhoaccepted = 0\n",
    "\n",
    "R=1000000\n",
    "\n",
    "while rhoaccepted < R:\n",
    "    trial_rho = random.uniform(0, 5)\n",
    "    trial_P = random.uniform(0, alpha * trial_rho)\n",
    "    if trial_P < P(trial_rho, alpha):\n",
    "        rho_values.append(trial_rho)\n",
    "        rhoaccepted += 1\n",
    "\n",
    "elsum = 0\n",
    "\n",
    "for i in range(0, len(rho_values)):\n",
    "    rho = rho_values[i]\n",
    "    elsum += EL(rho, alpha)\n",
    "\n",
    "result = elsum/len(rho_values)\n",
    "    \n",
    "print (alpha, result)"
   ]
  },
  {
   "cell_type": "code",
   "execution_count": 69,
   "metadata": {},
   "outputs": [
    {
     "data": {
      "image/png": "[encoded data removed]",
      "text/plain": [
       "<matplotlib.figure.Figure at 0x7fdd7c537550>"
      ]
     },
     "metadata": {},
     "output_type": "display_data"
    }
   ],
   "source": [
    "##################CHECK THAT PLOT LOOKS REASONABLE#####################\n",
    "plt.hist(rho_values, bins = 100)\n",
    "plt.show()"
   ]
  },
  {
   "cell_type": "code",
   "execution_count": 70,
   "metadata": {},
   "outputs": [
    {
     "data": {
      "image/png": "[encoded data removed]",
      "text/plain": [
       "<matplotlib.figure.Figure at 0x7fdd71c97c50>"
      ]
     },
     "metadata": {},
     "output_type": "display_data"
    }
   ],
   "source": [
    "R = 1000 #number of rho values that will be generated\n",
    "\n",
    "alpha_values = [] #list to contain values of alpha at which the integral is checked\n",
    "EL_exp_values = [] #list to contain value of the expectation values of the ground state energy at various alpha values\n",
    "\n",
    "for alpha in np.linspace(0.5, 2, 100): #itterate over alpha with 100 even steps from 0.5 to 2\n",
    "    rhoaccepted = 0 #variable to keep track of the number of rho values accepted so far in the itteration\n",
    "    rho_values = [] #list to store rho values for this itteration\n",
    "    while rhoaccepted < R: #keep looking for rho values until R such values are accepted\n",
    "        trial_rho = random.uniform(0, 5/alpha) #check a random rho between 0 and 5/alpha (the upper bound is chose because it decreases as the spread the exponential in P(rho) decays faster)\n",
    "        trial_P = random.uniform(0, np.exp(-2)*4*alpha) # chack a P value between 0 and the maximum possible P value\n",
    "        if trial_P < P(trial_rho, alpha): # so long as the randomly generated point is below the actual P curve\n",
    "            rho_values.append(trial_rho) #append the rho value of this point to the list of accepted rho values\n",
    "            rhoaccepted += 1 # and increment the accepted rho value counter\n",
    "    \n",
    "    elsum = 0 #define variable to keep track of the sum of the integrand when evaluated at the rho values just found\n",
    "\n",
    "    for i in range(0, len(rho_values)): # for all the rho values just found\n",
    "        rho = rho_values[i]\n",
    "        elsum += EL(rho, alpha) #evaluate the integrand for the rho value and add to the running sum\n",
    "    result = elsum/len(rho_values) #take te result to be the average value of the sum\n",
    "    #print(alpha, result)\n",
    "    alpha_values.append(alpha) #append the current value of alpha to the list of alpha values\n",
    "    EL_exp_values.append(result) # append the result of the integral to the list of integral values\n",
    "    \n",
    "#plot the value of the integral as it varies with alpha\n",
    "plt.plot(alpha_values, EL_exp_values)\n",
    "plt.xlabel('alpha')\n",
    "plt.ylabel('<H>')\n",
    "plt.title(\"Monte Carlo calculation\")\n",
    "plt.grid()\n",
    "plt.show()"
   ]
  },
  {
   "cell_type": "markdown",
   "metadata": {},
   "source": [
    "The minimum value of $<H>$ appears to occur around $\\alpha = 1$. This value is approxiamtely:\n",
    "\n",
    "$$<E_L>=-\\frac{e^2}{8 \\pi \\epsilon_0 a_0}$$"
   ]
  }
 ],
 "metadata": {
  "kernelspec": {
   "display_name": "Python 3",
   "language": "python",
   "name": "python3"
  },
  "language_info": {
   "codemirror_mode": {
    "name": "ipython",
    "version": 3
   },
   "file_extension": ".py",
   "mimetype": "text/x-python",
   "name": "python",
   "nbconvert_exporter": "python",
   "pygments_lexer": "ipython3",
   "version": "3.6.4"
  }
 },
 "nbformat": 4,
 "nbformat_minor": 2
}
