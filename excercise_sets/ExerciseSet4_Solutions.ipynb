{
 "cells": [
  {
   "cell_type": "markdown",
   "metadata": {},
   "source": [
    "# Problem 1\n",
    "\n",
    "## (a) Generating a distribution \n",
    "Generate the distribution:   \n",
    "$$F(E) = k * E^{-\\alpha} \\exp\\left(-\\frac{E}{E_{c}}\\right)$$\n",
    "with $k = 1 \\times 10^{-4} \\, \\text{s}^{-1} \\text{cm}^{-2}$, $E_{c} = 81 \\, \\text{MeV}$, and $\\alpha=1.87$.  \n",
    "Note that the area of this function from 20 MeV to 500 MeV is $4.14575 \\times 10^{-6}$. \n",
    "\n",
    "This is similar to how we sampled the weight functions in Homework 3, Problem 2. I will use the acceptance/rejection method to pull from this distribution. "
   ]
  },
  {
   "cell_type": "code",
   "execution_count": 2,
   "metadata": {},
   "outputs": [],
   "source": [
    "%matplotlib inline"
   ]
  },
  {
   "cell_type": "code",
   "execution_count": 3,
   "metadata": {},
   "outputs": [
    {
     "data": {
      "image/png": "[encoded data removed]",
      "text/plain": [
       "<Figure size 432x288 with 1 Axes>"
      ]
     },
     "metadata": {},
     "output_type": "display_data"
    }
   ],
   "source": [
    "import numpy as np \n",
    "import matplotlib.pylab as plt\n",
    "\n",
    "# Define a function to generate points with an arbitrary weighting function. \n",
    "# \"Function\" is my weight function\n",
    "# \"x_min\" is the minimum x value\n",
    "# \"x_max\" is the maximum x value\n",
    "# \"y_max\" is the maximum y value of our function\n",
    "# \"N\" is the desired number of points\n",
    "def generator(function, x_min, x_max, y_min, y_max, N): \n",
    "    \n",
    "    # Appending to arrays is slow. I create empty arrays, and assign the values as I go\n",
    "    points_x = np.empty(N)\n",
    "    points_y = np.empty(N)\n",
    "    \n",
    "    # Keep track of how many points I have accepted. \n",
    "    accepted = 0\n",
    "    \n",
    "    while accepted < N: \n",
    "        \n",
    "        # Generate random x and y values\n",
    "        # Uniform is inclusive on the first element, and excusive on the second. \n",
    "        # To cover my full range, I increase the upper bound by the smallest amount possible. \n",
    "        test_x = np.random.uniform(x_min, np.nextafter(x_max, x_max+1))\n",
    "        test_y = np.random.uniform(y_min, np.nextafter(y_max, y_max+1))\n",
    "        \n",
    "        # Check if my random values \"fit\" my chosen probability distribution\n",
    "        if test_y <= weight(test_x): \n",
    "            points_x[accepted] = test_x\n",
    "            points_y[accepted] = test_y\n",
    "            accepted += 1\n",
    "            \n",
    "    return points_x, points_y\n",
    "\n",
    "weight = lambda x: (1/4.14575)*pow(10, 2) * pow(x, -1.87) * np.exp(-x/81)\n",
    "\n",
    "minimum = weight(500)\n",
    "maximum = weight(20)\n",
    "\n",
    "sim_energies, unused_y = generator(weight, 20, 500, minimum, maximum, 100000)\n",
    "\n",
    "plt.hist(sim_energies, bins=np.logspace(np.log10(20), np.log10(500), 20), log = True)\n",
    "plt.gca().set_xscale(\"log\")\n",
    "plt.show()"
   ]
  },
  {
   "cell_type": "markdown",
   "metadata": {},
   "source": [
    "## (b) Approximate the Fermi Point-Spread Function \n",
    "The PSF is a gaussian function in $X$ and $Y$. Use 100,000 points, with energy 100 MeV. "
   ]
  },
  {
   "cell_type": "code",
   "execution_count": 4,
   "metadata": {},
   "outputs": [],
   "source": [
    "# The standard deviation is energy dependent. \n",
    "sigma = lambda x: pow(x/100, -0.8)\n",
    "\n",
    "# Two normal distributions centered at the appropriate center value\n",
    "normal_x = lambda x, y: (1/np.sqrt(2 * np.pi * pow(y, 2))) * np.exp(-pow((x-48.04), 2) / (2 * pow(y, 2)))\n",
    "normal_y = lambda x, y: 1/np.sqrt(2 * np.pi * pow(y, 2)) * np.exp(-pow((x+30.92), 2) / (2 * pow(y, 2)))\n",
    "\n",
    "# I slightly modified the function from a) to work to generate positions. This is still just accept/reject. \n",
    "# It now takes two functions (the normal distribution, and standard deviation), a list of photon energies, and the \n",
    "# mean of the normal distribution. The function is greatest at the mean, and the maximum y value is needed \n",
    "# for the acceptance/rejection method. \n",
    "def position_generator(normal_func, sigma_func, energies, x_min, x_max, x_mid, y_min): \n",
    "    \n",
    "    # Appending to arrays is slow. I create empty arrays, and assign the values as I go\n",
    "    points_x = np.empty(len(energies))\n",
    "    points_y = np.empty(len(energies))\n",
    "    \n",
    "    # Keep track of how many points I have accepted. \n",
    "    accepted = 0\n",
    "    \n",
    "    for ii in range(len(energies)): \n",
    "        energy = energies[ii]\n",
    "        \n",
    "        # getting the maximum y value \n",
    "        y_max = normal_func(x_mid, sigma_func(energy))\n",
    "        while True: \n",
    "            # Generate random x and y values\n",
    "            # Uniform is inclusive on the first element, and excusive on the second. \n",
    "            # To cover my full range, I increase the upper bound by the smallest amount possible. \n",
    "            test_x = np.random.uniform(x_min, np.nextafter(x_max, x_max+1))\n",
    "            test_y = np.random.uniform(y_min, np.nextafter(y_max, y_max+1))\n",
    "\n",
    "            # Check if my random values \"fit\" my chosen probability distribution\n",
    "            if test_y <= normal_func(test_x, sigma_func(energy)): \n",
    "                points_x[ii] = test_x\n",
    "                points_y[ii] = test_y\n",
    "                break\n",
    "\n",
    "            \n",
    "    return points_x, points_y\n",
    "\n",
    "# generating a list of energies\n",
    "# They are all 100 MeV, for all 100,000 photons\n",
    "energies = np.ones(100000)\n",
    "energies = energies * 100\n",
    "\n",
    "# Generate my datapoints\n",
    "ra_points, unused_y  = position_generator(normal_x, sigma, energies, 20, 80, 48.04, 0)\n",
    "dec_points, unused_y = position_generator(normal_y, sigma, energies, -50, -10, -30.92, 0)"
   ]
  },
  {
   "cell_type": "code",
   "execution_count": 5,
   "metadata": {},
   "outputs": [
    {
     "data": {
      "image/png": "[encoded data removed]",
      "text/plain": [
       "<Figure size 432x288 with 2 Axes>"
      ]
     },
     "metadata": {},
     "output_type": "display_data"
    }
   ],
   "source": [
    "# Generating the data takes a long time compared to plotting it. \n",
    "# Placing this plotting code in a new notebook cell \n",
    "# lets me change the plot without recalculating all of the data. \n",
    "\n",
    "plt.hist2d(ra_points, dec_points, bins = 40, cmap = 'jet')\n",
    "plt.colorbar()\n",
    "plt.ylabel('DEC')\n",
    "plt.xlabel('RA')\n",
    "plt.show()"
   ]
  },
  {
   "cell_type": "markdown",
   "metadata": {},
   "source": [
    "## (c) Simulating 100,000 photons \n",
    "The next step is to simulate/generate 100,000 photons with appropriate energies and positions.   \n",
    "  \n",
    "I already have a list of energies from part (a). From part (b), I have a function that takes those energies and generates appropriately distributed positions. Here, I combine the two. \n",
    "\n",
    "Note that the PSF changes with energy, so we cannot simply generate a 2-D Gaussian with 100,000 photons."
   ]
  },
  {
   "cell_type": "code",
   "execution_count": 6,
   "metadata": {},
   "outputs": [
    {
     "data": {
      "image/png": "[encoded data removed]",
      "text/plain": [
       "<Figure size 432x288 with 2 Axes>"
      ]
     },
     "metadata": {},
     "output_type": "display_data"
    }
   ],
   "source": [
    "sim_ra, unused_y  = position_generator(normal_x, sigma, sim_energies, 20, 80, 48.04, 0)\n",
    "sim_dec, unused_y = position_generator(normal_y, sigma, sim_energies, -50, -10, -30.92, 0)\n",
    "\n",
    "plt.hist2d(sim_ra, sim_dec, bins = 40, cmap = 'jet')\n",
    "plt.colorbar()\n",
    "plt.ylabel('DEC')\n",
    "plt.xlabel('RA')\n",
    "plt.show()"
   ]
  },
  {
   "cell_type": "markdown",
   "metadata": {},
   "source": [
    "## (d) Cut efficiency \n",
    "\n",
    "What cut would you need to make around the source's position to keep 95% of the data?  This is the kind of thing you might do to remove extraneous sources or focus in on a specific source.\n",
    "  \n",
    "I calculate the distance of each photon from the known center. I then sort this list, and take the distance corresponding to the 95000th photon. Thus, looking within this radius will keep 95% of the data. As a check, I draw a circle at this radius. "
   ]
  },
  {
   "cell_type": "code",
   "execution_count": 50,
   "metadata": {},
   "outputs": [
    {
     "data": {
      "image/png": "[encoded data removed]",
      "text/plain": [
       "<Figure size 432x288 with 2 Axes>"
      ]
     },
     "metadata": {},
     "output_type": "display_data"
    },
    {
     "name": "stdout",
     "output_type": "stream",
     "text": [
      "Keep all photons within 6.780545 degrees of center.\n"
     ]
    }
   ],
   "source": [
    "# calculate the distance. \n",
    "distance =  np.sort(np.sqrt(pow(sim_ra-48.04, 2) + pow(sim_dec+30.92, 2)))[94999]\n",
    "\n",
    "# plot the circle \n",
    "circ_95 = plt.Circle((48.04, -30.92), distance, color='m', fill = False)\n",
    "plt.hist2d(sim_ra, sim_dec, bins = 40, cmap = 'jet')\n",
    "plt.colorbar()\n",
    "ax = plt.gca()\n",
    "ax.add_artist(circ_95)\n",
    "plt.ylabel('DEC')\n",
    "plt.xlabel('RA')\n",
    "plt.show()\n",
    "\n",
    "print ('Keep all photons within %f degrees of center.' % distance)"
   ]
  },
  {
   "cell_type": "markdown",
   "metadata": {},
   "source": [
    "# Problem 2 \n",
    "\n",
    "## (a) Scattering from atomic electrons\n",
    "\n",
    "The problem is to find the solution for $E'$ in the equation\n",
    "$$ \\cos \\phi = \\frac{E^2 - E'^2 + K^2(1+ 2E_0/K)}{2EK \\sqrt{1 + 2E_0/K}}$$\n",
    "This is the same as finding the zero of the equation\n",
    "$$\\cos \\phi - \\frac{E^2 - E'^2 + K^2(1+ 2E_0/K)}{2EK \\sqrt{1 + 2E_0/K}} = 0$$\n",
    "(Note that it is possible to solve this simple equation algebraically, but that misses the entire point of the exercise.)\n",
    "\n",
    "We will solve this equation using the bisection root-finding method.\n",
    "It is not the fastest method, but it is robust and fast enough for this problem.\n",
    "All units are keV."
   ]
  },
  {
   "cell_type": "code",
   "execution_count": 49,
   "metadata": {},
   "outputs": [
    {
     "name": "stdout",
     "output_type": "stream",
     "text": [
      "iteration  0: x = 500.000000, Δ=500.000000, f(x) = 23.750622\n",
      "iteration  1: x = 250.000000, Δ=250.000000, f(x) =  5.226173\n",
      "iteration  2: x = 125.000000, Δ=125.000000, f(x) =  0.595061\n",
      "iteration  3: x = 62.500000, Δ=62.500000, f(x) = -0.562717\n",
      "iteration  4: x = 93.750000, Δ=31.250000, f(x) = -0.080309\n",
      "iteration  5: x = 109.375000, Δ=15.625000, f(x) =  0.233256\n",
      "iteration  6: x = 101.562500, Δ=7.812500, f(x) =  0.070443\n",
      "iteration  7: x = 97.656250, Δ=3.906250, f(x) = -0.006441\n",
      "iteration  8: x = 99.609375, Δ=1.953125, f(x) =  0.031624\n",
      "iteration  9: x = 98.632812, Δ=0.976562, f(x) =  0.012498\n",
      "iteration 10: x = 98.144531, Δ=0.488281, f(x) =  0.003005\n",
      "iteration 11: x = 97.900391, Δ=0.244141, f(x) = -0.001724\n",
      "iteration 12: x = 98.022461, Δ=0.122070, f(x) =  0.000639\n",
      "iteration 13: x = 97.961426, Δ=0.061035, f(x) = -0.000543\n",
      "root found with precision eps =  0.1\n"
     ]
    },
    {
     "data": {
      "text/plain": [
       "97.96142578125"
      ]
     },
     "execution_count": 49,
     "metadata": {},
     "output_type": "execute_result"
    }
   ],
   "source": [
    "def f(Eprime, E0):\n",
    "    phi = 73/180*np.pi\n",
    "    K = 2.5 # keV\n",
    "    E = 100 # keV\n",
    "    return np.cos(phi) - (E**2 - Eprime**2 + K**2*(1+2*E0/K)) / (2*E*K*np.sqrt(1+2*E0/K))\n",
    "\n",
    "def bisection(E0, xminus, xplus, Nmax, eps):\n",
    "    oldx = 0\n",
    "    for it in range(0,Nmax):\n",
    "        x=(xminus+xplus)/2\n",
    "        print(\"iteration %2d: x = %.6f, Δ=%.6f, f(x) = %9.6f\" % (it, x, abs(x-oldx), f(x, E0)))\n",
    "        if (f(xplus, E0)*f(x, E0))>0:                      # Root in other half\n",
    "            xplus=x\n",
    "        else:\n",
    "            xminus=x\n",
    "        if(xplus-xminus<eps):                      # Converged?\n",
    "            print(\"root found with precision eps = \",eps)\n",
    "            break\n",
    "        if it==Nmax-1:\n",
    "             print(\"root not found after Nmax iterations \")   \n",
    "        oldx = x\n",
    "    return x  \n",
    "\n",
    "E0 = 511 # keV\n",
    "bisection(E0, 0., 1000., 100, 0.1)"
   ]
  },
  {
   "cell_type": "markdown",
   "metadata": {},
   "source": [
    "We are fortunate that we can check this result against the analytic solution, but only because we can solve explicitly for $E'$:"
   ]
  },
  {
   "cell_type": "code",
   "execution_count": 46,
   "metadata": {},
   "outputs": [
    {
     "name": "stdout",
     "output_type": "stream",
     "text": [
      "Analytic solution is 97.98945934262818\n"
     ]
    }
   ],
   "source": [
    "def analytic_solution(E0):\n",
    "    phi = 73/180*np.pi\n",
    "    K  = 2.5\n",
    "    E = 100\n",
    "    minusEprime2 = (np.cos(phi)*2*E*K*np.sqrt(1+2*E0/K)) - E**2 - K**2*(1+2*E0/K)\n",
    "    Eprime = np.sqrt(-minusEprime2)\n",
    "    return Eprime\n",
    "\n",
    "print(\"Analytic solution is\", analytic_solution(511))"
   ]
  },
  {
   "cell_type": "markdown",
   "metadata": {},
   "source": [
    "## (b) Scattering from nuclear protons\n",
    "\n",
    "The only change to the scatterer mass, which is now 938,000 keV."
   ]
  },
  {
   "cell_type": "code",
   "execution_count": 47,
   "metadata": {},
   "outputs": [
    {
     "name": "stdout",
     "output_type": "stream",
     "text": [
      "iteration  0: x = 1500.000000 and f(x) = -5.364163\n",
      "iteration  1: x = 2250.000000 and f(x) =  1.129291\n",
      "iteration  2: x = 1875.000000 and f(x) = -2.442109\n",
      "iteration  3: x = 2062.500000 and f(x) = -0.737577\n",
      "iteration  4: x = 2156.250000 and f(x) =  0.175565\n",
      "iteration  5: x = 2109.375000 and f(x) = -0.286079\n",
      "iteration  6: x = 2132.812500 and f(x) = -0.056525\n",
      "iteration  7: x = 2144.531250 and f(x) =  0.059203\n",
      "iteration  8: x = 2138.671875 and f(x) =  0.001260\n",
      "iteration  9: x = 2135.742188 and f(x) = -0.027652\n",
      "iteration 10: x = 2137.207031 and f(x) = -0.013201\n",
      "iteration 11: x = 2137.939453 and f(x) = -0.005972\n",
      "iteration 12: x = 2138.305664 and f(x) = -0.002356\n",
      "iteration 13: x = 2138.488770 and f(x) = -0.000548\n",
      "iteration 14: x = 2138.580322 and f(x) =  0.000356\n",
      "root found with precision eps =  0.1\n",
      "Analytic solution is 2138.544305860164\n"
     ]
    }
   ],
   "source": [
    "E0 = 938000 # keV\n",
    "bisection(E0, 0., 3000., 100, 0.1)\n",
    "print(\"Analytic solution is\", analytic_solution(938000))"
   ]
  },
  {
   "cell_type": "markdown",
   "metadata": {},
   "source": [
    "For now, we have taken the formula at face value.  We will not worry about where the extra energy comes from!"
   ]
  },
  {
   "cell_type": "markdown",
   "metadata": {
    "collapsed": true
   },
   "source": [
    "# Problem 3\n",
    "\n",
    "The 3-dimensional Hamiltonian for the system is given as \n",
    "\n",
    "$$H = -\\frac{1}{2} \\frac{\\partial^2}{\\partial \\rho^2} - \\frac{1}{\\rho} + \\frac{\\ell(\\ell+1)}{2\\rho^2}$$\n",
    "\n",
    "with a trial function that depends only on $\\rho$, since the hydrogen atom ground state is spherically symmetric\n",
    "\n",
    "$$\\Psi_T(\\rho) = \\alpha \\rho e^{-\\alpha \\rho}$$\n",
    "\n",
    "## (a) Derivation of $E_L$\n",
    "\n",
    "To find $E_L$ for this specific combination of $H$ and $\\Psi$, we'll calculate\n",
    "\n",
    "$$E_L = \\frac{1}{\\Psi_T} H \\Psi_T$$\n",
    "\n",
    "The first step is to calculate $H\\Psi_T$ (we'll drop the $T$ subscript for now):\n",
    "\n",
    "$$\n",
    "\\begin{align}\n",
    "H\\Psi &= -\\frac{1}{2} \\frac{\\partial^2}{\\partial \\rho^2}\\Psi - \\frac{1}{\\rho}\\Psi + \\frac{\\ell(\\ell+1)}{2\\rho^2}\\Psi \\\\\n",
    "&= -\\frac{1}{2} \\frac{\\partial}{\\partial \\rho} \\left[ \\alpha e^{-\\alpha\\rho} - \\alpha^2 \\rho e^{-\\alpha\\rho} \\right] \\Psi - \\frac{1}{\\rho}\\Psi + \\frac{\\ell(\\ell+1)}{2\\rho^2}\\Psi \\\\\n",
    "&= -\\frac{1}{2} \\left[ -\\alpha^2 e^{-\\alpha\\rho} - \\alpha^2 e^{-\\alpha\\rho} + \\alpha^3 \\rho e^{-\\alpha\\rho} \\right] \\Psi - \\frac{1}{\\rho}\\Psi + \\frac{\\ell(\\ell+1)}{2\\rho^2}\\Psi \\\\\n",
    "&= \\alpha^2 e^{-\\alpha\\rho}\\Psi + -\\frac{\\alpha^3}{2} \\rho e^{-\\alpha\\rho}\\Psi - \\frac{1}{\\rho}\\Psi + \\frac{\\ell(\\ell+1)}{2\\rho^2}\\Psi \\\\\n",
    "\\end{align}\n",
    "$$\n",
    "\n",
    "Then after we divide out $\\Psi$, we obtain the expression for $E_L$:\n",
    "\n",
    "$$\n",
    "E_L = \\frac{\\alpha}{\\rho} - \\frac{1}{2} \\alpha^2 - \\frac{1}{\\rho} + \\frac{\\ell(\\ell+1)}{2\\rho^2}\n",
    "$$\n",
    "\n",
    "For the ground state, $\\ell=0$, and the last term disappears, leaving\n",
    "\n",
    "$$E_L = -\\frac{1}{\\rho} - \\frac{\\alpha}{2}\\left( \\alpha - \\frac{2}{\\rho} \\right)$$"
   ]
  },
  {
   "cell_type": "markdown",
   "metadata": {},
   "source": [
    "## (b) Numerical Results\n",
    "\n",
    "To calculate the expectation value $\\langle E_L \\rangle$, we need to integrate $E_L$ with the probability weighting $\\Psi^\\ast \\Psi = \\alpha^2 \\rho^2 e^{-2\\alpha\\rho}$.\n",
    "The importance sampling for the integral can be done with the acceptance/rejection method or with the Metropolis algorithm.\n",
    "\n",
    "The simple acceptance/rejection method will be inefficient for this exponential function, so we will use the Metropolis method instead.\n",
    "(It also has the advantage that it can explore the infinite interval without a cutoff value.)\n",
    "We need to know where the random walk should start on the interval $[0,\\infty]$ and how big the trial step size should be.\n",
    "To find some reasonable values, check the probability function for a reasonable value $\\alpha=1$."
   ]
  },
  {
   "cell_type": "code",
   "execution_count": 9,
   "metadata": {},
   "outputs": [
    {
     "data": {
      "image/png": "[encoded data removed]",
      "text/plain": [
       "<Figure size 432x288 with 1 Axes>"
      ]
     },
     "metadata": {},
     "output_type": "display_data"
    }
   ],
   "source": [
    "def P(rho, alpha):\n",
    "    if rho > 0:\n",
    "        return pow(alpha,2)*pow(rho,2)*np.exp(-2*alpha*rho)\n",
    "    else:\n",
    "        return 0\n",
    "\n",
    "N = 100\n",
    "rho_values = np.linspace(0, 10, N)\n",
    "P_values = []\n",
    "for rho in rho_values:\n",
    "    P_values.append(P(rho, 1.0))\n",
    "plt.plot(rho_values, P_values)\n",
    "plt.show()"
   ]
  },
  {
   "cell_type": "markdown",
   "metadata": {},
   "source": [
    "For the value $\\alpha=1$, it looks like the maximum of the probability distribution is around 1.0, and an approximate \"width\" is also 1.  This gives us a hint about where to start the random walk and how to set the trial step size.\n",
    "After running some tests with the code below, we find that a trial step size of 2.0 seems to give a trial success rate of 50%.\n",
    "\n",
    "And after seeing the result with the Metropolis algorithm, we added the von Neumann algorithm, too, for comparison."
   ]
  },
  {
   "cell_type": "code",
   "execution_count": 22,
   "metadata": {},
   "outputs": [
    {
     "name": "stdout",
     "output_type": "stream",
     "text": [
      "For alpha=0.400, MC efficiency is 10000 points in 12755 attempts: EL = -0.305\n",
      "For alpha=0.500, MC efficiency is 10000 points in 13560 attempts: EL = -0.358\n",
      "For alpha=0.600, MC efficiency is 10000 points in 14313 attempts: EL = -0.403\n",
      "For alpha=0.700, MC efficiency is 10000 points in 15332 attempts: EL = -0.444\n",
      "For alpha=0.800, MC efficiency is 10000 points in 16585 attempts: EL = -0.476\n",
      "For alpha=0.900, MC efficiency is 10000 points in 17797 attempts: EL = -0.491\n",
      "For alpha=1.000, MC efficiency is 10000 points in 18990 attempts: EL = -0.500\n",
      "For alpha=1.100, MC efficiency is 10000 points in 20143 attempts: EL = -0.498\n",
      "For alpha=1.200, MC efficiency is 10000 points in 21265 attempts: EL = -0.492\n",
      "For alpha=1.300, MC efficiency is 10000 points in 22857 attempts: EL = -0.470\n",
      "For alpha=1.400, MC efficiency is 10000 points in 23806 attempts: EL = -0.438\n",
      "For alpha=1.500, MC efficiency is 10000 points in 25483 attempts: EL = -0.376\n",
      "For alpha=1.600, MC efficiency is 10000 points in 27325 attempts: EL = -0.330\n",
      "For alpha=1.700, MC efficiency is 10000 points in 28625 attempts: EL = -0.260\n",
      "For alpha=1.800, MC efficiency is 10000 points in 29739 attempts: EL = -0.213\n"
     ]
    },
    {
     "data": {
      "image/png": "[encoded data removed]",
      "text/plain": [
       "<Figure size 432x288 with 1 Axes>"
      ]
     },
     "metadata": {},
     "output_type": "display_data"
    }
   ],
   "source": [
    "def EL(rho, alpha):\n",
    "    # rho must be positive\n",
    "    return -1./rho - alpha/2. * (alpha - 2./rho)\n",
    "\n",
    "\n",
    "def metropolis(N, x0, alpha, w, delta):\n",
    "    # x0 is the starting point for the random walk\n",
    "    # alpha is the variable parameter, not the variable of integration\n",
    "    # w is the target probability distribution \n",
    "    n_attempts = 0\n",
    "    n_accepted = 0\n",
    "    points = np.zeros(N)\n",
    "    x = x0\n",
    "    while n_accepted < N:\n",
    "        n_attempts += 1\n",
    "        x_trial = x + delta*np.random.uniform(-1., 1.)\n",
    "        r = w(x_trial, alpha)/w(x, alpha)\n",
    "        if r > np.random.random():\n",
    "            # Step accepted\n",
    "            points[n_accepted] = x_trial\n",
    "            x = x_trial\n",
    "            n_accepted += 1\n",
    "    # Returns N points distributed according to w\n",
    "    return (points, n_attempts)\n",
    "\n",
    "def vonNeumann(N, xmin, xmax, ymin, ymax, w, alpha):\n",
    "    n_attempts = 0\n",
    "    n_accepted = 0\n",
    "    points = np.zeros(N)\n",
    "    while n_accepted < N:\n",
    "        n_attempts +=1\n",
    "        x_trial = np.random.uniform(xmin, xmax)\n",
    "        y = np.random.uniform(ymin, ymax)\n",
    "        if y < w(x_trial, alpha):\n",
    "            points[n_accepted] = x_trial\n",
    "            x = x_trial\n",
    "            n_accepted += 1\n",
    "    return (points, n_attempts)\n",
    "\n",
    "N = 10000\n",
    "delta = 2.0\n",
    "alpha_values = []\n",
    "EL_exp_values = []\n",
    "for alpha in np.linspace(0.4, 1.8, 15):\n",
    "    elsum = 0.\n",
    "    (x_values, n_attempts) = metropolis(N, 1.5, alpha, P, delta)\n",
    "    #(x_values, n_attempts) = vonNeumann(N, 0., 5., 0., 0.14, P, alpha)\n",
    "    #plt.hist(x_values)\n",
    "    #plt.show()\n",
    "    for x in x_values:\n",
    "        elsum += EL(x, alpha)\n",
    "    result = elsum/N\n",
    "    print(\"For alpha=%.3f, MC efficiency is %d points in %d attempts: EL = %.3f\" \n",
    "          %(alpha, N, n_attempts, result))\n",
    "    alpha_values.append(alpha)\n",
    "    EL_exp_values.append(result)\n",
    "\n",
    "plt.plot(alpha_values, EL_exp_values)\n",
    "plt.xlabel('alpha')\n",
    "plt.ylabel('<EL>')\n",
    "plt.title(\"Monte Carlo calculation\")\n",
    "plt.grid()\n",
    "plt.show()"
   ]
  },
  {
   "cell_type": "markdown",
   "metadata": {},
   "source": [
    "The minimum energy occurs near $\\alpha=1.0$, and the ground state energy is -0.5 in units of $e^2/4\\pi\\epsilon_0 a_0$.  This is $E_G = -0.5 * 27.21 = -13.6\\,\\text{eV}$, exactly what we already knew for the hydrogen atom.\n",
    "\n",
    "The only mystery is why we don't find the clear minimum at exactly $\\alpha=1.0$.  If we use the von Neumann method instead, then we do find the minimum a little more clearly at $\\alpha=1.0$."
   ]
  },
  {
   "cell_type": "code",
   "execution_count": 23,
   "metadata": {},
   "outputs": [
    {
     "data": {
      "image/png": "[encoded data removed]",
      "text/plain": [
       "<Figure size 432x288 with 1 Axes>"
      ]
     },
     "metadata": {},
     "output_type": "display_data"
    }
   ],
   "source": [
    "alpha_values = []\n",
    "EL_exp_values = []\n",
    "for alpha in np.linspace(0.4, 1.8, 15):\n",
    "    elsum = 0.\n",
    "    #(x_values, n_attempts) = metropolis(N, 1.5, alpha, P, delta)\n",
    "    (x_values, n_attempts) = vonNeumann(N, 0., 5., 0., 0.14, P, alpha)\n",
    "    for x in x_values:\n",
    "        elsum += EL(x, alpha)\n",
    "    result = elsum/N\n",
    "    alpha_values.append(alpha)\n",
    "    EL_exp_values.append(result)\n",
    "\n",
    "plt.plot(alpha_values, EL_exp_values)\n",
    "plt.xlabel('alpha')\n",
    "plt.ylabel('<EL>')\n",
    "plt.title(\"Monte Carlo calculation\")\n",
    "plt.grid()\n",
    "plt.show()"
   ]
  },
  {
   "cell_type": "code",
   "execution_count": null,
   "metadata": {
    "collapsed": true
   },
   "outputs": [],
   "source": []
  }
 ],
 "metadata": {
  "anaconda-cloud": {},
  "kernelspec": {
   "display_name": "Python 3",
   "language": "python",
   "name": "python3"
  },
  "language_info": {
   "codemirror_mode": {
    "name": "ipython",
    "version": 3
   },
   "file_extension": ".py",
   "mimetype": "text/x-python",
   "name": "python",
   "nbconvert_exporter": "python",
   "pygments_lexer": "ipython3",
   "version": "3.5.5"
  }
 },
 "nbformat": 4,
 "nbformat_minor": 2
}
