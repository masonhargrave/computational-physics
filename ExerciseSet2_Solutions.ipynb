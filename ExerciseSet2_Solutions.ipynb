{
 "cells": [
  {
   "cell_type": "markdown",
   "metadata": {},
   "source": [
    "# Problem 1\n",
    "\n",
    "## (a) Numerical Differentiation\n",
    "\n",
    "The forward difference formulas for the first and second derivatives come from the Taylor expansion for $f(x+h)$:\n",
    "\n",
    "$$f(x+h) = f(x) + hf'(x) + \\frac{h^2}{2!} f''(x) + \\frac{h^3}{3!} f'''(x) + \\dots$$\n",
    "\n",
    "By solving for $f'(x)$, we find\n",
    "\n",
    "$$f'_\\text{fd}(x) = \\frac{f(x+h) - f(x)}{h}$$\n",
    "\n",
    "To find a forward difference formula for $f''(x)$, first calculate \n",
    "\n",
    "$$f(x+2h) = f(x) + 2hf'(x) + \\frac{4h^2}{2!} f''(x) + \\frac{8h^3}{3!} f'''(x) + \\dots$$\n",
    "\n",
    "Then combine expressions to solve for $f''(x)$:\n",
    "\n",
    "$$f''_\\text{fd}(x) = \\frac{f(x) - 2f(x+h) + f(x+2h)}{h^2} + \\mathcal{O}(h)$$\n",
    "\n",
    "Note that the error here is $\\mathcal{O}(h)$ because the $f'''$ terms have not cancelled.\n",
    "\n",
    "The central difference formula for the second derivative is just the \"midpoint\" algorithm you derived in HW #1:\n",
    "\n",
    "$$f''_\\text{cd}(x) = \\frac{f(x+h)-2f(x) + f(x-h)}{h^2} + \\mathcal{O}(h^2)$$\n"
   ]
  },
  {
   "cell_type": "code",
   "execution_count": 2,
   "metadata": {},
   "outputs": [
    {
     "name": "stdout",
     "output_type": "stream",
     "text": [
      "h \t Forward Diff \t Central Diff\n",
      "0.50 \t 56.48901 \t 30.49018\n",
      "0.45 \t 52.84067 \t 30.31113\n",
      "0.40 \t 49.44923 \t 30.15157\n",
      "0.35 \t 46.29559 \t 30.01127\n",
      "0.30 \t 43.36213 \t 29.89006\n",
      "0.25 \t 40.63257 \t 29.78777\n",
      "0.20 \t 38.09190 \t 29.70427\n",
      "0.15 \t 35.72625 \t 29.63943\n",
      "0.10 \t 33.52283 \t 29.59319\n",
      "0.05 \t 31.46979 \t 29.56546\n"
     ]
    }
   ],
   "source": [
    "import numpy as np\n",
    "\n",
    "def f(x):\n",
    "    return x*np.exp(x)\n",
    "\n",
    "def second_derivative_fd(f, x, h):\n",
    "    return (f(x) - 2*f(x+h) + f(x+2*h))/pow(h,2)\n",
    "\n",
    "def second_derivative_cd(f, x, h):\n",
    "    return (f(x+h) - 2*f(x) + f(x-h))/pow(h,2)\n",
    "\n",
    "x = 2.0\n",
    "h_values = []\n",
    "forward_difference_approximations = []\n",
    "central_difference_approximations = []\n",
    "print(\"h \\t Forward Diff \\t Central Diff\")\n",
    "for h in np.arange(0.50, 0.00, -0.05):\n",
    "    print(\"%.2f \\t %.5f \\t %.5f\" % (h, second_derivative_fd(f, x, h), second_derivative_cd(f, x, h)))\n",
    "    h_values.append(h)\n",
    "    forward_difference_approximations.append(second_derivative_fd(f, x, h))\n",
    "    central_difference_approximations.append(second_derivative_cd(f, x, h))"
   ]
  },
  {
   "cell_type": "markdown",
   "metadata": {},
   "source": [
    "## (b) Verifying the Error\n",
    "\n",
    "The error is calculated by comparing the numerical result with the exact derivative\n",
    "\n",
    "$$\n",
    "\\begin{align}\n",
    "f(x) &= x e^x \\\\\n",
    "f'(x) &= e^x + x e^x \\\\\n",
    "f''(x) &= e^x + e^x + x e^x \\\\\n",
    "f''(2) & = 4 e^2\n",
    "\\end{align}\n",
    "$$"
   ]
  },
  {
   "cell_type": "code",
   "execution_count": 3,
   "metadata": {
    "scrolled": false
   },
   "outputs": [
    {
     "name": "stdout",
     "output_type": "stream",
     "text": [
      "Exact derivative is 29.5562243957226\n"
     ]
    },
    {
     "data": {
      "text/plain": [
       "<Figure size 640x480 with 2 Axes>"
      ]
     },
     "metadata": {},
     "output_type": "display_data"
    },
    {
     "name": "stdout",
     "output_type": "stream",
     "text": [
      "Results of 1-d fits (slope, intercept):\n",
      "For FD: [1.14844367 4.0327738 ]\n",
      "For CD: [2.00447419 1.31777614]\n"
     ]
    }
   ],
   "source": [
    "import matplotlib.pyplot as plt\n",
    "\n",
    "exact_answer = 4 * np.exp(2)\n",
    "print(\"Exact derivative is\", exact_answer)\n",
    "\n",
    "forward_difference_absolute_errors = []\n",
    "central_difference_absolute_errors = []\n",
    "for fd_approximation in forward_difference_approximations:\n",
    "    forward_difference_absolute_errors.append(fd_approximation - exact_answer)\n",
    "\n",
    "for cd_approximation in central_difference_approximations:\n",
    "    central_difference_absolute_errors.append(cd_approximation - exact_answer)\n",
    "    \n",
    "fig = plt.figure(1)\n",
    "fig1 = fig.add_subplot(2,1,1)\n",
    "fig1.plot(np.log(h_values), np.log(forward_difference_absolute_errors))\n",
    "fig1.set_ylabel('log(forward diff error)')\n",
    "fig2 = fig.add_subplot(2,1,2)\n",
    "fig2.plot(np.log(h_values), np.log(central_difference_absolute_errors))\n",
    "fig2.set_xlabel('log(h)')\n",
    "fig2.set_ylabel('log(central diff error)')\n",
    "plt.show()\n",
    "print(\"Results of 1-d fits (slope, intercept):\")\n",
    "print(\"For FD:\", np.polyfit(np.log(h_values), np.log(forward_difference_absolute_errors),1))\n",
    "print(\"For CD:\", np.polyfit(np.log(h_values), np.log(central_difference_absolute_errors),1))"
   ]
  },
  {
   "cell_type": "markdown",
   "metadata": {},
   "source": [
    "The slope of the log-log plot gives us the exponent of the $h$ dependence. For example, if the plot has a slope of 2: \n",
    "$$\\log \\epsilon = 2 \\log h = \\log h^2 ,$$\n",
    "and therefore $\\epsilon \\sim h^2$.\n",
    "\n",
    "The fits show that the dependence of the errors is roughly $\\mathcal{O}(h^{1.1})$ for forward difference and almost exactly $\\mathcal{O}(h^2)$ for central difference.  This is just as expected from the derivation.  (1.1 should actually be 1.0 for the forward difference algorithm.)"
   ]
  },
  {
   "cell_type": "markdown",
   "metadata": {},
   "source": [
    "# Problem 2\n",
    "\n"
   ]
  },
  {
   "cell_type": "markdown",
   "metadata": {},
   "source": [
    "## (a) Plotting the distribution\n",
    "\n",
    "We use the given values $M=90$ and $\\Gamma=10$.  We will use these fixed values in the definition of the Breit-Wigner function."
   ]
  },
  {
   "cell_type": "code",
   "execution_count": 4,
   "metadata": {},
   "outputs": [],
   "source": [
    "def bw(E):\n",
    "    M = 90.0\n",
    "    Gamma = 10.0\n",
    "    g = np.sqrt(M*M*(M*M+Gamma+Gamma))\n",
    "    k = 2.*np.sqrt(2)*M*Gamma*g/np.pi/np.sqrt(M*M+g)\n",
    "    return k/((E*E-M*M)*(E*E-M*M)+M*M*Gamma*Gamma)"
   ]
  },
  {
   "cell_type": "markdown",
   "metadata": {},
   "source": [
    "The number of points in the plot is arbitrary, so I will start with 10,000 points."
   ]
  },
  {
   "cell_type": "code",
   "execution_count": 5,
   "metadata": {},
   "outputs": [
    {
     "data": {
      "image/png": "[encoded data removed]",
      "text/plain": [
       "<Figure size 432x288 with 1 Axes>"
      ]
     },
     "metadata": {},
     "output_type": "display_data"
    }
   ],
   "source": [
    "import numpy as np\n",
    "import scipy.misc\n",
    "import matplotlib.pyplot as plt\n",
    "E_values = np.linspace(0.,180.,10000)\n",
    "bw_values = bw(E_values)\n",
    "plt.plot(E_values, bw_values)\n",
    "plt.grid()\n",
    "plt.show()"
   ]
  },
  {
   "cell_type": "markdown",
   "metadata": {},
   "source": [
    "If you look very carefully, you can see that the function is not completely symmetric.  The low-side tail is higher than the high-side tail."
   ]
  },
  {
   "cell_type": "markdown",
   "metadata": {},
   "source": [
    "## (b) Numerical integration with trapezoidal rule\n",
    "\n",
    "The `trap` function below performs the integration for a list of $(x,y)$ values.\n",
    "The output here uses the `E_values` and `bw_values` from part (a)."
   ]
  },
  {
   "cell_type": "code",
   "execution_count": 6,
   "metadata": {},
   "outputs": [],
   "source": [
    "def trap(x_val, y_val): \n",
    "    \n",
    "    area_total = 0 # a running record of the area I have integrated so far\n",
    "    \n",
    "    h = (x_val[-1] - x_val[0]) / (len(x_val) - 1) # the distance between adjacent points \n",
    "    \n",
    "    # loop through index values\n",
    "    # I need to start at the first point, but only run to the penultimate point \n",
    "    for i in range(len(x_val) - 1):\n",
    "        \n",
    "        # determine the area of one of my trapezoids\n",
    "        first_y = y_val[i]\n",
    "        second_y = y_val[i + 1]\n",
    "        area = 0.5 * h * (first_y + second_y)\n",
    "        \n",
    "        # add this area to my running total \n",
    "        area_total += area\n",
    "        \n",
    "    return area_total"
   ]
  },
  {
   "cell_type": "code",
   "execution_count": 7,
   "metadata": {},
   "outputs": [
    {
     "name": "stdout",
     "output_type": "stream",
     "text": [
      "My calculated area is 0.9921802591423964\n",
      "Numpy's calculated area is 0.9921802591423923\n"
     ]
    }
   ],
   "source": [
    "my_result = trap(E_values, bw_values)\n",
    "numpy_result = np.trapz(bw_values, E_values) \n",
    "print (\"My calculated area is %.16f\" % my_result)\n",
    "print (\"Numpy's calculated area is %.16f\" % numpy_result)"
   ]
  },
  {
   "cell_type": "markdown",
   "metadata": {},
   "source": [
    "## (c) Numerical integration with Simpson's rule\n",
    "\n",
    "This integration uses Simpson's rule, with an odd number of data points.\n",
    "The `simpson` function performs the integration for a list of (x,y) values.\n",
    "We have to remove one point from `x_val` and `y_val` to get the odd number of data points; otherwise we would trigger the error message and get `None` for the result.  (Try it by redefining `x_odd`.)"
   ]
  },
  {
   "cell_type": "code",
   "execution_count": 29,
   "metadata": {
    "scrolled": false
   },
   "outputs": [],
   "source": [
    "\n",
    "# I remove the last data point from my lists\n",
    "# Negative indexing is something not found in every language, \n",
    "# but it is useful to be familiar with. \n",
    "x_odd = E_values[0:-1]\n",
    "y_odd = bw_values[0:-1]\n",
    "\n",
    "def simpson(x_val, y_val):\n",
    "    weights = []\n",
    "    \n",
    "    # check if my x values are even\n",
    "    # the '%' here represents the modulo operation, or the remainder\n",
    "    # after division. \n",
    "    if len(x_val)%2 == 0:\n",
    "        print ('Simpson\\'s rule requires an odd number of points, but you have supplied an even number.')\n",
    "        return\n",
    "    \n",
    "    # An else statement would also work, but you should try and anticipate \n",
    "    # different outcomes as much as possible. \n",
    "    elif len(x_val)%2 == 1:\n",
    "        \n",
    "        h = (x_val[-1] - x_val[0]) / (len(x_val) - 1) # distance between points \n",
    "        \n",
    "        # I employ indexing tricks somewhat unique to python. \n",
    "        weights = np.empty(len(x_val))\n",
    "        weights[::2] = (2/3) * h\n",
    "        weights[1::2] = (4/3) * h\n",
    "        weights[0] = h/3\n",
    "        weights[-1] = h/3\n",
    "        \n",
    "        return np.sum(weights * np.array(y_val))"
   ]
  },
  {
   "cell_type": "code",
   "execution_count": 30,
   "metadata": {},
   "outputs": [
    {
     "name": "stdout",
     "output_type": "stream",
     "text": [
      "My calculated area is 0.99217869\n",
      "Scipy's calculated area is 0.99217869\n"
     ]
    }
   ],
   "source": [
    "from scipy.integrate import simps\n",
    "\n",
    "my_result = simpson(x_odd, y_odd)\n",
    "numpy_result = simps(y_odd, x_odd)\n",
    "\n",
    "print (\"My calculated area is %.8f\" % my_result)\n",
    "print (\"Scipy's calculated area is %.8f\" % numpy_result)"
   ]
  },
  {
   "cell_type": "markdown",
   "metadata": {},
   "source": [
    "The results from the trapezoidal rule and Simpson's rule are slightly different.  This is expected because the second derivative of the function is not zero."
   ]
  },
  {
   "cell_type": "markdown",
   "metadata": {},
   "source": [
    "## (d) Calculating the fraction\n",
    "\n",
    "We need to calculate the following fraction:\n",
    "$$\\frac{\\int_{60}^{120} f(E) dE} \n",
    "{\\int_{0}^{180} f(E) dE}$$\n",
    "\n",
    "The simplest approach is to use the `trap` function we wrote to integrate a generic list of $(x,y)$ values."
   ]
  },
  {
   "cell_type": "code",
   "execution_count": 37,
   "metadata": {},
   "outputs": [],
   "source": [
    "full_E_values = np.linspace(0., 180., 10000)\n",
    "full_bw_values = bw(full_E_values)\n",
    "\n",
    "restricted_E_values = np.linspace(60., 120., 10000)\n",
    "restricted_bw_values = bw(restricted_E_values)"
   ]
  },
  {
   "cell_type": "code",
   "execution_count": 40,
   "metadata": {},
   "outputs": [
    {
     "name": "stdout",
     "output_type": "stream",
     "text": [
      "ratio of integrals is 0.907903\n"
     ]
    }
   ],
   "source": [
    "full_integral = trap(full_E_values, full_bw_values)\n",
    "restricted_integral = trap(restricted_E_values, restricted_bw_values)\n",
    "\n",
    "print(\"ratio of integrals is %f\" % (restricted_integral/full_integral))"
   ]
  },
  {
   "cell_type": "markdown",
   "metadata": {},
   "source": [
    "# Problem 3\n",
    "\n",
    "We will use Romberg integration to calculate\n",
    "\n",
    "$$\\int_0^{\\pi/2} \\frac{d\\theta}{1+\\cos\\theta}$$\n",
    "\n",
    "to 8 decimal places of accuracy.  This corresponds to an absolute error of less than `5e-9`.\n",
    "\n",
    "The trickiest part about writing the code is setting up the triangular array of results.  The array is built in the following order:\n",
    "\n",
    "$$\n",
    "\\begin{array}{ccc}\n",
    "0 & & \\\\\n",
    "1 & 2 & \\\\\n",
    "3 & 4 & 5 \\\\\n",
    "\\end{array}\n",
    "$$\n"
   ]
  },
  {
   "cell_type": "code",
   "execution_count": 8,
   "metadata": {
    "scrolled": false
   },
   "outputs": [
    {
     "name": "stdout",
     "output_type": "stream",
     "text": [
      "Last result is 1.17809724509617241850\n",
      "Current precision is  1.0\n",
      "Last result is 1.00613320470579759025\n",
      "Current precision is  0.17196404039037483\n",
      "Last result is 1.00017660797390073313\n",
      "Current precision is  0.005956596731896857\n",
      "Last result is 1.00000245923435859829\n",
      "Current precision is  0.00017414873954213483\n",
      "Last result is 1.00000001385299674972\n",
      "Current precision is  2.4453813618485754e-06\n",
      "Last result is 1.00000000002871392013\n",
      "Current precision is  1.3824282829588697e-08\n",
      "Last result is 1.00000000000002087219\n",
      "Current precision is  2.8693047937622396e-11\n",
      "[1.1780972450961724]\n",
      "[1.0491242148033912, 1.0061332047057976]\n",
      "[1.0126927251530808, 1.0005488952696442, 1.0001766079739007]\n",
      "[1.0032025531583884, 1.0000391624934908, 1.000005180308414, 1.0000024592343586]\n",
      "[1.0008025471437383, 1.000002545138855, 1.0000001039818793, 1.0000000234052677, 1.0000000138529967]\n",
      "[1.0002007573240816, 1.0000001607175293, 1.0000000017561075, 1.0000000001334761, 1.0000000000422142, 1.000000000028714]\n",
      "[1.000050196884356, 1.0000000100711142, 1.0000000000280198, 1.00000000000059, 1.0000000000000688, 1.0000000000000278, 1.0000000000000209]\n",
      "[0.0, 0.0, 0.0, 0.0, 0.0, 0.0, 0.0, 0.0]\n",
      "[0.0, 0.0, 0.0, 0.0, 0.0, 0.0, 0.0, 0.0, 0.0]\n",
      "[0.0, 0.0, 0.0, 0.0, 0.0, 0.0, 0.0, 0.0, 0.0, 0.0]\n",
      "Just for fun, here is the result from the Python scipy.integrate.romberg function:\n",
      "Romberg integration of <function vectorize1.<locals>.vfunc at 0x11d0df048> from [0.0, 1.5707963267948966]\n",
      "\n",
      " Steps  StepSize   Results\n",
      "     1  1.570796  1.178097 \n",
      "     2  0.785398  1.049124  1.006133 \n",
      "     4  0.392699  1.012693  1.000549  1.000177 \n",
      "     8  0.196350  1.003203  1.000039  1.000005  1.000002 \n",
      "    16  0.098175  1.000803  1.000003  1.000000  1.000000  1.000000 \n",
      "    32  0.049087  1.000201  1.000000  1.000000  1.000000  1.000000  1.000000 \n",
      "\n",
      "The final result is 1.0000000000287144 after 33 function evaluations.\n",
      "1.00000000\n"
     ]
    }
   ],
   "source": [
    "from numpy import *\n",
    "from scipy import integrate\n",
    "\n",
    "def f(theta):\n",
    "    return 1.0/(1.0+cos(theta))\n",
    "\n",
    "# Weights for trapezoid rule\n",
    "# i: index value of weight [1,N]\n",
    "# h: interval width\n",
    "# N: number of intervals\n",
    "def wTrap(i, h, N):\n",
    "    if (i == 1 or i == N):\n",
    "        wLocal = h/2.0\n",
    "    else:\n",
    "        wLocal = h\n",
    "    return wLocal\n",
    "\n",
    "# Integration with the Trapezoid rule\n",
    "# f: integrand function\n",
    "# a: lower limit of integration\n",
    "# b: upper limit of integration\n",
    "# N: number of points\n",
    "def integrate_trapezoid(f, a, b, N):\n",
    "    sum = 0.0\n",
    "    h = (b - a)/(N - 1)\n",
    "    for i in range(1, N+1):\n",
    "        x = a + (i -1) * h\n",
    "        sum = sum + wTrap(i, h, N) * f(x)\n",
    "#    print(sum)\n",
    "    return sum\n",
    "\n",
    "# T is the triangular array of Romberg results\n",
    "# It is really a list of lists, but we access it like an array\n",
    "T = []\n",
    "for m in range(10):\n",
    "    entries_in_row = []\n",
    "    for k in range(m+1):\n",
    "        entries_in_row.append(0.)\n",
    "    T.append(entries_in_row)\n",
    "\n",
    "current_precision = 1.0\n",
    "for m in range(10):\n",
    "    for k in range(m+1):\n",
    "        # N is number of intervals, not points\n",
    "        N = pow(2,m)\n",
    "        if k == 0:\n",
    "            # The integration function needs number of points, not intervals\n",
    "            T[m][k] = integrate_trapezoid(f, 0.0, pi/2., N+1)\n",
    "        else:\n",
    "            # This is the recursion relation presented in Lecture 4\n",
    "            T[m][k] = (pow(4.,k)*T[m][k-1] - T[m-1][k-1])/(pow(4.,k)-1.)\n",
    "    if (m>0):\n",
    "        current_precision = T[m][k] - T[m-1][k-1]\n",
    "    last_result = T[m][k]\n",
    "    print(\"Last result is %.20f\" % last_result)\n",
    "    print(\"Current precision is \", abs(current_precision))\n",
    "    if (abs(current_precision)<1e-08):\n",
    "        break\n",
    "\n",
    "# Uncomment this block to see the triangular array\n",
    "for row in T:\n",
    "    print(row)\n",
    "    \n",
    "print(\"Just for fun, here is the result from the Python scipy.integrate.romberg function:\")\n",
    "print(\"%.8f\" % integrate.romberg(f, 0.0, pi/2., tol=1.e-10, show=True))"
   ]
  },
  {
   "cell_type": "markdown",
   "metadata": {},
   "source": [
    "Our answer after the final iteration is 1.00000000000002087219.  The accuracy is quite a bit better than $10^{-8}$, but that's because the previous iteration was not quite good enough.\n",
    "\n",
    "The exact answer is indeed $\\int_0^{\\pi/2} \\frac{d\\theta}{1+\\cos\\theta}=1$."
   ]
  },
  {
   "cell_type": "markdown",
   "metadata": {},
   "source": [
    "# Problem 4\n",
    "\n",
    "## (a) Intensity as function of $v$\n",
    "\n",
    "Note that $v$ is the limit of integration and **not** the variable of integration.\n",
    "There do not seem to be any singularities present in these integrals, so we will do this integration with a simple trapezoidal rule algorithm.  The only question is what to use for the number of intervals $N$.  I found that $N=1000$ already gives an accuracy better than 0.1%."
   ]
  },
  {
   "cell_type": "code",
   "execution_count": 9,
   "metadata": {
    "scrolled": true
   },
   "outputs": [
    {
     "name": "stdout",
     "output_type": "stream",
     "text": [
      "0.0 0.25\n",
      "0.01 0.255050262179\n",
      "0.02 0.260202097126\n",
      "0.03 0.265457076072\n",
      "0.04 0.270816767105\n",
      "0.05 0.276282733478\n",
      "...\n",
      "9.95 0.957012541828\n",
      "9.96 0.950619146481\n",
      "9.97 0.948409993321\n",
      "9.98 0.95060354602\n",
      "9.99 0.956989000731\n"
     ]
    }
   ],
   "source": [
    "def fcos(w):\n",
    "    return cos(pi*pow(w,2)/2)\n",
    "\n",
    "def fsin(w):\n",
    "    return sin(pi*pow(w,2)/2)\n",
    "\n",
    "def wTrap(i, h):\n",
    "    if ( (i == 1) or (i == N) ):\n",
    "        wLocal = h/2.0\n",
    "    else:\n",
    "        wLocal = h\n",
    "    return wLocal\n",
    "\n",
    "def integrate_trapezoidal(f, a, b, N):\n",
    "    h = (b - a)/(N - 1)\n",
    "    sum = 0.0\n",
    "    for i in range(1, N + 1):\n",
    "        x = a + (i - 1)*h\n",
    "        w = wTrap(i, h)\n",
    "        sum  = sum + w * f(x)\n",
    "    return sum\n",
    "\n",
    "v_values = []\n",
    "intensity_values = []\n",
    "for v in arange(0.0, 10.0, 0.01):\n",
    "    c = integrate_trapezoidal(fcos, 0.0, v, 1000)\n",
    "    s = integrate_trapezoidal(fsin, 0.0, v, 1000)\n",
    "    intensity_ratio = 0.5*(pow(c+0.5,2) + pow(s+0.5,2))\n",
    "    if v <= 0.05 or v >= 9.95:\n",
    "        print(v, intensity_ratio)\n",
    "    elif v == 1: \n",
    "        print('...')\n",
    "    v_values.append(v)\n",
    "    intensity_values.append(intensity_ratio)\n"
   ]
  },
  {
   "cell_type": "markdown",
   "metadata": {},
   "source": [
    "## (b) Plotting the intensity ratio $I/I_0$\n",
    "\n",
    "The $x$ range is arbitrary.  There needs to be enough range to see the oscillations and the asymptotic approach to $I=I_0$."
   ]
  },
  {
   "cell_type": "code",
   "execution_count": 10,
   "metadata": {},
   "outputs": [
    {
     "data": {
      "image/png": "[encoded data removed]",
      "text/plain": [
       "<matplotlib.figure.Figure at 0x10eca84e0>"
      ]
     },
     "metadata": {},
     "output_type": "display_data"
    }
   ],
   "source": [
    "plt.plot(v_values, intensity_values)\n",
    "plt.xlabel(\"v\")\n",
    "plt.ylabel(\"$I/I_0$\")\n",
    "plt.grid()\n",
    "plt.show()"
   ]
  },
  {
   "cell_type": "markdown",
   "metadata": {},
   "source": [
    "# Problem 5\n",
    "\n",
    "In this derivation, $\\theta$ is the variable coordinate, and $\\theta_m$ is the maximum value it attains.\n",
    "\n",
    "## (a) Derivation\n",
    "\n",
    "The energy $E = \\frac{1}{2} m \\left(l \\dot\\theta \\right)^2 + mgl (1-\\cos\\theta)$ is conserved.\n",
    "Using energy conservation is important, but not completely sufficient for the derivation.\n",
    "\n",
    "At $\\theta=0$, we know $E(\\theta=0) = \\frac{1}{2} m\\left(l \\dot\\theta \\right)^2$.\n",
    "\n",
    "At $\\theta=\\theta_m$, where $\\dot\\theta=0$, we know $E(\\theta=\\theta_m) = mgl (1-\\cos\\theta_m)$.\n",
    "\n",
    "Equating the two expressions for $E$ gives\n",
    "\n",
    "$$\\begin{align}\n",
    "\\frac{1}{2}ml^2 \\left[ \\dot\\theta(0) \\right]^2 &= mgl(1-\\cos\\theta_m) \\\\\n",
    "\\left[ \\dot\\theta(0) \\right]^2 &= \\frac{2g}{l} (1-\\cos\\theta_m)\n",
    "\\end{align}$$\n",
    "\n",
    "We cannot simply integrate this expression for $\\dot\\theta$ to find $\\theta$ because the expression is only correct for $\\theta=0$.\n",
    "\n",
    "Instead, we return to the original equation of motion:\n",
    "$$\\ddot\\theta = -\\frac{g}{l}\\sin\\theta$$\n",
    "\n",
    "In order to integrate this expression, we first multiply both sides by $\\dot\\theta$.  Then we can integrate as follows:\n",
    "\n",
    "$$\\begin{align}\n",
    "\\int \\ddot\\theta \\dot\\theta\\ dt &= \\int \\frac{-g}{l} \\sin\\theta \\dot\\theta \\ dt \\\\\n",
    "\\frac{1}{2} {\\dot\\theta}^2 &= \\frac{g}{l} \\cos\\theta + C \\\\\n",
    "\\left[ \\dot\\theta \\right]^2 &= \\frac{2g}{l} \\cos\\theta + C\n",
    "\\end{align}$$\n",
    "\n",
    "To find $C$, we use the known value of $\\dot\\theta(\\theta=0)$:\n",
    "$$\\begin{align}\n",
    "\\left[ \\dot\\theta(\\theta=0) \\right]^2 &= \\frac{2g}{l} + C \\\\\n",
    "\\frac{2g}{l} (1-\\cos\\theta_m) &= \\frac{2g}{l} + C \\\\\n",
    "\\frac{-2g}{l} \\cos\\theta_m &= C\n",
    "\\end{align}$$\n",
    "where we have inserted the known value from above.\n",
    "\n",
    "With this constant, we can summarize $\\dot\\theta$:\n",
    "$$\\begin{align}\n",
    "\\dot\\theta (\\theta) &= \\sqrt{\\frac{2g}{l} (\\cos\\theta - \\cos\\theta_m)} \\\\\n",
    "&= \\frac{2\\pi\\sqrt{2}}{T_0} \\sqrt{(\\cos\\theta - \\cos\\theta_m)}\n",
    "\\end{align}$$\n",
    "\n",
    "Now that we have the expression for $\\dot\\theta$ for all $\\theta$, we can integrate to find the time for the pendulum to swing from $\\theta=0$ to $\\theta=\\theta_m$.  This should be a quarter of the total period.\n",
    "\n",
    "$$\\begin{align}\n",
    "\\frac{1}{4} T &= \\int_{t_1}^{t_2} \\dot\\theta dt \\\\\n",
    "\\frac{1}{4} \\frac{T(\\theta_m)}{T_0} &= \\frac{1}{2\\pi\\sqrt{2}} \\int_0^{\\theta_m} \\frac{d\\theta}{\\sqrt{\\cos\\theta - \\cos\\theta_m}} \\\\\n",
    "\\frac{T(\\theta_m)}{T_0} &= \\frac{\\sqrt{2}}{\\pi} \\int_0^{\\theta_m} \\frac{d\\theta}{\\sqrt{\\cos\\theta - \\cos\\theta_m}}\n",
    "\\end{align}$$\n",
    "\n",
    "## (b) Recasting the Integral\n",
    "\n",
    "We start with the result from part (a) and make the substitutions $\\cos\\theta = 1-2\\sin^2(\\theta/2)$ and then $\\sin(\\theta/2) = \\sin\\psi \\sin(\\theta_m/2)$:\n",
    "\n",
    "$$\n",
    "\\begin{align}\n",
    "\\frac{\\sqrt{2}}{\\pi} \\int_0^{\\theta_m} \\frac{d\\theta}{\\sqrt{\\cos\\theta - \\cos\\theta_m}} &=\n",
    "\\frac{\\sqrt{2}}{\\pi} \\int_0^{\\theta_m} \\frac{d\\theta}{\\sqrt{-2\\sin^2(\\theta/2) + 2\\sin^2(\\theta_m/2)}}\\\\\n",
    "&= \\frac{\\sqrt{2}}{\\pi} \\int_0^{\\theta_m} \\frac{d\\theta}{\\sqrt{2\\sin^2(\\theta_m/2) - 2\\sin^2(\\theta_m/2)\\sin^2\\psi}} \\\\\n",
    "\\end{align}\n",
    "$$\n",
    "\n",
    "The second substitution helps us change variables from $\\theta$ to $\\psi$:\n",
    "\n",
    "$$\n",
    "\\begin{align}\n",
    "\\frac{d}{d\\psi} \\left[\\sin(\\theta_m/2) \\sin\\psi \\right] &= \\frac{d}{d\\psi} sin(\\theta/2) \\\\\n",
    "\\sin(\\theta_m/2) \\cos\\psi &= \\cos(\\theta/2) \\frac{1}{2} \\frac{d\\theta}{d\\psi} \\\\\n",
    "2 \\sin(\\theta_m/2) \\cos\\psi \\ d\\psi &= d\\theta \\\\\n",
    "\\end{align}\n",
    "$$\n",
    "\n",
    "All that remains is to simplify:\n",
    "$$\\begin{align}\n",
    "\\frac{\\sqrt{2}}{\\pi} \\int_0^{\\theta_m} \\frac{d\\theta}{\\sqrt{2\\sin^2(\\theta_m/2) - 2\\sin^2(\\theta_m/2)\\sin^2\\psi}} &= \\frac{\\sqrt{2}}{\\pi} \\int_0^{\\pi/2} \\frac{2\\sin(\\theta_m/2)\\cos\\psi\\ d\\psi}{\\cos(\\theta/2) \\sqrt{2\\sin^2(\\theta_m/2)(1-\\sin^2\\psi)}} \\\\\n",
    "&= \\frac{\\sqrt{2}}{\\pi} \\int_0^{\\pi/2} \\frac{\\sqrt{2} \\cos\\psi\\ d\\psi}{\\cos(\\theta/2) \\sqrt{1-\\sin^2\\psi}} \\\\\n",
    "&= \\frac{2}{\\pi} \\int_0^{\\pi/2} \\frac{d\\psi}{\\cos(\\theta/2)} \\\\\n",
    "&= \\frac{2}{\\pi} \\int_0^{\\pi/2} \\frac{d\\psi}{\\sqrt{1-\\sin^2(\\theta/2)}} \\\\\n",
    "\\frac{T(\\theta_m)}{T_0} &= \\frac{2}{\\pi} \\int_0^{\\pi/2} \\frac{d\\psi}{\\sqrt{1-\\sin^2(\\theta_m/2)\\sin^2\\psi}}\n",
    "\\end{align}$$\n",
    "\n",
    "\n",
    "## (c) Numerical Evaluation\n",
    "\n",
    "There are no singularities in this integrand, as long as we do not consider the extreme case of $\\theta_m = \\pi$.  Therefore, we can perform a simple integration with Simpson's rule.  I use a rather large number for $N$ because it does not take long."
   ]
  },
  {
   "cell_type": "code",
   "execution_count": 11,
   "metadata": {},
   "outputs": [
    {
     "name": "stdout",
     "output_type": "stream",
     "text": [
      "For theta_m = 0.100, T/T_0 = 1.000\n",
      "For theta_m = 0.200, T/T_0 = 1.002\n",
      "For theta_m = 0.785, T/T_0 = 1.039\n",
      "For theta_m = 1.571, T/T_0 = 1.180\n",
      "For theta_m = 2.356, T/T_0 = 1.528\n"
     ]
    }
   ],
   "source": [
    "def f(psi, theta_m):\n",
    "    denominator = sqrt(1 - pow(sin(theta_m/2.),2) * pow(sin(psi),2))\n",
    "    return 1./denominator\n",
    "\n",
    "def wSimpson(i, h):                            \n",
    "    if ( (i == 1) or (i == N) ):\n",
    "        wTotal = h/3.0\n",
    "    elif (i%2 == 0):\n",
    "        # Even i\n",
    "        wTotal = 4.*h/3.0\n",
    "    else:\n",
    "        # Odd i\n",
    "        wTotal = 2.*h/3.0\n",
    "    return wTotal\n",
    "\n",
    "def integrate_simpson(f, theta_m, a, b, N):\n",
    "    # N is number of points, not intervals.  It must be odd.\n",
    "    if (N%2 == 0):\n",
    "        N += 1\n",
    "    h = (b - a)/(N - 1)\n",
    "    sum = 0.0\n",
    "    for i in range(1, N + 1):\n",
    "        psi = a + (i - 1)*h\n",
    "        w = wSimpson(i, h)\n",
    "        sum  = sum + w * f(psi, theta_m)\n",
    "    return sum\n",
    "\n",
    "for theta_m in (0.1, 0.2, pi/4., pi/2., 3.*pi/4.):\n",
    "    integral = integrate_simpson(f, theta_m, 0.0, pi/2., 1000)\n",
    "    print(\"For theta_m = %.3f, T/T_0 = %.3f\" % (theta_m, 2./pi * integral))\n"
   ]
  },
  {
   "cell_type": "markdown",
   "metadata": {},
   "source": [
    "## (d) Limits of Small-angle Approximation\n",
    "\n",
    "We can see that $\\theta_m > \\pi/4$ results in a period more than 1% different from $T_0$, the result from the small-angle approximation.  But where is the threshold where the variation is exactly 1%?\n",
    "\n",
    "To find this, we scan the value of `theta_m` and recalculate $T/T_0$."
   ]
  },
  {
   "cell_type": "code",
   "execution_count": 12,
   "metadata": {},
   "outputs": [
    {
     "name": "stdout",
     "output_type": "stream",
     "text": [
      "For theta_m = 0.200, T/T_0 = 1.00184\n",
      "For theta_m = 0.250, T/T_0 = 1.00326\n",
      "For theta_m = 0.300, T/T_0 = 1.00499\n",
      "For theta_m = 0.350, T/T_0 = 1.00705\n",
      "For theta_m = 0.400, T/T_0 = 1.00943\n",
      "For theta_m = 0.450, T/T_0 = 1.01215\n",
      "For theta_m = 0.500, T/T_0 = 1.01520\n",
      "For theta_m = 0.550, T/T_0 = 1.01859\n",
      "For theta_m = 0.600, T/T_0 = 1.02232\n",
      "For theta_m = 0.650, T/T_0 = 1.02641\n",
      "For theta_m = 0.700, T/T_0 = 1.03087\n",
      "For theta_m = 0.750, T/T_0 = 1.03569\n"
     ]
    }
   ],
   "source": [
    "for theta_m in arange(0.2, pi/4., 0.05):\n",
    "    integral = integrate_simpson(f, theta_m, 0.0, pi/2., 1000)\n",
    "    print(\"For theta_m = %.3f, T/T_0 = %.5f\" % (theta_m, 2./pi * integral))"
   ]
  },
  {
   "cell_type": "markdown",
   "metadata": {},
   "source": [
    "The amplitude differs by more than 1% from $T_0$ when $\\theta_m > 0.40$."
   ]
  },
  {
   "cell_type": "code",
   "execution_count": null,
   "metadata": {
    "collapsed": true
   },
   "outputs": [],
   "source": []
  }
 ],
 "metadata": {
  "anaconda-cloud": {},
  "kernelspec": {
   "display_name": "Python 3",
   "language": "python",
   "name": "python3"
  },
  "language_info": {
   "codemirror_mode": {
    "name": "ipython",
    "version": 3
   },
   "file_extension": ".py",
   "mimetype": "text/x-python",
   "name": "python",
   "nbconvert_exporter": "python",
   "pygments_lexer": "ipython3",
   "version": "3.5.5"
  }
 },
 "nbformat": 4,
 "nbformat_minor": 1
}
